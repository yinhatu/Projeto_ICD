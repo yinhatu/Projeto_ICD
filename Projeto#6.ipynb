{
 "cells": [
  {
   "cell_type": "markdown",
   "id": "exposed-auditor",
   "metadata": {},
   "source": [
    "# Projeto de Introdução à Ciência de Dados\n",
    "\n",
    "### Grupo: \n",
    "Roberto Fernando da Silva Souza; Joyce Moreno dos Santos"
   ]
  },
  {
   "cell_type": "markdown",
   "id": "assured-shooting",
   "metadata": {},
   "source": [
    "### Dados 1: Estudo da saúde e desenvolvimento infantil."
   ]
  },
  {
   "cell_type": "code",
   "execution_count": 1,
   "id": "cardiac-source",
   "metadata": {},
   "outputs": [],
   "source": [
    "import pandas as pd"
   ]
  },
  {
   "cell_type": "code",
   "execution_count": 2,
   "id": "pursuant-installation",
   "metadata": {
    "scrolled": true
   },
   "outputs": [
    {
     "data": {
      "text/html": [
       "<div>\n",
       "<style scoped>\n",
       "    .dataframe tbody tr th:only-of-type {\n",
       "        vertical-align: middle;\n",
       "    }\n",
       "\n",
       "    .dataframe tbody tr th {\n",
       "        vertical-align: top;\n",
       "    }\n",
       "\n",
       "    .dataframe thead th {\n",
       "        text-align: right;\n",
       "    }\n",
       "</style>\n",
       "<table border=\"1\" class=\"dataframe\">\n",
       "  <thead>\n",
       "    <tr style=\"text-align: right;\">\n",
       "      <th></th>\n",
       "      <th>case</th>\n",
       "      <th>bwt</th>\n",
       "      <th>gestation</th>\n",
       "      <th>parity</th>\n",
       "      <th>age</th>\n",
       "      <th>height</th>\n",
       "      <th>weight</th>\n",
       "      <th>smoke</th>\n",
       "    </tr>\n",
       "  </thead>\n",
       "  <tbody>\n",
       "    <tr>\n",
       "      <th>0</th>\n",
       "      <td>1</td>\n",
       "      <td>120</td>\n",
       "      <td>284.0</td>\n",
       "      <td>0</td>\n",
       "      <td>27.0</td>\n",
       "      <td>62.0</td>\n",
       "      <td>100.0</td>\n",
       "      <td>0.0</td>\n",
       "    </tr>\n",
       "    <tr>\n",
       "      <th>1</th>\n",
       "      <td>2</td>\n",
       "      <td>113</td>\n",
       "      <td>282.0</td>\n",
       "      <td>0</td>\n",
       "      <td>33.0</td>\n",
       "      <td>64.0</td>\n",
       "      <td>135.0</td>\n",
       "      <td>0.0</td>\n",
       "    </tr>\n",
       "    <tr>\n",
       "      <th>2</th>\n",
       "      <td>3</td>\n",
       "      <td>128</td>\n",
       "      <td>279.0</td>\n",
       "      <td>0</td>\n",
       "      <td>28.0</td>\n",
       "      <td>64.0</td>\n",
       "      <td>115.0</td>\n",
       "      <td>1.0</td>\n",
       "    </tr>\n",
       "    <tr>\n",
       "      <th>3</th>\n",
       "      <td>4</td>\n",
       "      <td>123</td>\n",
       "      <td>NaN</td>\n",
       "      <td>0</td>\n",
       "      <td>36.0</td>\n",
       "      <td>69.0</td>\n",
       "      <td>190.0</td>\n",
       "      <td>0.0</td>\n",
       "    </tr>\n",
       "    <tr>\n",
       "      <th>4</th>\n",
       "      <td>5</td>\n",
       "      <td>108</td>\n",
       "      <td>282.0</td>\n",
       "      <td>0</td>\n",
       "      <td>23.0</td>\n",
       "      <td>67.0</td>\n",
       "      <td>125.0</td>\n",
       "      <td>1.0</td>\n",
       "    </tr>\n",
       "    <tr>\n",
       "      <th>...</th>\n",
       "      <td>...</td>\n",
       "      <td>...</td>\n",
       "      <td>...</td>\n",
       "      <td>...</td>\n",
       "      <td>...</td>\n",
       "      <td>...</td>\n",
       "      <td>...</td>\n",
       "      <td>...</td>\n",
       "    </tr>\n",
       "    <tr>\n",
       "      <th>1231</th>\n",
       "      <td>1232</td>\n",
       "      <td>113</td>\n",
       "      <td>275.0</td>\n",
       "      <td>1</td>\n",
       "      <td>27.0</td>\n",
       "      <td>60.0</td>\n",
       "      <td>100.0</td>\n",
       "      <td>0.0</td>\n",
       "    </tr>\n",
       "    <tr>\n",
       "      <th>1232</th>\n",
       "      <td>1233</td>\n",
       "      <td>128</td>\n",
       "      <td>265.0</td>\n",
       "      <td>0</td>\n",
       "      <td>24.0</td>\n",
       "      <td>67.0</td>\n",
       "      <td>120.0</td>\n",
       "      <td>0.0</td>\n",
       "    </tr>\n",
       "    <tr>\n",
       "      <th>1233</th>\n",
       "      <td>1234</td>\n",
       "      <td>130</td>\n",
       "      <td>291.0</td>\n",
       "      <td>0</td>\n",
       "      <td>30.0</td>\n",
       "      <td>65.0</td>\n",
       "      <td>150.0</td>\n",
       "      <td>1.0</td>\n",
       "    </tr>\n",
       "    <tr>\n",
       "      <th>1234</th>\n",
       "      <td>1235</td>\n",
       "      <td>125</td>\n",
       "      <td>281.0</td>\n",
       "      <td>1</td>\n",
       "      <td>21.0</td>\n",
       "      <td>65.0</td>\n",
       "      <td>110.0</td>\n",
       "      <td>0.0</td>\n",
       "    </tr>\n",
       "    <tr>\n",
       "      <th>1235</th>\n",
       "      <td>1236</td>\n",
       "      <td>117</td>\n",
       "      <td>297.0</td>\n",
       "      <td>0</td>\n",
       "      <td>38.0</td>\n",
       "      <td>65.0</td>\n",
       "      <td>129.0</td>\n",
       "      <td>0.0</td>\n",
       "    </tr>\n",
       "  </tbody>\n",
       "</table>\n",
       "<p>1236 rows × 8 columns</p>\n",
       "</div>"
      ],
      "text/plain": [
       "      case  bwt  gestation  parity   age  height  weight  smoke\n",
       "0        1  120      284.0       0  27.0    62.0   100.0    0.0\n",
       "1        2  113      282.0       0  33.0    64.0   135.0    0.0\n",
       "2        3  128      279.0       0  28.0    64.0   115.0    1.0\n",
       "3        4  123        NaN       0  36.0    69.0   190.0    0.0\n",
       "4        5  108      282.0       0  23.0    67.0   125.0    1.0\n",
       "...    ...  ...        ...     ...   ...     ...     ...    ...\n",
       "1231  1232  113      275.0       1  27.0    60.0   100.0    0.0\n",
       "1232  1233  128      265.0       0  24.0    67.0   120.0    0.0\n",
       "1233  1234  130      291.0       0  30.0    65.0   150.0    1.0\n",
       "1234  1235  125      281.0       1  21.0    65.0   110.0    0.0\n",
       "1235  1236  117      297.0       0  38.0    65.0   129.0    0.0\n",
       "\n",
       "[1236 rows x 8 columns]"
      ]
     },
     "execution_count": 2,
     "metadata": {},
     "output_type": "execute_result"
    }
   ],
   "source": [
    "babies_df = pd.read_csv(\"babies.csv\")\n",
    "babies_df"
   ]
  },
  {
   "cell_type": "markdown",
   "id": "decreased-roulette",
   "metadata": {},
   "source": [
    "### Idade das mães"
   ]
  },
  {
   "cell_type": "code",
   "execution_count": 3,
   "id": "acceptable-slovakia",
   "metadata": {},
   "outputs": [
    {
     "data": {
      "text/plain": [
       "27.255267423014587"
      ]
     },
     "execution_count": 3,
     "metadata": {},
     "output_type": "execute_result"
    }
   ],
   "source": [
    "babies_df[\"age\"].mean() #média"
   ]
  },
  {
   "cell_type": "code",
   "execution_count": 4,
   "id": "seeing-sandwich",
   "metadata": {},
   "outputs": [
    {
     "data": {
      "text/plain": [
       "5.781405349891055"
      ]
     },
     "execution_count": 4,
     "metadata": {},
     "output_type": "execute_result"
    }
   ],
   "source": [
    "babies_df[\"age\"].std() #desvio padrão"
   ]
  },
  {
   "cell_type": "code",
   "execution_count": 5,
   "id": "identical-clinic",
   "metadata": {
    "scrolled": true
   },
   "outputs": [
    {
     "data": {
      "text/plain": [
       "26.0"
      ]
     },
     "execution_count": 5,
     "metadata": {},
     "output_type": "execute_result"
    }
   ],
   "source": [
    "babies_df[\"age\"].median() #mediana"
   ]
  },
  {
   "cell_type": "markdown",
   "id": "mechanical-sleeping",
   "metadata": {},
   "source": [
    "### Dias de gestação"
   ]
  },
  {
   "cell_type": "code",
   "execution_count": 6,
   "id": "sealed-bundle",
   "metadata": {
    "scrolled": true
   },
   "outputs": [
    {
     "data": {
      "text/plain": [
       "279.3385118560916"
      ]
     },
     "execution_count": 6,
     "metadata": {},
     "output_type": "execute_result"
    }
   ],
   "source": [
    "babies_df[\"gestation\"].mean()"
   ]
  },
  {
   "cell_type": "code",
   "execution_count": 7,
   "id": "supposed-factor",
   "metadata": {},
   "outputs": [
    {
     "data": {
      "text/plain": [
       "16.027693302898147"
      ]
     },
     "execution_count": 7,
     "metadata": {},
     "output_type": "execute_result"
    }
   ],
   "source": [
    "babies_df[\"gestation\"].std()"
   ]
  },
  {
   "cell_type": "code",
   "execution_count": 8,
   "id": "postal-concern",
   "metadata": {
    "scrolled": false
   },
   "outputs": [
    {
     "data": {
      "text/plain": [
       "280.0"
      ]
     },
     "execution_count": 8,
     "metadata": {},
     "output_type": "execute_result"
    }
   ],
   "source": [
    "babies_df[\"gestation\"].median()"
   ]
  },
  {
   "cell_type": "markdown",
   "id": "hollow-justice",
   "metadata": {},
   "source": [
    "### Dados 2: Hábitos e práticas de gestantes e seus filhos."
   ]
  },
  {
   "cell_type": "code",
   "execution_count": 9,
   "id": "weighted-yorkshire",
   "metadata": {
    "scrolled": false
   },
   "outputs": [
    {
     "data": {
      "text/html": [
       "<div>\n",
       "<style scoped>\n",
       "    .dataframe tbody tr th:only-of-type {\n",
       "        vertical-align: middle;\n",
       "    }\n",
       "\n",
       "    .dataframe tbody tr th {\n",
       "        vertical-align: top;\n",
       "    }\n",
       "\n",
       "    .dataframe thead th {\n",
       "        text-align: right;\n",
       "    }\n",
       "</style>\n",
       "<table border=\"1\" class=\"dataframe\">\n",
       "  <thead>\n",
       "    <tr style=\"text-align: right;\">\n",
       "      <th></th>\n",
       "      <th>fage</th>\n",
       "      <th>mage</th>\n",
       "      <th>mature</th>\n",
       "      <th>weeks</th>\n",
       "      <th>premie</th>\n",
       "      <th>visits</th>\n",
       "      <th>gained</th>\n",
       "      <th>weight</th>\n",
       "      <th>lowbirthweight</th>\n",
       "      <th>sex</th>\n",
       "      <th>habit</th>\n",
       "      <th>marital</th>\n",
       "      <th>whitemom</th>\n",
       "    </tr>\n",
       "  </thead>\n",
       "  <tbody>\n",
       "    <tr>\n",
       "      <th>0</th>\n",
       "      <td>34.0</td>\n",
       "      <td>34</td>\n",
       "      <td>younger mom</td>\n",
       "      <td>37</td>\n",
       "      <td>full term</td>\n",
       "      <td>14.0</td>\n",
       "      <td>28.0</td>\n",
       "      <td>6.96</td>\n",
       "      <td>not low</td>\n",
       "      <td>male</td>\n",
       "      <td>nonsmoker</td>\n",
       "      <td>married</td>\n",
       "      <td>white</td>\n",
       "    </tr>\n",
       "    <tr>\n",
       "      <th>1</th>\n",
       "      <td>36.0</td>\n",
       "      <td>31</td>\n",
       "      <td>younger mom</td>\n",
       "      <td>41</td>\n",
       "      <td>full term</td>\n",
       "      <td>12.0</td>\n",
       "      <td>41.0</td>\n",
       "      <td>8.86</td>\n",
       "      <td>not low</td>\n",
       "      <td>female</td>\n",
       "      <td>nonsmoker</td>\n",
       "      <td>married</td>\n",
       "      <td>white</td>\n",
       "    </tr>\n",
       "    <tr>\n",
       "      <th>2</th>\n",
       "      <td>37.0</td>\n",
       "      <td>36</td>\n",
       "      <td>mature mom</td>\n",
       "      <td>37</td>\n",
       "      <td>full term</td>\n",
       "      <td>10.0</td>\n",
       "      <td>28.0</td>\n",
       "      <td>7.51</td>\n",
       "      <td>not low</td>\n",
       "      <td>female</td>\n",
       "      <td>nonsmoker</td>\n",
       "      <td>married</td>\n",
       "      <td>not white</td>\n",
       "    </tr>\n",
       "    <tr>\n",
       "      <th>3</th>\n",
       "      <td>NaN</td>\n",
       "      <td>16</td>\n",
       "      <td>younger mom</td>\n",
       "      <td>38</td>\n",
       "      <td>full term</td>\n",
       "      <td>NaN</td>\n",
       "      <td>29.0</td>\n",
       "      <td>6.19</td>\n",
       "      <td>not low</td>\n",
       "      <td>male</td>\n",
       "      <td>nonsmoker</td>\n",
       "      <td>not married</td>\n",
       "      <td>white</td>\n",
       "    </tr>\n",
       "    <tr>\n",
       "      <th>4</th>\n",
       "      <td>32.0</td>\n",
       "      <td>31</td>\n",
       "      <td>younger mom</td>\n",
       "      <td>36</td>\n",
       "      <td>premie</td>\n",
       "      <td>12.0</td>\n",
       "      <td>48.0</td>\n",
       "      <td>6.75</td>\n",
       "      <td>not low</td>\n",
       "      <td>female</td>\n",
       "      <td>nonsmoker</td>\n",
       "      <td>married</td>\n",
       "      <td>white</td>\n",
       "    </tr>\n",
       "    <tr>\n",
       "      <th>...</th>\n",
       "      <td>...</td>\n",
       "      <td>...</td>\n",
       "      <td>...</td>\n",
       "      <td>...</td>\n",
       "      <td>...</td>\n",
       "      <td>...</td>\n",
       "      <td>...</td>\n",
       "      <td>...</td>\n",
       "      <td>...</td>\n",
       "      <td>...</td>\n",
       "      <td>...</td>\n",
       "      <td>...</td>\n",
       "      <td>...</td>\n",
       "    </tr>\n",
       "    <tr>\n",
       "      <th>995</th>\n",
       "      <td>28.0</td>\n",
       "      <td>24</td>\n",
       "      <td>younger mom</td>\n",
       "      <td>39</td>\n",
       "      <td>full term</td>\n",
       "      <td>NaN</td>\n",
       "      <td>20.0</td>\n",
       "      <td>6.49</td>\n",
       "      <td>not low</td>\n",
       "      <td>male</td>\n",
       "      <td>NaN</td>\n",
       "      <td>not married</td>\n",
       "      <td>not white</td>\n",
       "    </tr>\n",
       "    <tr>\n",
       "      <th>996</th>\n",
       "      <td>37.0</td>\n",
       "      <td>31</td>\n",
       "      <td>younger mom</td>\n",
       "      <td>38</td>\n",
       "      <td>full term</td>\n",
       "      <td>8.0</td>\n",
       "      <td>33.0</td>\n",
       "      <td>5.80</td>\n",
       "      <td>not low</td>\n",
       "      <td>female</td>\n",
       "      <td>nonsmoker</td>\n",
       "      <td>married</td>\n",
       "      <td>white</td>\n",
       "    </tr>\n",
       "    <tr>\n",
       "      <th>997</th>\n",
       "      <td>27.0</td>\n",
       "      <td>27</td>\n",
       "      <td>younger mom</td>\n",
       "      <td>34</td>\n",
       "      <td>premie</td>\n",
       "      <td>7.0</td>\n",
       "      <td>25.0</td>\n",
       "      <td>6.75</td>\n",
       "      <td>not low</td>\n",
       "      <td>female</td>\n",
       "      <td>nonsmoker</td>\n",
       "      <td>married</td>\n",
       "      <td>white</td>\n",
       "    </tr>\n",
       "    <tr>\n",
       "      <th>998</th>\n",
       "      <td>NaN</td>\n",
       "      <td>33</td>\n",
       "      <td>younger mom</td>\n",
       "      <td>42</td>\n",
       "      <td>full term</td>\n",
       "      <td>0.0</td>\n",
       "      <td>13.0</td>\n",
       "      <td>7.44</td>\n",
       "      <td>not low</td>\n",
       "      <td>male</td>\n",
       "      <td>nonsmoker</td>\n",
       "      <td>not married</td>\n",
       "      <td>white</td>\n",
       "    </tr>\n",
       "    <tr>\n",
       "      <th>999</th>\n",
       "      <td>21.0</td>\n",
       "      <td>17</td>\n",
       "      <td>younger mom</td>\n",
       "      <td>41</td>\n",
       "      <td>full term</td>\n",
       "      <td>12.0</td>\n",
       "      <td>41.0</td>\n",
       "      <td>7.13</td>\n",
       "      <td>not low</td>\n",
       "      <td>female</td>\n",
       "      <td>nonsmoker</td>\n",
       "      <td>not married</td>\n",
       "      <td>white</td>\n",
       "    </tr>\n",
       "  </tbody>\n",
       "</table>\n",
       "<p>1000 rows × 13 columns</p>\n",
       "</div>"
      ],
      "text/plain": [
       "     fage  mage       mature  weeks     premie  visits  gained  weight  \\\n",
       "0    34.0    34  younger mom     37  full term    14.0    28.0    6.96   \n",
       "1    36.0    31  younger mom     41  full term    12.0    41.0    8.86   \n",
       "2    37.0    36   mature mom     37  full term    10.0    28.0    7.51   \n",
       "3     NaN    16  younger mom     38  full term     NaN    29.0    6.19   \n",
       "4    32.0    31  younger mom     36     premie    12.0    48.0    6.75   \n",
       "..    ...   ...          ...    ...        ...     ...     ...     ...   \n",
       "995  28.0    24  younger mom     39  full term     NaN    20.0    6.49   \n",
       "996  37.0    31  younger mom     38  full term     8.0    33.0    5.80   \n",
       "997  27.0    27  younger mom     34     premie     7.0    25.0    6.75   \n",
       "998   NaN    33  younger mom     42  full term     0.0    13.0    7.44   \n",
       "999  21.0    17  younger mom     41  full term    12.0    41.0    7.13   \n",
       "\n",
       "    lowbirthweight     sex      habit      marital   whitemom  \n",
       "0          not low    male  nonsmoker      married      white  \n",
       "1          not low  female  nonsmoker      married      white  \n",
       "2          not low  female  nonsmoker      married  not white  \n",
       "3          not low    male  nonsmoker  not married      white  \n",
       "4          not low  female  nonsmoker      married      white  \n",
       "..             ...     ...        ...          ...        ...  \n",
       "995        not low    male        NaN  not married  not white  \n",
       "996        not low  female  nonsmoker      married      white  \n",
       "997        not low  female  nonsmoker      married      white  \n",
       "998        not low    male  nonsmoker  not married      white  \n",
       "999        not low  female  nonsmoker  not married      white  \n",
       "\n",
       "[1000 rows x 13 columns]"
      ]
     },
     "execution_count": 9,
     "metadata": {},
     "output_type": "execute_result"
    }
   ],
   "source": [
    "births_df = pd.read_csv(\"births14.csv\")\n",
    "births_df"
   ]
  },
  {
   "cell_type": "markdown",
   "id": "prostate-sunday",
   "metadata": {},
   "source": [
    "### Idade do pai e da mãe"
   ]
  },
  {
   "cell_type": "code",
   "execution_count": 10,
   "id": "weekly-webmaster",
   "metadata": {},
   "outputs": [
    {
     "data": {
      "text/plain": [
       "31.13318284424379"
      ]
     },
     "execution_count": 10,
     "metadata": {},
     "output_type": "execute_result"
    }
   ],
   "source": [
    "births_df[\"fage\"].mean()"
   ]
  },
  {
   "cell_type": "code",
   "execution_count": 11,
   "id": "desirable-devices",
   "metadata": {},
   "outputs": [
    {
     "data": {
      "text/plain": [
       "7.05813506076653"
      ]
     },
     "execution_count": 11,
     "metadata": {},
     "output_type": "execute_result"
    }
   ],
   "source": [
    "births_df[\"fage\"].std()"
   ]
  },
  {
   "cell_type": "code",
   "execution_count": 12,
   "id": "contemporary-nutrition",
   "metadata": {},
   "outputs": [
    {
     "data": {
      "text/plain": [
       "31.0"
      ]
     },
     "execution_count": 12,
     "metadata": {},
     "output_type": "execute_result"
    }
   ],
   "source": [
    "births_df[\"fage\"].median()"
   ]
  },
  {
   "cell_type": "code",
   "execution_count": 13,
   "id": "afraid-essence",
   "metadata": {},
   "outputs": [
    {
     "data": {
      "text/plain": [
       "28.449"
      ]
     },
     "execution_count": 13,
     "metadata": {},
     "output_type": "execute_result"
    }
   ],
   "source": [
    "births_df[\"mage\"].mean()"
   ]
  },
  {
   "cell_type": "code",
   "execution_count": 14,
   "id": "confused-practice",
   "metadata": {},
   "outputs": [
    {
     "data": {
      "text/plain": [
       "5.7597372833813845"
      ]
     },
     "execution_count": 14,
     "metadata": {},
     "output_type": "execute_result"
    }
   ],
   "source": [
    "births_df[\"mage\"].std()"
   ]
  },
  {
   "cell_type": "code",
   "execution_count": 15,
   "id": "celtic-crossing",
   "metadata": {},
   "outputs": [
    {
     "data": {
      "text/plain": [
       "28.0"
      ]
     },
     "execution_count": 15,
     "metadata": {},
     "output_type": "execute_result"
    }
   ],
   "source": [
    "births_df[\"mage\"].median()"
   ]
  },
  {
   "cell_type": "markdown",
   "id": "inappropriate-interaction",
   "metadata": {},
   "source": [
    "### Semanas de gestação"
   ]
  },
  {
   "cell_type": "code",
   "execution_count": 16,
   "id": "dynamic-chess",
   "metadata": {},
   "outputs": [
    {
     "data": {
      "text/plain": [
       "38.666"
      ]
     },
     "execution_count": 16,
     "metadata": {},
     "output_type": "execute_result"
    }
   ],
   "source": [
    "births_df[\"weeks\"].mean()"
   ]
  },
  {
   "cell_type": "code",
   "execution_count": 17,
   "id": "deluxe-grammar",
   "metadata": {},
   "outputs": [
    {
     "data": {
      "text/plain": [
       "2.5649606279674204"
      ]
     },
     "execution_count": 17,
     "metadata": {},
     "output_type": "execute_result"
    }
   ],
   "source": [
    "births_df[\"weeks\"].std()"
   ]
  },
  {
   "cell_type": "code",
   "execution_count": 18,
   "id": "introductory-definition",
   "metadata": {},
   "outputs": [
    {
     "data": {
      "text/plain": [
       "39.0"
      ]
     },
     "execution_count": 18,
     "metadata": {},
     "output_type": "execute_result"
    }
   ],
   "source": [
    "births_df[\"weeks\"].median()"
   ]
  },
  {
   "cell_type": "markdown",
   "id": "special-princeton",
   "metadata": {},
   "source": [
    "### Dados 3: CCG data - Bebês nascidos com baixo peso."
   ]
  },
  {
   "cell_type": "code",
   "execution_count": 19,
   "id": "careful-contents",
   "metadata": {},
   "outputs": [],
   "source": [
    "lowbirth_df = pd.read_csv(\"low_birth.csv\")"
   ]
  },
  {
   "cell_type": "code",
   "execution_count": 20,
   "id": "tamil-mention",
   "metadata": {},
   "outputs": [
    {
     "data": {
      "text/html": [
       "<div>\n",
       "<style scoped>\n",
       "    .dataframe tbody tr th:only-of-type {\n",
       "        vertical-align: middle;\n",
       "    }\n",
       "\n",
       "    .dataframe tbody tr th {\n",
       "        vertical-align: top;\n",
       "    }\n",
       "\n",
       "    .dataframe thead th {\n",
       "        text-align: right;\n",
       "    }\n",
       "</style>\n",
       "<table border=\"1\" class=\"dataframe\">\n",
       "  <thead>\n",
       "    <tr style=\"text-align: right;\">\n",
       "      <th></th>\n",
       "      <th>Reporting period</th>\n",
       "      <th>Period of coverage</th>\n",
       "      <th>Breakdown</th>\n",
       "      <th>ONS code</th>\n",
       "      <th>Level</th>\n",
       "      <th>Level description</th>\n",
       "      <th>Indicator value</th>\n",
       "      <th>CI lower</th>\n",
       "      <th>CI upper</th>\n",
       "      <th>Denominator</th>\n",
       "      <th>Numerator</th>\n",
       "    </tr>\n",
       "  </thead>\n",
       "  <tbody>\n",
       "    <tr>\n",
       "      <th>0</th>\n",
       "      <td>2017</td>\n",
       "      <td>01/01/2017 to 31/12/2017</td>\n",
       "      <td>National</td>\n",
       "      <td>E92000001</td>\n",
       "      <td>England</td>\n",
       "      <td>Resident in England</td>\n",
       "      <td>2.8</td>\n",
       "      <td>2.8</td>\n",
       "      <td>2.9</td>\n",
       "      <td>586,452</td>\n",
       "      <td>16,534</td>\n",
       "    </tr>\n",
       "    <tr>\n",
       "      <th>1</th>\n",
       "      <td>2016</td>\n",
       "      <td>01/01/2016 to 31/12/2016</td>\n",
       "      <td>National</td>\n",
       "      <td>E92000001</td>\n",
       "      <td>England</td>\n",
       "      <td>Resident in England</td>\n",
       "      <td>2.8</td>\n",
       "      <td>2.7</td>\n",
       "      <td>2.8</td>\n",
       "      <td>602,547</td>\n",
       "      <td>16,788</td>\n",
       "    </tr>\n",
       "    <tr>\n",
       "      <th>2</th>\n",
       "      <td>2015</td>\n",
       "      <td>01/01/2015 to 31/12/2015</td>\n",
       "      <td>National</td>\n",
       "      <td>E92000001</td>\n",
       "      <td>England</td>\n",
       "      <td>Resident in England</td>\n",
       "      <td>2.8</td>\n",
       "      <td>2.7</td>\n",
       "      <td>2.8</td>\n",
       "      <td>603,646</td>\n",
       "      <td>16,748</td>\n",
       "    </tr>\n",
       "    <tr>\n",
       "      <th>3</th>\n",
       "      <td>2014</td>\n",
       "      <td>01/01/2014 to 31/12/2014</td>\n",
       "      <td>National</td>\n",
       "      <td>E92000001</td>\n",
       "      <td>England</td>\n",
       "      <td>Resident in England</td>\n",
       "      <td>2.9</td>\n",
       "      <td>2.8</td>\n",
       "      <td>2.9</td>\n",
       "      <td>601,620</td>\n",
       "      <td>17,231</td>\n",
       "    </tr>\n",
       "    <tr>\n",
       "      <th>4</th>\n",
       "      <td>2013</td>\n",
       "      <td>01/01/2013 to 31/12/2013</td>\n",
       "      <td>National</td>\n",
       "      <td>E92000001</td>\n",
       "      <td>England</td>\n",
       "      <td>Resident in England</td>\n",
       "      <td>2.8</td>\n",
       "      <td>2.8</td>\n",
       "      <td>2.9</td>\n",
       "      <td>608,579</td>\n",
       "      <td>17,175</td>\n",
       "    </tr>\n",
       "    <tr>\n",
       "      <th>...</th>\n",
       "      <td>...</td>\n",
       "      <td>...</td>\n",
       "      <td>...</td>\n",
       "      <td>...</td>\n",
       "      <td>...</td>\n",
       "      <td>...</td>\n",
       "      <td>...</td>\n",
       "      <td>...</td>\n",
       "      <td>...</td>\n",
       "      <td>...</td>\n",
       "      <td>...</td>\n",
       "    </tr>\n",
       "    <tr>\n",
       "      <th>1029</th>\n",
       "      <td>2013</td>\n",
       "      <td>01/01/2013 to 31/12/2013</td>\n",
       "      <td>CCG</td>\n",
       "      <td>E38000207</td>\n",
       "      <td>11C</td>\n",
       "      <td>NHS Windsor, Ascot and Maidenhead CCG</td>\n",
       "      <td>2.2</td>\n",
       "      <td>1.5</td>\n",
       "      <td>3.1</td>\n",
       "      <td>1,471</td>\n",
       "      <td>32</td>\n",
       "    </tr>\n",
       "    <tr>\n",
       "      <th>1030</th>\n",
       "      <td>2013</td>\n",
       "      <td>01/01/2013 to 31/12/2013</td>\n",
       "      <td>CCG</td>\n",
       "      <td>E38000208</td>\n",
       "      <td>12F</td>\n",
       "      <td>NHS Wirral CCG</td>\n",
       "      <td>2.2</td>\n",
       "      <td>1.7</td>\n",
       "      <td>2.7</td>\n",
       "      <td>3,204</td>\n",
       "      <td>69</td>\n",
       "    </tr>\n",
       "    <tr>\n",
       "      <th>1031</th>\n",
       "      <td>2013</td>\n",
       "      <td>01/01/2013 to 31/12/2013</td>\n",
       "      <td>CCG</td>\n",
       "      <td>E38000209</td>\n",
       "      <td>11D</td>\n",
       "      <td>NHS Wokingham CCG</td>\n",
       "      <td>2.2</td>\n",
       "      <td>1.6</td>\n",
       "      <td>3.1</td>\n",
       "      <td>1,587</td>\n",
       "      <td>35</td>\n",
       "    </tr>\n",
       "    <tr>\n",
       "      <th>1032</th>\n",
       "      <td>2013</td>\n",
       "      <td>01/01/2013 to 31/12/2013</td>\n",
       "      <td>CCG</td>\n",
       "      <td>E38000210</td>\n",
       "      <td>06A</td>\n",
       "      <td>NHS Wolverhampton CCG</td>\n",
       "      <td>3.3</td>\n",
       "      <td>2.8</td>\n",
       "      <td>4.0</td>\n",
       "      <td>3,146</td>\n",
       "      <td>105</td>\n",
       "    </tr>\n",
       "    <tr>\n",
       "      <th>1033</th>\n",
       "      <td>2013</td>\n",
       "      <td>01/01/2013 to 31/12/2013</td>\n",
       "      <td>CCG</td>\n",
       "      <td>E38000211</td>\n",
       "      <td>06D</td>\n",
       "      <td>NHS Wyre Forest CCG</td>\n",
       "      <td>2.8</td>\n",
       "      <td>1.9</td>\n",
       "      <td>4.0</td>\n",
       "      <td>971</td>\n",
       "      <td>27</td>\n",
       "    </tr>\n",
       "  </tbody>\n",
       "</table>\n",
       "<p>1034 rows × 11 columns</p>\n",
       "</div>"
      ],
      "text/plain": [
       "      Reporting period        Period of coverage Breakdown   ONS code  \\\n",
       "0                 2017  01/01/2017 to 31/12/2017  National  E92000001   \n",
       "1                 2016  01/01/2016 to 31/12/2016  National  E92000001   \n",
       "2                 2015  01/01/2015 to 31/12/2015  National  E92000001   \n",
       "3                 2014  01/01/2014 to 31/12/2014  National  E92000001   \n",
       "4                 2013  01/01/2013 to 31/12/2013  National  E92000001   \n",
       "...                ...                       ...       ...        ...   \n",
       "1029              2013  01/01/2013 to 31/12/2013       CCG  E38000207   \n",
       "1030              2013  01/01/2013 to 31/12/2013       CCG  E38000208   \n",
       "1031              2013  01/01/2013 to 31/12/2013       CCG  E38000209   \n",
       "1032              2013  01/01/2013 to 31/12/2013       CCG  E38000210   \n",
       "1033              2013  01/01/2013 to 31/12/2013       CCG  E38000211   \n",
       "\n",
       "        Level                      Level description  Indicator value  \\\n",
       "0     England                    Resident in England              2.8   \n",
       "1     England                    Resident in England              2.8   \n",
       "2     England                    Resident in England              2.8   \n",
       "3     England                    Resident in England              2.9   \n",
       "4     England                    Resident in England              2.8   \n",
       "...       ...                                    ...              ...   \n",
       "1029      11C  NHS Windsor, Ascot and Maidenhead CCG              2.2   \n",
       "1030      12F                         NHS Wirral CCG              2.2   \n",
       "1031      11D                      NHS Wokingham CCG              2.2   \n",
       "1032      06A                  NHS Wolverhampton CCG              3.3   \n",
       "1033      06D                    NHS Wyre Forest CCG              2.8   \n",
       "\n",
       "      CI lower  CI upper Denominator Numerator  \n",
       "0          2.8       2.9     586,452    16,534  \n",
       "1          2.7       2.8     602,547    16,788  \n",
       "2          2.7       2.8     603,646    16,748  \n",
       "3          2.8       2.9     601,620    17,231  \n",
       "4          2.8       2.9     608,579    17,175  \n",
       "...        ...       ...         ...       ...  \n",
       "1029       1.5       3.1       1,471        32  \n",
       "1030       1.7       2.7       3,204        69  \n",
       "1031       1.6       3.1       1,587        35  \n",
       "1032       2.8       4.0       3,146       105  \n",
       "1033       1.9       4.0         971        27  \n",
       "\n",
       "[1034 rows x 11 columns]"
      ]
     },
     "execution_count": 20,
     "metadata": {},
     "output_type": "execute_result"
    }
   ],
   "source": [
    "lowbirth_df"
   ]
  },
  {
   "cell_type": "markdown",
   "id": "urban-significance",
   "metadata": {},
   "source": [
    "### Porcentagem de bêbes nascido com baixo peso"
   ]
  },
  {
   "cell_type": "code",
   "execution_count": 21,
   "id": "pressed-champion",
   "metadata": {},
   "outputs": [
    {
     "data": {
      "text/plain": [
       "2.7161508704061896"
      ]
     },
     "execution_count": 21,
     "metadata": {},
     "output_type": "execute_result"
    }
   ],
   "source": [
    "lowbirth_df[\"Indicator value\"].mean()"
   ]
  },
  {
   "cell_type": "code",
   "execution_count": 22,
   "id": "champion-sphere",
   "metadata": {},
   "outputs": [
    {
     "data": {
      "text/plain": [
       "0.6835080348836081"
      ]
     },
     "execution_count": 22,
     "metadata": {},
     "output_type": "execute_result"
    }
   ],
   "source": [
    "lowbirth_df[\"Indicator value\"].std()"
   ]
  },
  {
   "cell_type": "code",
   "execution_count": 23,
   "id": "adequate-congo",
   "metadata": {},
   "outputs": [
    {
     "data": {
      "text/plain": [
       "2.6"
      ]
     },
     "execution_count": 23,
     "metadata": {},
     "output_type": "execute_result"
    }
   ],
   "source": [
    "lowbirth_df[\"Indicator value\"].median()"
   ]
  },
  {
   "cell_type": "markdown",
   "id": "express-action",
   "metadata": {},
   "source": [
    "## Possíveis perguntas:\n",
    "    \n",
    "1) Qual a maior faixa étaria de mães casadas?\n",
    "\n",
    "2) É mais comum entre as mães mais jovem terem filho prematuro?\n",
    "\n",
    "3) Fumar influência no peso do bebe?\n",
    "    "
   ]
  },
  {
   "cell_type": "markdown",
   "id": "faced-pension",
   "metadata": {},
   "source": [
    "## Gráfico dos dados:"
   ]
  },
  {
   "cell_type": "code",
   "execution_count": 24,
   "id": "superb-contact",
   "metadata": {},
   "outputs": [],
   "source": [
    "import seaborn as sns"
   ]
  },
  {
   "cell_type": "code",
   "execution_count": 25,
   "id": "involved-theater",
   "metadata": {
    "scrolled": true
   },
   "outputs": [],
   "source": [
    "sns.set_palette(\"deep\")"
   ]
  },
  {
   "cell_type": "markdown",
   "id": "magnetic-explanation",
   "metadata": {},
   "source": [
    "### Dados 1: Estudo da saúde e desenvolvimento infantil"
   ]
  },
  {
   "cell_type": "markdown",
   "id": "structured-cartridge",
   "metadata": {},
   "source": [
    "#### Dispersão entre idade e dias de gestação"
   ]
  },
  {
   "cell_type": "code",
   "execution_count": 26,
   "id": "french-bulgaria",
   "metadata": {
    "scrolled": false
   },
   "outputs": [
    {
     "data": {
      "text/plain": [
       "[Text(0.5, 0, 'Idade da mãe'), Text(0, 0.5, 'Tempo de gestação(dias)')]"
      ]
     },
     "execution_count": 26,
     "metadata": {},
     "output_type": "execute_result"
    },
    {
     "data": {
      "image/png": "[encoded data removed]",
      "text/plain": [
       "<Figure size 432x288 with 1 Axes>"
      ]
     },
     "metadata": {
      "needs_background": "light"
     },
     "output_type": "display_data"
    }
   ],
   "source": [
    "ax = sns.scatterplot(data=babies_df, x=\"age\", y=\"gestation\", hue=\"smoke\", palette=\"deep\")\n",
    "ax.set(xlabel=\"Idade da mãe\", ylabel=\"Tempo de gestação(dias)\")"
   ]
  },
  {
   "cell_type": "markdown",
   "id": "dated-worth",
   "metadata": {},
   "source": [
    "#### Histograma da idade da mãe"
   ]
  },
  {
   "cell_type": "code",
   "execution_count": 27,
   "id": "extensive-polymer",
   "metadata": {
    "scrolled": false
   },
   "outputs": [
    {
     "data": {
      "text/plain": [
       "<seaborn.axisgrid.FacetGrid at 0x211e0af3a90>"
      ]
     },
     "execution_count": 27,
     "metadata": {},
     "output_type": "execute_result"
    },
    {
     "data": {
      "image/png": "[encoded data removed]",
      "text/plain": [
       "<Figure size 360x360 with 1 Axes>"
      ]
     },
     "metadata": {
      "needs_background": "light"
     },
     "output_type": "display_data"
    }
   ],
   "source": [
    "sns.displot(babies_df, x=\"age\", binwidth=1)"
   ]
  },
  {
   "cell_type": "markdown",
   "id": "drawn-stuff",
   "metadata": {},
   "source": [
    "#### Mães que fumam"
   ]
  },
  {
   "cell_type": "code",
   "execution_count": 28,
   "id": "determined-thompson",
   "metadata": {
    "scrolled": false
   },
   "outputs": [
    {
     "data": {
      "text/plain": [
       "<seaborn.axisgrid.FacetGrid at 0x211e884d6a0>"
      ]
     },
     "execution_count": 28,
     "metadata": {},
     "output_type": "execute_result"
    },
    {
     "data": {
      "image/png": "[encoded data removed]",
      "text/plain": [
       "<Figure size 360x360 with 1 Axes>"
      ]
     },
     "metadata": {
      "needs_background": "light"
     },
     "output_type": "display_data"
    }
   ],
   "source": [
    "ax = sns.catplot(data=babies_df, x=\"smoke\", kind=\"count\")\n",
    "ax.set(xlabel=\"0 -> Não fumantes                      1 -> Fumantes\")"
   ]
  },
  {
   "cell_type": "markdown",
   "id": "regulation-start",
   "metadata": {},
   "source": [
    "### Dados 2: Hábitos e práticas de gestantes e seus filhos"
   ]
  },
  {
   "cell_type": "markdown",
   "id": "honey-concord",
   "metadata": {},
   "source": [
    "#### Dispersão entre semanas e peso do bêbe"
   ]
  },
  {
   "cell_type": "code",
   "execution_count": 29,
   "id": "curious-timber",
   "metadata": {
    "scrolled": false
   },
   "outputs": [
    {
     "data": {
      "text/plain": [
       "[Text(0.5, 0, 'Tempo de gravidez(semanas)'),\n",
       " Text(0, 0.5, 'peso do bêbe(pounds)')]"
      ]
     },
     "execution_count": 29,
     "metadata": {},
     "output_type": "execute_result"
    },
    {
     "data": {
      "image/png": "[encoded data removed]",
      "text/plain": [
       "<Figure size 432x288 with 1 Axes>"
      ]
     },
     "metadata": {
      "needs_background": "light"
     },
     "output_type": "display_data"
    }
   ],
   "source": [
    "ax = sns.scatterplot(data=births_df, x=\"weeks\", y=\"weight\", hue=\"sex\", palette=\"deep\")\n",
    "ax.set(xlabel=\"Tempo de gravidez(semanas)\", ylabel=\"peso do bêbe(pounds)\")"
   ]
  },
  {
   "cell_type": "markdown",
   "id": "saved-butter",
   "metadata": {},
   "source": [
    "#### Com o gráfico anterior é possivel analizar mais 2 variáveis:"
   ]
  },
  {
   "cell_type": "markdown",
   "id": "freelance-clothing",
   "metadata": {},
   "source": [
    "#### 1 - Bêbes prematuro"
   ]
  },
  {
   "cell_type": "code",
   "execution_count": 30,
   "id": "about-leonard",
   "metadata": {},
   "outputs": [
    {
     "data": {
      "text/plain": [
       "[Text(0.5, 0, 'Tempo de gravidez(semanas)'),\n",
       " Text(0, 0.5, 'peso do bêbe(pounds)')]"
      ]
     },
     "execution_count": 30,
     "metadata": {},
     "output_type": "execute_result"
    },
    {
     "data": {
      "image/png": "[encoded data removed]",
      "text/plain": [
       "<Figure size 432x288 with 1 Axes>"
      ]
     },
     "metadata": {
      "needs_background": "light"
     },
     "output_type": "display_data"
    }
   ],
   "source": [
    "ax = sns.scatterplot(data=births_df, x=\"weeks\", y=\"weight\", hue=\"premie\", palette=\"deep\")\n",
    "ax.set(xlabel=\"Tempo de gravidez(semanas)\", ylabel=\"peso do bêbe(pounds)\")"
   ]
  },
  {
   "cell_type": "markdown",
   "id": "resident-fifty",
   "metadata": {},
   "source": [
    "#### 2 - Bêbes com peso baixo"
   ]
  },
  {
   "cell_type": "code",
   "execution_count": 31,
   "id": "nuclear-absence",
   "metadata": {},
   "outputs": [
    {
     "data": {
      "text/plain": [
       "[Text(0.5, 0, 'Tempo de gravidez(semanas)'),\n",
       " Text(0, 0.5, 'peso do bêbe(pounds)')]"
      ]
     },
     "execution_count": 31,
     "metadata": {},
     "output_type": "execute_result"
    },
    {
     "data": {
      "image/png": "[encoded data removed]",
      "text/plain": [
       "<Figure size 432x288 with 1 Axes>"
      ]
     },
     "metadata": {
      "needs_background": "light"
     },
     "output_type": "display_data"
    }
   ],
   "source": [
    "ax = sns.scatterplot(data=births_df, x=\"weeks\", y=\"weight\", hue=\"lowbirthweight\", alpha=0.5)\n",
    "ax.set(xlabel=\"Tempo de gravidez(semanas)\", ylabel=\"peso do bêbe(pounds)\")"
   ]
  },
  {
   "cell_type": "markdown",
   "id": "passive-plaintiff",
   "metadata": {},
   "source": [
    "#### Histograma idade da mãe"
   ]
  },
  {
   "cell_type": "code",
   "execution_count": 32,
   "id": "western-blogger",
   "metadata": {
    "scrolled": true
   },
   "outputs": [
    {
     "data": {
      "text/plain": [
       "<seaborn.axisgrid.FacetGrid at 0x211ebb34b50>"
      ]
     },
     "execution_count": 32,
     "metadata": {},
     "output_type": "execute_result"
    },
    {
     "data": {
      "image/png": "[encoded data removed]",
      "text/plain": [
       "<Figure size 360x360 with 1 Axes>"
      ]
     },
     "metadata": {
      "needs_background": "light"
     },
     "output_type": "display_data"
    }
   ],
   "source": [
    "sns.displot(births_df, x=\"mage\", binwidth=1)"
   ]
  },
  {
   "cell_type": "markdown",
   "id": "accessory-relevance",
   "metadata": {},
   "source": [
    "#### Mães que fumam"
   ]
  },
  {
   "cell_type": "code",
   "execution_count": 33,
   "id": "gross-induction",
   "metadata": {},
   "outputs": [
    {
     "data": {
      "text/plain": [
       "<seaborn.axisgrid.FacetGrid at 0x211ebc65f70>"
      ]
     },
     "execution_count": 33,
     "metadata": {},
     "output_type": "execute_result"
    },
    {
     "data": {
      "image/png": "[encoded data removed]",
      "text/plain": [
       "<Figure size 360x360 with 1 Axes>"
      ]
     },
     "metadata": {
      "needs_background": "light"
     },
     "output_type": "display_data"
    }
   ],
   "source": [
    "sns.catplot(data=births_df, x=\"habit\", kind=\"count\")"
   ]
  },
  {
   "cell_type": "markdown",
   "id": "alternate-apple",
   "metadata": {},
   "source": [
    "### Dados 3: CCG data - Bebês nascidos com baixo peso"
   ]
  },
  {
   "cell_type": "markdown",
   "id": "solar-deviation",
   "metadata": {},
   "source": [
    "#### Porcentagem de bêbes nascido com baixo peso"
   ]
  },
  {
   "cell_type": "code",
   "execution_count": 34,
   "id": "unlike-buddy",
   "metadata": {},
   "outputs": [
    {
     "data": {
      "text/plain": [
       "[Text(0.5, 0, 'Ano da gravidez'),\n",
       " Text(0, 0.5, 'Porcentagem de bêbes com baixo peso')]"
      ]
     },
     "execution_count": 34,
     "metadata": {},
     "output_type": "execute_result"
    },
    {
     "data": {
      "image/png": "[encoded data removed]",
      "text/plain": [
       "<Figure size 432x288 with 1 Axes>"
      ]
     },
     "metadata": {
      "needs_background": "light"
     },
     "output_type": "display_data"
    }
   ],
   "source": [
    "ax = sns.scatterplot(data=lowbirth_df, x=\"Reporting period\", y=\"Indicator value\", alpha=0.5)\n",
    "ax.set(xlabel=\"Ano da gravidez\", ylabel=\"Porcentagem de bêbes com baixo peso\")"
   ]
  },
  {
   "cell_type": "markdown",
   "id": "floating-sequence",
   "metadata": {},
   "source": [
    "## Limpeza e transformações nos datasets"
   ]
  },
  {
   "cell_type": "code",
   "execution_count": 35,
   "id": "pretty-welsh",
   "metadata": {},
   "outputs": [],
   "source": [
    "import numpy as np"
   ]
  },
  {
   "cell_type": "markdown",
   "id": "leading-surfing",
   "metadata": {},
   "source": [
    "### Dataset 1:"
   ]
  },
  {
   "cell_type": "code",
   "execution_count": 36,
   "id": "regulated-cleanup",
   "metadata": {
    "scrolled": true
   },
   "outputs": [
    {
     "data": {
      "text/html": [
       "<div>\n",
       "<style scoped>\n",
       "    .dataframe tbody tr th:only-of-type {\n",
       "        vertical-align: middle;\n",
       "    }\n",
       "\n",
       "    .dataframe tbody tr th {\n",
       "        vertical-align: top;\n",
       "    }\n",
       "\n",
       "    .dataframe thead th {\n",
       "        text-align: right;\n",
       "    }\n",
       "</style>\n",
       "<table border=\"1\" class=\"dataframe\">\n",
       "  <thead>\n",
       "    <tr style=\"text-align: right;\">\n",
       "      <th></th>\n",
       "      <th>case</th>\n",
       "      <th>bwt</th>\n",
       "      <th>gestation</th>\n",
       "      <th>parity</th>\n",
       "      <th>age</th>\n",
       "      <th>height</th>\n",
       "      <th>weight</th>\n",
       "      <th>smoke</th>\n",
       "    </tr>\n",
       "  </thead>\n",
       "  <tbody>\n",
       "    <tr>\n",
       "      <th>0</th>\n",
       "      <td>1</td>\n",
       "      <td>120</td>\n",
       "      <td>284.0</td>\n",
       "      <td>0</td>\n",
       "      <td>27.0</td>\n",
       "      <td>62.0</td>\n",
       "      <td>100.0</td>\n",
       "      <td>0.0</td>\n",
       "    </tr>\n",
       "    <tr>\n",
       "      <th>1</th>\n",
       "      <td>2</td>\n",
       "      <td>113</td>\n",
       "      <td>282.0</td>\n",
       "      <td>0</td>\n",
       "      <td>33.0</td>\n",
       "      <td>64.0</td>\n",
       "      <td>135.0</td>\n",
       "      <td>0.0</td>\n",
       "    </tr>\n",
       "    <tr>\n",
       "      <th>2</th>\n",
       "      <td>3</td>\n",
       "      <td>128</td>\n",
       "      <td>279.0</td>\n",
       "      <td>0</td>\n",
       "      <td>28.0</td>\n",
       "      <td>64.0</td>\n",
       "      <td>115.0</td>\n",
       "      <td>1.0</td>\n",
       "    </tr>\n",
       "    <tr>\n",
       "      <th>3</th>\n",
       "      <td>4</td>\n",
       "      <td>123</td>\n",
       "      <td>NaN</td>\n",
       "      <td>0</td>\n",
       "      <td>36.0</td>\n",
       "      <td>69.0</td>\n",
       "      <td>190.0</td>\n",
       "      <td>0.0</td>\n",
       "    </tr>\n",
       "    <tr>\n",
       "      <th>4</th>\n",
       "      <td>5</td>\n",
       "      <td>108</td>\n",
       "      <td>282.0</td>\n",
       "      <td>0</td>\n",
       "      <td>23.0</td>\n",
       "      <td>67.0</td>\n",
       "      <td>125.0</td>\n",
       "      <td>1.0</td>\n",
       "    </tr>\n",
       "    <tr>\n",
       "      <th>5</th>\n",
       "      <td>6</td>\n",
       "      <td>136</td>\n",
       "      <td>286.0</td>\n",
       "      <td>0</td>\n",
       "      <td>25.0</td>\n",
       "      <td>62.0</td>\n",
       "      <td>93.0</td>\n",
       "      <td>0.0</td>\n",
       "    </tr>\n",
       "    <tr>\n",
       "      <th>6</th>\n",
       "      <td>7</td>\n",
       "      <td>138</td>\n",
       "      <td>244.0</td>\n",
       "      <td>0</td>\n",
       "      <td>33.0</td>\n",
       "      <td>62.0</td>\n",
       "      <td>178.0</td>\n",
       "      <td>0.0</td>\n",
       "    </tr>\n",
       "    <tr>\n",
       "      <th>7</th>\n",
       "      <td>8</td>\n",
       "      <td>132</td>\n",
       "      <td>245.0</td>\n",
       "      <td>0</td>\n",
       "      <td>23.0</td>\n",
       "      <td>65.0</td>\n",
       "      <td>140.0</td>\n",
       "      <td>0.0</td>\n",
       "    </tr>\n",
       "    <tr>\n",
       "      <th>8</th>\n",
       "      <td>9</td>\n",
       "      <td>120</td>\n",
       "      <td>289.0</td>\n",
       "      <td>0</td>\n",
       "      <td>25.0</td>\n",
       "      <td>62.0</td>\n",
       "      <td>125.0</td>\n",
       "      <td>0.0</td>\n",
       "    </tr>\n",
       "    <tr>\n",
       "      <th>9</th>\n",
       "      <td>10</td>\n",
       "      <td>143</td>\n",
       "      <td>299.0</td>\n",
       "      <td>0</td>\n",
       "      <td>30.0</td>\n",
       "      <td>66.0</td>\n",
       "      <td>136.0</td>\n",
       "      <td>1.0</td>\n",
       "    </tr>\n",
       "  </tbody>\n",
       "</table>\n",
       "</div>"
      ],
      "text/plain": [
       "   case  bwt  gestation  parity   age  height  weight  smoke\n",
       "0     1  120      284.0       0  27.0    62.0   100.0    0.0\n",
       "1     2  113      282.0       0  33.0    64.0   135.0    0.0\n",
       "2     3  128      279.0       0  28.0    64.0   115.0    1.0\n",
       "3     4  123        NaN       0  36.0    69.0   190.0    0.0\n",
       "4     5  108      282.0       0  23.0    67.0   125.0    1.0\n",
       "5     6  136      286.0       0  25.0    62.0    93.0    0.0\n",
       "6     7  138      244.0       0  33.0    62.0   178.0    0.0\n",
       "7     8  132      245.0       0  23.0    65.0   140.0    0.0\n",
       "8     9  120      289.0       0  25.0    62.0   125.0    0.0\n",
       "9    10  143      299.0       0  30.0    66.0   136.0    1.0"
      ]
     },
     "execution_count": 36,
     "metadata": {},
     "output_type": "execute_result"
    }
   ],
   "source": [
    "babies_df.head(10)"
   ]
  },
  {
   "cell_type": "code",
   "execution_count": 37,
   "id": "micro-least",
   "metadata": {},
   "outputs": [],
   "source": [
    "babies_df[\"gestation\"].fillna(babies_df[\"gestation\"].median(), inplace = True)"
   ]
  },
  {
   "cell_type": "code",
   "execution_count": 38,
   "id": "retired-console",
   "metadata": {
    "scrolled": true
   },
   "outputs": [],
   "source": [
    "missing_percentage = (babies_df.isnull().sum() / len(babies_df[\"case\"]))*100 #linha para saber porcentagem de dados nulos"
   ]
  },
  {
   "cell_type": "code",
   "execution_count": 39,
   "id": "devoted-increase",
   "metadata": {},
   "outputs": [],
   "source": [
    "babies_df[\"height\"].fillna(babies_df[\"height\"].mean(), inplace = True)\n",
    "babies_df[\"weight\"].fillna(babies_df[\"weight\"].mean(), inplace = True)\n",
    "babies_df[\"age\"].fillna(babies_df[\"age\"].mean(), inplace = True)"
   ]
  },
  {
   "cell_type": "code",
   "execution_count": 40,
   "id": "multiple-milton",
   "metadata": {},
   "outputs": [],
   "source": [
    "babies_df[\"smoke\"] = babies_df[\"smoke\"].replace(0,\"nonsmoker\")\n",
    "babies_df[\"smoke\"] = babies_df[\"smoke\"].replace(1,\"smoker\")\n",
    "babies_df[\"parity\"] = babies_df[\"parity\"].replace(0,\"FirstPregnancy\")\n",
    "babies_df[\"parity\"] = babies_df[\"parity\"].replace(1,\"NotFirtsPregnancy\")"
   ]
  },
  {
   "cell_type": "code",
   "execution_count": 41,
   "id": "right-teens",
   "metadata": {
    "scrolled": true
   },
   "outputs": [
    {
     "data": {
      "text/html": [
       "<div>\n",
       "<style scoped>\n",
       "    .dataframe tbody tr th:only-of-type {\n",
       "        vertical-align: middle;\n",
       "    }\n",
       "\n",
       "    .dataframe tbody tr th {\n",
       "        vertical-align: top;\n",
       "    }\n",
       "\n",
       "    .dataframe thead th {\n",
       "        text-align: right;\n",
       "    }\n",
       "</style>\n",
       "<table border=\"1\" class=\"dataframe\">\n",
       "  <thead>\n",
       "    <tr style=\"text-align: right;\">\n",
       "      <th></th>\n",
       "      <th>case</th>\n",
       "      <th>bwt</th>\n",
       "      <th>gestation</th>\n",
       "      <th>parity</th>\n",
       "      <th>age</th>\n",
       "      <th>height</th>\n",
       "      <th>weight</th>\n",
       "      <th>smoke</th>\n",
       "    </tr>\n",
       "  </thead>\n",
       "  <tbody>\n",
       "    <tr>\n",
       "      <th>0</th>\n",
       "      <td>1</td>\n",
       "      <td>120</td>\n",
       "      <td>284.0</td>\n",
       "      <td>FirstPregnancy</td>\n",
       "      <td>27.0</td>\n",
       "      <td>62.0</td>\n",
       "      <td>100.0</td>\n",
       "      <td>nonsmoker</td>\n",
       "    </tr>\n",
       "    <tr>\n",
       "      <th>1</th>\n",
       "      <td>2</td>\n",
       "      <td>113</td>\n",
       "      <td>282.0</td>\n",
       "      <td>FirstPregnancy</td>\n",
       "      <td>33.0</td>\n",
       "      <td>64.0</td>\n",
       "      <td>135.0</td>\n",
       "      <td>nonsmoker</td>\n",
       "    </tr>\n",
       "    <tr>\n",
       "      <th>2</th>\n",
       "      <td>3</td>\n",
       "      <td>128</td>\n",
       "      <td>279.0</td>\n",
       "      <td>FirstPregnancy</td>\n",
       "      <td>28.0</td>\n",
       "      <td>64.0</td>\n",
       "      <td>115.0</td>\n",
       "      <td>smoker</td>\n",
       "    </tr>\n",
       "    <tr>\n",
       "      <th>3</th>\n",
       "      <td>4</td>\n",
       "      <td>123</td>\n",
       "      <td>280.0</td>\n",
       "      <td>FirstPregnancy</td>\n",
       "      <td>36.0</td>\n",
       "      <td>69.0</td>\n",
       "      <td>190.0</td>\n",
       "      <td>nonsmoker</td>\n",
       "    </tr>\n",
       "    <tr>\n",
       "      <th>4</th>\n",
       "      <td>5</td>\n",
       "      <td>108</td>\n",
       "      <td>282.0</td>\n",
       "      <td>FirstPregnancy</td>\n",
       "      <td>23.0</td>\n",
       "      <td>67.0</td>\n",
       "      <td>125.0</td>\n",
       "      <td>smoker</td>\n",
       "    </tr>\n",
       "    <tr>\n",
       "      <th>5</th>\n",
       "      <td>6</td>\n",
       "      <td>136</td>\n",
       "      <td>286.0</td>\n",
       "      <td>FirstPregnancy</td>\n",
       "      <td>25.0</td>\n",
       "      <td>62.0</td>\n",
       "      <td>93.0</td>\n",
       "      <td>nonsmoker</td>\n",
       "    </tr>\n",
       "    <tr>\n",
       "      <th>6</th>\n",
       "      <td>7</td>\n",
       "      <td>138</td>\n",
       "      <td>244.0</td>\n",
       "      <td>FirstPregnancy</td>\n",
       "      <td>33.0</td>\n",
       "      <td>62.0</td>\n",
       "      <td>178.0</td>\n",
       "      <td>nonsmoker</td>\n",
       "    </tr>\n",
       "    <tr>\n",
       "      <th>7</th>\n",
       "      <td>8</td>\n",
       "      <td>132</td>\n",
       "      <td>245.0</td>\n",
       "      <td>FirstPregnancy</td>\n",
       "      <td>23.0</td>\n",
       "      <td>65.0</td>\n",
       "      <td>140.0</td>\n",
       "      <td>nonsmoker</td>\n",
       "    </tr>\n",
       "    <tr>\n",
       "      <th>8</th>\n",
       "      <td>9</td>\n",
       "      <td>120</td>\n",
       "      <td>289.0</td>\n",
       "      <td>FirstPregnancy</td>\n",
       "      <td>25.0</td>\n",
       "      <td>62.0</td>\n",
       "      <td>125.0</td>\n",
       "      <td>nonsmoker</td>\n",
       "    </tr>\n",
       "    <tr>\n",
       "      <th>9</th>\n",
       "      <td>10</td>\n",
       "      <td>143</td>\n",
       "      <td>299.0</td>\n",
       "      <td>FirstPregnancy</td>\n",
       "      <td>30.0</td>\n",
       "      <td>66.0</td>\n",
       "      <td>136.0</td>\n",
       "      <td>smoker</td>\n",
       "    </tr>\n",
       "  </tbody>\n",
       "</table>\n",
       "</div>"
      ],
      "text/plain": [
       "   case  bwt  gestation          parity   age  height  weight      smoke\n",
       "0     1  120      284.0  FirstPregnancy  27.0    62.0   100.0  nonsmoker\n",
       "1     2  113      282.0  FirstPregnancy  33.0    64.0   135.0  nonsmoker\n",
       "2     3  128      279.0  FirstPregnancy  28.0    64.0   115.0     smoker\n",
       "3     4  123      280.0  FirstPregnancy  36.0    69.0   190.0  nonsmoker\n",
       "4     5  108      282.0  FirstPregnancy  23.0    67.0   125.0     smoker\n",
       "5     6  136      286.0  FirstPregnancy  25.0    62.0    93.0  nonsmoker\n",
       "6     7  138      244.0  FirstPregnancy  33.0    62.0   178.0  nonsmoker\n",
       "7     8  132      245.0  FirstPregnancy  23.0    65.0   140.0  nonsmoker\n",
       "8     9  120      289.0  FirstPregnancy  25.0    62.0   125.0  nonsmoker\n",
       "9    10  143      299.0  FirstPregnancy  30.0    66.0   136.0     smoker"
      ]
     },
     "execution_count": 41,
     "metadata": {},
     "output_type": "execute_result"
    }
   ],
   "source": [
    "babies_df.head(10)"
   ]
  },
  {
   "cell_type": "markdown",
   "id": "special-appeal",
   "metadata": {},
   "source": [
    "### Dataset 2:"
   ]
  },
  {
   "cell_type": "code",
   "execution_count": 42,
   "id": "according-engagement",
   "metadata": {
    "scrolled": true
   },
   "outputs": [
    {
     "data": {
      "text/html": [
       "<div>\n",
       "<style scoped>\n",
       "    .dataframe tbody tr th:only-of-type {\n",
       "        vertical-align: middle;\n",
       "    }\n",
       "\n",
       "    .dataframe tbody tr th {\n",
       "        vertical-align: top;\n",
       "    }\n",
       "\n",
       "    .dataframe thead th {\n",
       "        text-align: right;\n",
       "    }\n",
       "</style>\n",
       "<table border=\"1\" class=\"dataframe\">\n",
       "  <thead>\n",
       "    <tr style=\"text-align: right;\">\n",
       "      <th></th>\n",
       "      <th>fage</th>\n",
       "      <th>mage</th>\n",
       "      <th>mature</th>\n",
       "      <th>weeks</th>\n",
       "      <th>premie</th>\n",
       "      <th>visits</th>\n",
       "      <th>gained</th>\n",
       "      <th>weight</th>\n",
       "      <th>lowbirthweight</th>\n",
       "      <th>sex</th>\n",
       "      <th>habit</th>\n",
       "      <th>marital</th>\n",
       "      <th>whitemom</th>\n",
       "    </tr>\n",
       "  </thead>\n",
       "  <tbody>\n",
       "    <tr>\n",
       "      <th>0</th>\n",
       "      <td>34.0</td>\n",
       "      <td>34</td>\n",
       "      <td>younger mom</td>\n",
       "      <td>37</td>\n",
       "      <td>full term</td>\n",
       "      <td>14.0</td>\n",
       "      <td>28.0</td>\n",
       "      <td>6.96</td>\n",
       "      <td>not low</td>\n",
       "      <td>male</td>\n",
       "      <td>nonsmoker</td>\n",
       "      <td>married</td>\n",
       "      <td>white</td>\n",
       "    </tr>\n",
       "    <tr>\n",
       "      <th>1</th>\n",
       "      <td>36.0</td>\n",
       "      <td>31</td>\n",
       "      <td>younger mom</td>\n",
       "      <td>41</td>\n",
       "      <td>full term</td>\n",
       "      <td>12.0</td>\n",
       "      <td>41.0</td>\n",
       "      <td>8.86</td>\n",
       "      <td>not low</td>\n",
       "      <td>female</td>\n",
       "      <td>nonsmoker</td>\n",
       "      <td>married</td>\n",
       "      <td>white</td>\n",
       "    </tr>\n",
       "    <tr>\n",
       "      <th>2</th>\n",
       "      <td>37.0</td>\n",
       "      <td>36</td>\n",
       "      <td>mature mom</td>\n",
       "      <td>37</td>\n",
       "      <td>full term</td>\n",
       "      <td>10.0</td>\n",
       "      <td>28.0</td>\n",
       "      <td>7.51</td>\n",
       "      <td>not low</td>\n",
       "      <td>female</td>\n",
       "      <td>nonsmoker</td>\n",
       "      <td>married</td>\n",
       "      <td>not white</td>\n",
       "    </tr>\n",
       "    <tr>\n",
       "      <th>3</th>\n",
       "      <td>NaN</td>\n",
       "      <td>16</td>\n",
       "      <td>younger mom</td>\n",
       "      <td>38</td>\n",
       "      <td>full term</td>\n",
       "      <td>NaN</td>\n",
       "      <td>29.0</td>\n",
       "      <td>6.19</td>\n",
       "      <td>not low</td>\n",
       "      <td>male</td>\n",
       "      <td>nonsmoker</td>\n",
       "      <td>not married</td>\n",
       "      <td>white</td>\n",
       "    </tr>\n",
       "    <tr>\n",
       "      <th>4</th>\n",
       "      <td>32.0</td>\n",
       "      <td>31</td>\n",
       "      <td>younger mom</td>\n",
       "      <td>36</td>\n",
       "      <td>premie</td>\n",
       "      <td>12.0</td>\n",
       "      <td>48.0</td>\n",
       "      <td>6.75</td>\n",
       "      <td>not low</td>\n",
       "      <td>female</td>\n",
       "      <td>nonsmoker</td>\n",
       "      <td>married</td>\n",
       "      <td>white</td>\n",
       "    </tr>\n",
       "    <tr>\n",
       "      <th>5</th>\n",
       "      <td>32.0</td>\n",
       "      <td>26</td>\n",
       "      <td>younger mom</td>\n",
       "      <td>39</td>\n",
       "      <td>full term</td>\n",
       "      <td>14.0</td>\n",
       "      <td>45.0</td>\n",
       "      <td>6.69</td>\n",
       "      <td>not low</td>\n",
       "      <td>female</td>\n",
       "      <td>nonsmoker</td>\n",
       "      <td>married</td>\n",
       "      <td>white</td>\n",
       "    </tr>\n",
       "    <tr>\n",
       "      <th>6</th>\n",
       "      <td>37.0</td>\n",
       "      <td>36</td>\n",
       "      <td>mature mom</td>\n",
       "      <td>36</td>\n",
       "      <td>premie</td>\n",
       "      <td>10.0</td>\n",
       "      <td>20.0</td>\n",
       "      <td>6.13</td>\n",
       "      <td>not low</td>\n",
       "      <td>female</td>\n",
       "      <td>nonsmoker</td>\n",
       "      <td>married</td>\n",
       "      <td>white</td>\n",
       "    </tr>\n",
       "    <tr>\n",
       "      <th>7</th>\n",
       "      <td>29.0</td>\n",
       "      <td>24</td>\n",
       "      <td>younger mom</td>\n",
       "      <td>40</td>\n",
       "      <td>full term</td>\n",
       "      <td>13.0</td>\n",
       "      <td>65.0</td>\n",
       "      <td>6.74</td>\n",
       "      <td>not low</td>\n",
       "      <td>male</td>\n",
       "      <td>nonsmoker</td>\n",
       "      <td>not married</td>\n",
       "      <td>white</td>\n",
       "    </tr>\n",
       "    <tr>\n",
       "      <th>8</th>\n",
       "      <td>30.0</td>\n",
       "      <td>32</td>\n",
       "      <td>younger mom</td>\n",
       "      <td>39</td>\n",
       "      <td>full term</td>\n",
       "      <td>15.0</td>\n",
       "      <td>25.0</td>\n",
       "      <td>8.94</td>\n",
       "      <td>not low</td>\n",
       "      <td>female</td>\n",
       "      <td>nonsmoker</td>\n",
       "      <td>married</td>\n",
       "      <td>white</td>\n",
       "    </tr>\n",
       "    <tr>\n",
       "      <th>9</th>\n",
       "      <td>29.0</td>\n",
       "      <td>26</td>\n",
       "      <td>younger mom</td>\n",
       "      <td>39</td>\n",
       "      <td>full term</td>\n",
       "      <td>11.0</td>\n",
       "      <td>22.0</td>\n",
       "      <td>9.12</td>\n",
       "      <td>not low</td>\n",
       "      <td>male</td>\n",
       "      <td>nonsmoker</td>\n",
       "      <td>not married</td>\n",
       "      <td>not white</td>\n",
       "    </tr>\n",
       "  </tbody>\n",
       "</table>\n",
       "</div>"
      ],
      "text/plain": [
       "   fage  mage       mature  weeks     premie  visits  gained  weight  \\\n",
       "0  34.0    34  younger mom     37  full term    14.0    28.0    6.96   \n",
       "1  36.0    31  younger mom     41  full term    12.0    41.0    8.86   \n",
       "2  37.0    36   mature mom     37  full term    10.0    28.0    7.51   \n",
       "3   NaN    16  younger mom     38  full term     NaN    29.0    6.19   \n",
       "4  32.0    31  younger mom     36     premie    12.0    48.0    6.75   \n",
       "5  32.0    26  younger mom     39  full term    14.0    45.0    6.69   \n",
       "6  37.0    36   mature mom     36     premie    10.0    20.0    6.13   \n",
       "7  29.0    24  younger mom     40  full term    13.0    65.0    6.74   \n",
       "8  30.0    32  younger mom     39  full term    15.0    25.0    8.94   \n",
       "9  29.0    26  younger mom     39  full term    11.0    22.0    9.12   \n",
       "\n",
       "  lowbirthweight     sex      habit      marital   whitemom  \n",
       "0        not low    male  nonsmoker      married      white  \n",
       "1        not low  female  nonsmoker      married      white  \n",
       "2        not low  female  nonsmoker      married  not white  \n",
       "3        not low    male  nonsmoker  not married      white  \n",
       "4        not low  female  nonsmoker      married      white  \n",
       "5        not low  female  nonsmoker      married      white  \n",
       "6        not low  female  nonsmoker      married      white  \n",
       "7        not low    male  nonsmoker  not married      white  \n",
       "8        not low  female  nonsmoker      married      white  \n",
       "9        not low    male  nonsmoker  not married  not white  "
      ]
     },
     "execution_count": 42,
     "metadata": {},
     "output_type": "execute_result"
    }
   ],
   "source": [
    "births_df.head(10)"
   ]
  },
  {
   "cell_type": "code",
   "execution_count": 43,
   "id": "bored-conspiracy",
   "metadata": {
    "scrolled": true
   },
   "outputs": [],
   "source": [
    "missing_percentage = (births_df.isnull().sum() / len(births_df[\"mage\"]))*100"
   ]
  },
  {
   "cell_type": "code",
   "execution_count": 44,
   "id": "spoken-nicaragua",
   "metadata": {},
   "outputs": [],
   "source": [
    "births_df[\"fage\"].fillna(births_df[\"fage\"].mean(), inplace = True)"
   ]
  },
  {
   "cell_type": "code",
   "execution_count": 45,
   "id": "rural-information",
   "metadata": {},
   "outputs": [],
   "source": [
    "births_df[\"visits\"].fillna(0, inplace = True)"
   ]
  },
  {
   "cell_type": "code",
   "execution_count": 46,
   "id": "union-strain",
   "metadata": {},
   "outputs": [],
   "source": [
    "array = np.array(births_df[\"fage\"], dtype=np.float64)\n",
    "new_array = array.astype(int)\n",
    "births_df[\"fage\"] = new_array\n",
    "array = np.array(births_df[\"visits\"], dtype=np.float64)\n",
    "new_array = array.astype(int)\n",
    "births_df[\"visits\"] = new_array"
   ]
  },
  {
   "cell_type": "code",
   "execution_count": 47,
   "id": "alert-involvement",
   "metadata": {},
   "outputs": [],
   "source": [
    "births_df[\"gained\"].fillna(births_df[\"gained\"].mean(), inplace = True)"
   ]
  },
  {
   "cell_type": "code",
   "execution_count": 48,
   "id": "stuck-education",
   "metadata": {},
   "outputs": [],
   "source": [
    "births_df[\"habit\"].fillna(\"nonsmoker\", inplace = True)"
   ]
  },
  {
   "cell_type": "code",
   "execution_count": 49,
   "id": "fuzzy-alert",
   "metadata": {},
   "outputs": [
    {
     "data": {
      "text/html": [
       "<div>\n",
       "<style scoped>\n",
       "    .dataframe tbody tr th:only-of-type {\n",
       "        vertical-align: middle;\n",
       "    }\n",
       "\n",
       "    .dataframe tbody tr th {\n",
       "        vertical-align: top;\n",
       "    }\n",
       "\n",
       "    .dataframe thead th {\n",
       "        text-align: right;\n",
       "    }\n",
       "</style>\n",
       "<table border=\"1\" class=\"dataframe\">\n",
       "  <thead>\n",
       "    <tr style=\"text-align: right;\">\n",
       "      <th></th>\n",
       "      <th>fage</th>\n",
       "      <th>mage</th>\n",
       "      <th>mature</th>\n",
       "      <th>weeks</th>\n",
       "      <th>premie</th>\n",
       "      <th>visits</th>\n",
       "      <th>gained</th>\n",
       "      <th>weight</th>\n",
       "      <th>lowbirthweight</th>\n",
       "      <th>sex</th>\n",
       "      <th>habit</th>\n",
       "      <th>marital</th>\n",
       "      <th>whitemom</th>\n",
       "    </tr>\n",
       "  </thead>\n",
       "  <tbody>\n",
       "    <tr>\n",
       "      <th>0</th>\n",
       "      <td>34</td>\n",
       "      <td>34</td>\n",
       "      <td>younger mom</td>\n",
       "      <td>37</td>\n",
       "      <td>full term</td>\n",
       "      <td>14</td>\n",
       "      <td>28.0</td>\n",
       "      <td>6.96</td>\n",
       "      <td>not low</td>\n",
       "      <td>male</td>\n",
       "      <td>nonsmoker</td>\n",
       "      <td>married</td>\n",
       "      <td>white</td>\n",
       "    </tr>\n",
       "    <tr>\n",
       "      <th>1</th>\n",
       "      <td>36</td>\n",
       "      <td>31</td>\n",
       "      <td>younger mom</td>\n",
       "      <td>41</td>\n",
       "      <td>full term</td>\n",
       "      <td>12</td>\n",
       "      <td>41.0</td>\n",
       "      <td>8.86</td>\n",
       "      <td>not low</td>\n",
       "      <td>female</td>\n",
       "      <td>nonsmoker</td>\n",
       "      <td>married</td>\n",
       "      <td>white</td>\n",
       "    </tr>\n",
       "    <tr>\n",
       "      <th>2</th>\n",
       "      <td>37</td>\n",
       "      <td>36</td>\n",
       "      <td>mature mom</td>\n",
       "      <td>37</td>\n",
       "      <td>full term</td>\n",
       "      <td>10</td>\n",
       "      <td>28.0</td>\n",
       "      <td>7.51</td>\n",
       "      <td>not low</td>\n",
       "      <td>female</td>\n",
       "      <td>nonsmoker</td>\n",
       "      <td>married</td>\n",
       "      <td>not white</td>\n",
       "    </tr>\n",
       "    <tr>\n",
       "      <th>3</th>\n",
       "      <td>31</td>\n",
       "      <td>16</td>\n",
       "      <td>younger mom</td>\n",
       "      <td>38</td>\n",
       "      <td>full term</td>\n",
       "      <td>0</td>\n",
       "      <td>29.0</td>\n",
       "      <td>6.19</td>\n",
       "      <td>not low</td>\n",
       "      <td>male</td>\n",
       "      <td>nonsmoker</td>\n",
       "      <td>not married</td>\n",
       "      <td>white</td>\n",
       "    </tr>\n",
       "    <tr>\n",
       "      <th>4</th>\n",
       "      <td>32</td>\n",
       "      <td>31</td>\n",
       "      <td>younger mom</td>\n",
       "      <td>36</td>\n",
       "      <td>premie</td>\n",
       "      <td>12</td>\n",
       "      <td>48.0</td>\n",
       "      <td>6.75</td>\n",
       "      <td>not low</td>\n",
       "      <td>female</td>\n",
       "      <td>nonsmoker</td>\n",
       "      <td>married</td>\n",
       "      <td>white</td>\n",
       "    </tr>\n",
       "    <tr>\n",
       "      <th>5</th>\n",
       "      <td>32</td>\n",
       "      <td>26</td>\n",
       "      <td>younger mom</td>\n",
       "      <td>39</td>\n",
       "      <td>full term</td>\n",
       "      <td>14</td>\n",
       "      <td>45.0</td>\n",
       "      <td>6.69</td>\n",
       "      <td>not low</td>\n",
       "      <td>female</td>\n",
       "      <td>nonsmoker</td>\n",
       "      <td>married</td>\n",
       "      <td>white</td>\n",
       "    </tr>\n",
       "    <tr>\n",
       "      <th>6</th>\n",
       "      <td>37</td>\n",
       "      <td>36</td>\n",
       "      <td>mature mom</td>\n",
       "      <td>36</td>\n",
       "      <td>premie</td>\n",
       "      <td>10</td>\n",
       "      <td>20.0</td>\n",
       "      <td>6.13</td>\n",
       "      <td>not low</td>\n",
       "      <td>female</td>\n",
       "      <td>nonsmoker</td>\n",
       "      <td>married</td>\n",
       "      <td>white</td>\n",
       "    </tr>\n",
       "    <tr>\n",
       "      <th>7</th>\n",
       "      <td>29</td>\n",
       "      <td>24</td>\n",
       "      <td>younger mom</td>\n",
       "      <td>40</td>\n",
       "      <td>full term</td>\n",
       "      <td>13</td>\n",
       "      <td>65.0</td>\n",
       "      <td>6.74</td>\n",
       "      <td>not low</td>\n",
       "      <td>male</td>\n",
       "      <td>nonsmoker</td>\n",
       "      <td>not married</td>\n",
       "      <td>white</td>\n",
       "    </tr>\n",
       "    <tr>\n",
       "      <th>8</th>\n",
       "      <td>30</td>\n",
       "      <td>32</td>\n",
       "      <td>younger mom</td>\n",
       "      <td>39</td>\n",
       "      <td>full term</td>\n",
       "      <td>15</td>\n",
       "      <td>25.0</td>\n",
       "      <td>8.94</td>\n",
       "      <td>not low</td>\n",
       "      <td>female</td>\n",
       "      <td>nonsmoker</td>\n",
       "      <td>married</td>\n",
       "      <td>white</td>\n",
       "    </tr>\n",
       "    <tr>\n",
       "      <th>9</th>\n",
       "      <td>29</td>\n",
       "      <td>26</td>\n",
       "      <td>younger mom</td>\n",
       "      <td>39</td>\n",
       "      <td>full term</td>\n",
       "      <td>11</td>\n",
       "      <td>22.0</td>\n",
       "      <td>9.12</td>\n",
       "      <td>not low</td>\n",
       "      <td>male</td>\n",
       "      <td>nonsmoker</td>\n",
       "      <td>not married</td>\n",
       "      <td>not white</td>\n",
       "    </tr>\n",
       "  </tbody>\n",
       "</table>\n",
       "</div>"
      ],
      "text/plain": [
       "   fage  mage       mature  weeks     premie  visits  gained  weight  \\\n",
       "0    34    34  younger mom     37  full term      14    28.0    6.96   \n",
       "1    36    31  younger mom     41  full term      12    41.0    8.86   \n",
       "2    37    36   mature mom     37  full term      10    28.0    7.51   \n",
       "3    31    16  younger mom     38  full term       0    29.0    6.19   \n",
       "4    32    31  younger mom     36     premie      12    48.0    6.75   \n",
       "5    32    26  younger mom     39  full term      14    45.0    6.69   \n",
       "6    37    36   mature mom     36     premie      10    20.0    6.13   \n",
       "7    29    24  younger mom     40  full term      13    65.0    6.74   \n",
       "8    30    32  younger mom     39  full term      15    25.0    8.94   \n",
       "9    29    26  younger mom     39  full term      11    22.0    9.12   \n",
       "\n",
       "  lowbirthweight     sex      habit      marital   whitemom  \n",
       "0        not low    male  nonsmoker      married      white  \n",
       "1        not low  female  nonsmoker      married      white  \n",
       "2        not low  female  nonsmoker      married  not white  \n",
       "3        not low    male  nonsmoker  not married      white  \n",
       "4        not low  female  nonsmoker      married      white  \n",
       "5        not low  female  nonsmoker      married      white  \n",
       "6        not low  female  nonsmoker      married      white  \n",
       "7        not low    male  nonsmoker  not married      white  \n",
       "8        not low  female  nonsmoker      married      white  \n",
       "9        not low    male  nonsmoker  not married  not white  "
      ]
     },
     "execution_count": 49,
     "metadata": {},
     "output_type": "execute_result"
    }
   ],
   "source": [
    "births_df.head(10)"
   ]
  },
  {
   "cell_type": "markdown",
   "id": "victorian-failing",
   "metadata": {},
   "source": [
    "### Dataset 3:"
   ]
  },
  {
   "cell_type": "code",
   "execution_count": 50,
   "id": "reserved-alignment",
   "metadata": {
    "scrolled": false
   },
   "outputs": [
    {
     "data": {
      "text/html": [
       "<div>\n",
       "<style scoped>\n",
       "    .dataframe tbody tr th:only-of-type {\n",
       "        vertical-align: middle;\n",
       "    }\n",
       "\n",
       "    .dataframe tbody tr th {\n",
       "        vertical-align: top;\n",
       "    }\n",
       "\n",
       "    .dataframe thead th {\n",
       "        text-align: right;\n",
       "    }\n",
       "</style>\n",
       "<table border=\"1\" class=\"dataframe\">\n",
       "  <thead>\n",
       "    <tr style=\"text-align: right;\">\n",
       "      <th></th>\n",
       "      <th>Reporting period</th>\n",
       "      <th>Period of coverage</th>\n",
       "      <th>Breakdown</th>\n",
       "      <th>ONS code</th>\n",
       "      <th>Level</th>\n",
       "      <th>Level description</th>\n",
       "      <th>Indicator value</th>\n",
       "      <th>CI lower</th>\n",
       "      <th>CI upper</th>\n",
       "      <th>Denominator</th>\n",
       "      <th>Numerator</th>\n",
       "    </tr>\n",
       "  </thead>\n",
       "  <tbody>\n",
       "    <tr>\n",
       "      <th>0</th>\n",
       "      <td>2017</td>\n",
       "      <td>01/01/2017 to 31/12/2017</td>\n",
       "      <td>National</td>\n",
       "      <td>E92000001</td>\n",
       "      <td>England</td>\n",
       "      <td>Resident in England</td>\n",
       "      <td>2.8</td>\n",
       "      <td>2.8</td>\n",
       "      <td>2.9</td>\n",
       "      <td>586,452</td>\n",
       "      <td>16,534</td>\n",
       "    </tr>\n",
       "    <tr>\n",
       "      <th>1</th>\n",
       "      <td>2016</td>\n",
       "      <td>01/01/2016 to 31/12/2016</td>\n",
       "      <td>National</td>\n",
       "      <td>E92000001</td>\n",
       "      <td>England</td>\n",
       "      <td>Resident in England</td>\n",
       "      <td>2.8</td>\n",
       "      <td>2.7</td>\n",
       "      <td>2.8</td>\n",
       "      <td>602,547</td>\n",
       "      <td>16,788</td>\n",
       "    </tr>\n",
       "    <tr>\n",
       "      <th>2</th>\n",
       "      <td>2015</td>\n",
       "      <td>01/01/2015 to 31/12/2015</td>\n",
       "      <td>National</td>\n",
       "      <td>E92000001</td>\n",
       "      <td>England</td>\n",
       "      <td>Resident in England</td>\n",
       "      <td>2.8</td>\n",
       "      <td>2.7</td>\n",
       "      <td>2.8</td>\n",
       "      <td>603,646</td>\n",
       "      <td>16,748</td>\n",
       "    </tr>\n",
       "    <tr>\n",
       "      <th>3</th>\n",
       "      <td>2014</td>\n",
       "      <td>01/01/2014 to 31/12/2014</td>\n",
       "      <td>National</td>\n",
       "      <td>E92000001</td>\n",
       "      <td>England</td>\n",
       "      <td>Resident in England</td>\n",
       "      <td>2.9</td>\n",
       "      <td>2.8</td>\n",
       "      <td>2.9</td>\n",
       "      <td>601,620</td>\n",
       "      <td>17,231</td>\n",
       "    </tr>\n",
       "    <tr>\n",
       "      <th>4</th>\n",
       "      <td>2013</td>\n",
       "      <td>01/01/2013 to 31/12/2013</td>\n",
       "      <td>National</td>\n",
       "      <td>E92000001</td>\n",
       "      <td>England</td>\n",
       "      <td>Resident in England</td>\n",
       "      <td>2.8</td>\n",
       "      <td>2.8</td>\n",
       "      <td>2.9</td>\n",
       "      <td>608,579</td>\n",
       "      <td>17,175</td>\n",
       "    </tr>\n",
       "    <tr>\n",
       "      <th>5</th>\n",
       "      <td>2017</td>\n",
       "      <td>01/01/2017 to 31/12/2017</td>\n",
       "      <td>CCG</td>\n",
       "      <td>E38000001</td>\n",
       "      <td>02N</td>\n",
       "      <td>NHS Airedale, Wharfedale and Craven CCG</td>\n",
       "      <td>2.0</td>\n",
       "      <td>1.4</td>\n",
       "      <td>2.9</td>\n",
       "      <td>1,431</td>\n",
       "      <td>29</td>\n",
       "    </tr>\n",
       "    <tr>\n",
       "      <th>6</th>\n",
       "      <td>2017</td>\n",
       "      <td>01/01/2017 to 31/12/2017</td>\n",
       "      <td>CCG</td>\n",
       "      <td>E38000002</td>\n",
       "      <td>09C</td>\n",
       "      <td>NHS Ashford CCG</td>\n",
       "      <td>2.4</td>\n",
       "      <td>1.7</td>\n",
       "      <td>3.3</td>\n",
       "      <td>1,392</td>\n",
       "      <td>33</td>\n",
       "    </tr>\n",
       "    <tr>\n",
       "      <th>7</th>\n",
       "      <td>2017</td>\n",
       "      <td>01/01/2017 to 31/12/2017</td>\n",
       "      <td>CCG</td>\n",
       "      <td>E38000004</td>\n",
       "      <td>07L</td>\n",
       "      <td>NHS Barking and Dagenham CCG</td>\n",
       "      <td>3.8</td>\n",
       "      <td>3.2</td>\n",
       "      <td>4.5</td>\n",
       "      <td>3,471</td>\n",
       "      <td>131</td>\n",
       "    </tr>\n",
       "    <tr>\n",
       "      <th>8</th>\n",
       "      <td>2017</td>\n",
       "      <td>01/01/2017 to 31/12/2017</td>\n",
       "      <td>CCG</td>\n",
       "      <td>E38000005</td>\n",
       "      <td>07M</td>\n",
       "      <td>NHS Barnet CCG</td>\n",
       "      <td>2.6</td>\n",
       "      <td>2.2</td>\n",
       "      <td>3.1</td>\n",
       "      <td>4,821</td>\n",
       "      <td>127</td>\n",
       "    </tr>\n",
       "    <tr>\n",
       "      <th>9</th>\n",
       "      <td>2017</td>\n",
       "      <td>01/01/2017 to 31/12/2017</td>\n",
       "      <td>CCG</td>\n",
       "      <td>E38000006</td>\n",
       "      <td>02P</td>\n",
       "      <td>NHS Barnsley CCG</td>\n",
       "      <td>3.0</td>\n",
       "      <td>2.4</td>\n",
       "      <td>3.8</td>\n",
       "      <td>2,522</td>\n",
       "      <td>76</td>\n",
       "    </tr>\n",
       "  </tbody>\n",
       "</table>\n",
       "</div>"
      ],
      "text/plain": [
       "   Reporting period        Period of coverage Breakdown   ONS code    Level  \\\n",
       "0              2017  01/01/2017 to 31/12/2017  National  E92000001  England   \n",
       "1              2016  01/01/2016 to 31/12/2016  National  E92000001  England   \n",
       "2              2015  01/01/2015 to 31/12/2015  National  E92000001  England   \n",
       "3              2014  01/01/2014 to 31/12/2014  National  E92000001  England   \n",
       "4              2013  01/01/2013 to 31/12/2013  National  E92000001  England   \n",
       "5              2017  01/01/2017 to 31/12/2017       CCG  E38000001      02N   \n",
       "6              2017  01/01/2017 to 31/12/2017       CCG  E38000002      09C   \n",
       "7              2017  01/01/2017 to 31/12/2017       CCG  E38000004      07L   \n",
       "8              2017  01/01/2017 to 31/12/2017       CCG  E38000005      07M   \n",
       "9              2017  01/01/2017 to 31/12/2017       CCG  E38000006      02P   \n",
       "\n",
       "                         Level description  Indicator value  CI lower  \\\n",
       "0                      Resident in England              2.8       2.8   \n",
       "1                      Resident in England              2.8       2.7   \n",
       "2                      Resident in England              2.8       2.7   \n",
       "3                      Resident in England              2.9       2.8   \n",
       "4                      Resident in England              2.8       2.8   \n",
       "5  NHS Airedale, Wharfedale and Craven CCG              2.0       1.4   \n",
       "6                          NHS Ashford CCG              2.4       1.7   \n",
       "7             NHS Barking and Dagenham CCG              3.8       3.2   \n",
       "8                           NHS Barnet CCG              2.6       2.2   \n",
       "9                         NHS Barnsley CCG              3.0       2.4   \n",
       "\n",
       "   CI upper Denominator Numerator  \n",
       "0       2.9     586,452    16,534  \n",
       "1       2.8     602,547    16,788  \n",
       "2       2.8     603,646    16,748  \n",
       "3       2.9     601,620    17,231  \n",
       "4       2.9     608,579    17,175  \n",
       "5       2.9       1,431        29  \n",
       "6       3.3       1,392        33  \n",
       "7       4.5       3,471       131  \n",
       "8       3.1       4,821       127  \n",
       "9       3.8       2,522        76  "
      ]
     },
     "execution_count": 50,
     "metadata": {},
     "output_type": "execute_result"
    }
   ],
   "source": [
    "lowbirth_df.head(10)"
   ]
  },
  {
   "cell_type": "code",
   "execution_count": 51,
   "id": "animal-extreme",
   "metadata": {
    "scrolled": true
   },
   "outputs": [],
   "source": [
    "missing_percentage = (lowbirth_df.isnull().sum() / len(lowbirth_df[\"Reporting period\"]))*100"
   ]
  },
  {
   "cell_type": "code",
   "execution_count": 52,
   "id": "heated-tonight",
   "metadata": {
    "scrolled": true
   },
   "outputs": [
    {
     "data": {
      "text/html": [
       "<div>\n",
       "<style scoped>\n",
       "    .dataframe tbody tr th:only-of-type {\n",
       "        vertical-align: middle;\n",
       "    }\n",
       "\n",
       "    .dataframe tbody tr th {\n",
       "        vertical-align: top;\n",
       "    }\n",
       "\n",
       "    .dataframe thead th {\n",
       "        text-align: right;\n",
       "    }\n",
       "</style>\n",
       "<table border=\"1\" class=\"dataframe\">\n",
       "  <thead>\n",
       "    <tr style=\"text-align: right;\">\n",
       "      <th></th>\n",
       "      <th>Reporting period</th>\n",
       "      <th>Period of coverage</th>\n",
       "      <th>Indicator value</th>\n",
       "      <th>CI lower</th>\n",
       "      <th>CI upper</th>\n",
       "      <th>Denominator</th>\n",
       "      <th>Numerator</th>\n",
       "    </tr>\n",
       "  </thead>\n",
       "  <tbody>\n",
       "    <tr>\n",
       "      <th>0</th>\n",
       "      <td>2017</td>\n",
       "      <td>01/01/2017 to 31/12/2017</td>\n",
       "      <td>2.8</td>\n",
       "      <td>2.8</td>\n",
       "      <td>2.9</td>\n",
       "      <td>586,452</td>\n",
       "      <td>16,534</td>\n",
       "    </tr>\n",
       "    <tr>\n",
       "      <th>1</th>\n",
       "      <td>2016</td>\n",
       "      <td>01/01/2016 to 31/12/2016</td>\n",
       "      <td>2.8</td>\n",
       "      <td>2.7</td>\n",
       "      <td>2.8</td>\n",
       "      <td>602,547</td>\n",
       "      <td>16,788</td>\n",
       "    </tr>\n",
       "    <tr>\n",
       "      <th>2</th>\n",
       "      <td>2015</td>\n",
       "      <td>01/01/2015 to 31/12/2015</td>\n",
       "      <td>2.8</td>\n",
       "      <td>2.7</td>\n",
       "      <td>2.8</td>\n",
       "      <td>603,646</td>\n",
       "      <td>16,748</td>\n",
       "    </tr>\n",
       "    <tr>\n",
       "      <th>3</th>\n",
       "      <td>2014</td>\n",
       "      <td>01/01/2014 to 31/12/2014</td>\n",
       "      <td>2.9</td>\n",
       "      <td>2.8</td>\n",
       "      <td>2.9</td>\n",
       "      <td>601,620</td>\n",
       "      <td>17,231</td>\n",
       "    </tr>\n",
       "    <tr>\n",
       "      <th>4</th>\n",
       "      <td>2013</td>\n",
       "      <td>01/01/2013 to 31/12/2013</td>\n",
       "      <td>2.8</td>\n",
       "      <td>2.8</td>\n",
       "      <td>2.9</td>\n",
       "      <td>608,579</td>\n",
       "      <td>17,175</td>\n",
       "    </tr>\n",
       "    <tr>\n",
       "      <th>5</th>\n",
       "      <td>2017</td>\n",
       "      <td>01/01/2017 to 31/12/2017</td>\n",
       "      <td>2.0</td>\n",
       "      <td>1.4</td>\n",
       "      <td>2.9</td>\n",
       "      <td>1,431</td>\n",
       "      <td>29</td>\n",
       "    </tr>\n",
       "    <tr>\n",
       "      <th>6</th>\n",
       "      <td>2017</td>\n",
       "      <td>01/01/2017 to 31/12/2017</td>\n",
       "      <td>2.4</td>\n",
       "      <td>1.7</td>\n",
       "      <td>3.3</td>\n",
       "      <td>1,392</td>\n",
       "      <td>33</td>\n",
       "    </tr>\n",
       "    <tr>\n",
       "      <th>7</th>\n",
       "      <td>2017</td>\n",
       "      <td>01/01/2017 to 31/12/2017</td>\n",
       "      <td>3.8</td>\n",
       "      <td>3.2</td>\n",
       "      <td>4.5</td>\n",
       "      <td>3,471</td>\n",
       "      <td>131</td>\n",
       "    </tr>\n",
       "    <tr>\n",
       "      <th>8</th>\n",
       "      <td>2017</td>\n",
       "      <td>01/01/2017 to 31/12/2017</td>\n",
       "      <td>2.6</td>\n",
       "      <td>2.2</td>\n",
       "      <td>3.1</td>\n",
       "      <td>4,821</td>\n",
       "      <td>127</td>\n",
       "    </tr>\n",
       "    <tr>\n",
       "      <th>9</th>\n",
       "      <td>2017</td>\n",
       "      <td>01/01/2017 to 31/12/2017</td>\n",
       "      <td>3.0</td>\n",
       "      <td>2.4</td>\n",
       "      <td>3.8</td>\n",
       "      <td>2,522</td>\n",
       "      <td>76</td>\n",
       "    </tr>\n",
       "  </tbody>\n",
       "</table>\n",
       "</div>"
      ],
      "text/plain": [
       "   Reporting period        Period of coverage  Indicator value  CI lower  \\\n",
       "0              2017  01/01/2017 to 31/12/2017              2.8       2.8   \n",
       "1              2016  01/01/2016 to 31/12/2016              2.8       2.7   \n",
       "2              2015  01/01/2015 to 31/12/2015              2.8       2.7   \n",
       "3              2014  01/01/2014 to 31/12/2014              2.9       2.8   \n",
       "4              2013  01/01/2013 to 31/12/2013              2.8       2.8   \n",
       "5              2017  01/01/2017 to 31/12/2017              2.0       1.4   \n",
       "6              2017  01/01/2017 to 31/12/2017              2.4       1.7   \n",
       "7              2017  01/01/2017 to 31/12/2017              3.8       3.2   \n",
       "8              2017  01/01/2017 to 31/12/2017              2.6       2.2   \n",
       "9              2017  01/01/2017 to 31/12/2017              3.0       2.4   \n",
       "\n",
       "   CI upper Denominator Numerator  \n",
       "0       2.9     586,452    16,534  \n",
       "1       2.8     602,547    16,788  \n",
       "2       2.8     603,646    16,748  \n",
       "3       2.9     601,620    17,231  \n",
       "4       2.9     608,579    17,175  \n",
       "5       2.9       1,431        29  \n",
       "6       3.3       1,392        33  \n",
       "7       4.5       3,471       131  \n",
       "8       3.1       4,821       127  \n",
       "9       3.8       2,522        76  "
      ]
     },
     "execution_count": 52,
     "metadata": {},
     "output_type": "execute_result"
    }
   ],
   "source": [
    "lowbirth_df = lowbirth_df.drop(columns=[\"Breakdown\"])\n",
    "lowbirth_df = lowbirth_df.drop(columns=[\"ONS code\"])\n",
    "lowbirth_df = lowbirth_df.drop(columns=[\"Level\"])\n",
    "lowbirth_df = lowbirth_df.drop(columns=[\"Level description\"])\n",
    "lowbirth_df.head(10)"
   ]
  },
  {
   "cell_type": "markdown",
   "id": "baking-mailman",
   "metadata": {},
   "source": [
    "#### 1) Quais colunas precisaram de limpeza ou transformação?"
   ]
  },
  {
   "cell_type": "markdown",
   "id": "supposed-research",
   "metadata": {},
   "source": [
    "- Coluna 'age' e 'smoke' do dataset 1 precisaram de transformação de float para int.\n",
    "- Foi feito mudança nos dados nulos das colunas 'gestation' 'height' e 'weight' do dataset 1 pela média de cada coluna.\n",
    "- Foi feito mudança nos dados nulos da coluna 'fage' do dataset 2 pela média da coluna.\n",
    "- Foi feito mudança nos dados nulos da coluna 'visits' do dataset 2 para 0 visitas.\n",
    "- Coluna 'fage' e 'visits' do dataset 2 precisaram de transformação de float para int.\n",
    "- Foi feito mudança nos dados nulos da coluna 'gained' do dataset 2 pela média da coluna.\n",
    "- Foi feito mudança nos dados nulos da coluna 'habit' do dataset 2 para não fumantes.\n",
    "- Foi feito uma limpeza no dataset 3 removendo colunas de dados desnecessarios."
   ]
  },
  {
   "cell_type": "markdown",
   "id": "exciting-majority",
   "metadata": {},
   "source": [
    "#### 2) Que métodos foram utilizados nas colunas citadas na pergunta anterior?"
   ]
  },
  {
   "cell_type": "markdown",
   "id": "color-emergency",
   "metadata": {},
   "source": [
    "Foi feito uma copia das colunas convertidas para float64 e em seguida criado um novo array com essa copia porém em int.\n",
    "Também foi utilizado o metodo de substituição dos valores das linhas que contém valores considerados como nulo pela média de cada coluna. Por fim no dataset 3 foi feito apenas remoção de algumas colunas com dados de pouca importância.\n"
   ]
  },
  {
   "cell_type": "markdown",
   "id": "fundamental-rapid",
   "metadata": {},
   "source": [
    "### K-means dos dados"
   ]
  },
  {
   "cell_type": "code",
   "execution_count": 53,
   "id": "comprehensive-hardware",
   "metadata": {},
   "outputs": [
    {
     "data": {
      "text/html": [
       "<div>\n",
       "<style scoped>\n",
       "    .dataframe tbody tr th:only-of-type {\n",
       "        vertical-align: middle;\n",
       "    }\n",
       "\n",
       "    .dataframe tbody tr th {\n",
       "        vertical-align: top;\n",
       "    }\n",
       "\n",
       "    .dataframe thead th {\n",
       "        text-align: right;\n",
       "    }\n",
       "</style>\n",
       "<table border=\"1\" class=\"dataframe\">\n",
       "  <thead>\n",
       "    <tr style=\"text-align: right;\">\n",
       "      <th></th>\n",
       "      <th>case</th>\n",
       "      <th>bwt</th>\n",
       "      <th>gestation</th>\n",
       "      <th>parity</th>\n",
       "      <th>age</th>\n",
       "      <th>height</th>\n",
       "      <th>weight</th>\n",
       "      <th>smoke</th>\n",
       "    </tr>\n",
       "  </thead>\n",
       "  <tbody>\n",
       "    <tr>\n",
       "      <th>0</th>\n",
       "      <td>1</td>\n",
       "      <td>120</td>\n",
       "      <td>284.0</td>\n",
       "      <td>FirstPregnancy</td>\n",
       "      <td>27.0</td>\n",
       "      <td>62.0</td>\n",
       "      <td>100.0</td>\n",
       "      <td>nonsmoker</td>\n",
       "    </tr>\n",
       "    <tr>\n",
       "      <th>1</th>\n",
       "      <td>2</td>\n",
       "      <td>113</td>\n",
       "      <td>282.0</td>\n",
       "      <td>FirstPregnancy</td>\n",
       "      <td>33.0</td>\n",
       "      <td>64.0</td>\n",
       "      <td>135.0</td>\n",
       "      <td>nonsmoker</td>\n",
       "    </tr>\n",
       "    <tr>\n",
       "      <th>2</th>\n",
       "      <td>3</td>\n",
       "      <td>128</td>\n",
       "      <td>279.0</td>\n",
       "      <td>FirstPregnancy</td>\n",
       "      <td>28.0</td>\n",
       "      <td>64.0</td>\n",
       "      <td>115.0</td>\n",
       "      <td>smoker</td>\n",
       "    </tr>\n",
       "    <tr>\n",
       "      <th>3</th>\n",
       "      <td>4</td>\n",
       "      <td>123</td>\n",
       "      <td>280.0</td>\n",
       "      <td>FirstPregnancy</td>\n",
       "      <td>36.0</td>\n",
       "      <td>69.0</td>\n",
       "      <td>190.0</td>\n",
       "      <td>nonsmoker</td>\n",
       "    </tr>\n",
       "    <tr>\n",
       "      <th>4</th>\n",
       "      <td>5</td>\n",
       "      <td>108</td>\n",
       "      <td>282.0</td>\n",
       "      <td>FirstPregnancy</td>\n",
       "      <td>23.0</td>\n",
       "      <td>67.0</td>\n",
       "      <td>125.0</td>\n",
       "      <td>smoker</td>\n",
       "    </tr>\n",
       "    <tr>\n",
       "      <th>5</th>\n",
       "      <td>6</td>\n",
       "      <td>136</td>\n",
       "      <td>286.0</td>\n",
       "      <td>FirstPregnancy</td>\n",
       "      <td>25.0</td>\n",
       "      <td>62.0</td>\n",
       "      <td>93.0</td>\n",
       "      <td>nonsmoker</td>\n",
       "    </tr>\n",
       "    <tr>\n",
       "      <th>6</th>\n",
       "      <td>7</td>\n",
       "      <td>138</td>\n",
       "      <td>244.0</td>\n",
       "      <td>FirstPregnancy</td>\n",
       "      <td>33.0</td>\n",
       "      <td>62.0</td>\n",
       "      <td>178.0</td>\n",
       "      <td>nonsmoker</td>\n",
       "    </tr>\n",
       "    <tr>\n",
       "      <th>7</th>\n",
       "      <td>8</td>\n",
       "      <td>132</td>\n",
       "      <td>245.0</td>\n",
       "      <td>FirstPregnancy</td>\n",
       "      <td>23.0</td>\n",
       "      <td>65.0</td>\n",
       "      <td>140.0</td>\n",
       "      <td>nonsmoker</td>\n",
       "    </tr>\n",
       "    <tr>\n",
       "      <th>8</th>\n",
       "      <td>9</td>\n",
       "      <td>120</td>\n",
       "      <td>289.0</td>\n",
       "      <td>FirstPregnancy</td>\n",
       "      <td>25.0</td>\n",
       "      <td>62.0</td>\n",
       "      <td>125.0</td>\n",
       "      <td>nonsmoker</td>\n",
       "    </tr>\n",
       "    <tr>\n",
       "      <th>9</th>\n",
       "      <td>10</td>\n",
       "      <td>143</td>\n",
       "      <td>299.0</td>\n",
       "      <td>FirstPregnancy</td>\n",
       "      <td>30.0</td>\n",
       "      <td>66.0</td>\n",
       "      <td>136.0</td>\n",
       "      <td>smoker</td>\n",
       "    </tr>\n",
       "  </tbody>\n",
       "</table>\n",
       "</div>"
      ],
      "text/plain": [
       "   case  bwt  gestation          parity   age  height  weight      smoke\n",
       "0     1  120      284.0  FirstPregnancy  27.0    62.0   100.0  nonsmoker\n",
       "1     2  113      282.0  FirstPregnancy  33.0    64.0   135.0  nonsmoker\n",
       "2     3  128      279.0  FirstPregnancy  28.0    64.0   115.0     smoker\n",
       "3     4  123      280.0  FirstPregnancy  36.0    69.0   190.0  nonsmoker\n",
       "4     5  108      282.0  FirstPregnancy  23.0    67.0   125.0     smoker\n",
       "5     6  136      286.0  FirstPregnancy  25.0    62.0    93.0  nonsmoker\n",
       "6     7  138      244.0  FirstPregnancy  33.0    62.0   178.0  nonsmoker\n",
       "7     8  132      245.0  FirstPregnancy  23.0    65.0   140.0  nonsmoker\n",
       "8     9  120      289.0  FirstPregnancy  25.0    62.0   125.0  nonsmoker\n",
       "9    10  143      299.0  FirstPregnancy  30.0    66.0   136.0     smoker"
      ]
     },
     "execution_count": 53,
     "metadata": {},
     "output_type": "execute_result"
    }
   ],
   "source": [
    "babies_df.head(10)"
   ]
  },
  {
   "cell_type": "code",
   "execution_count": 54,
   "id": "varying-imaging",
   "metadata": {},
   "outputs": [
    {
     "data": {
      "text/plain": [
       "[Text(0.5, 0, 'Idade da mãe'), Text(0, 0.5, 'Tempo de gestação(dias)')]"
      ]
     },
     "execution_count": 54,
     "metadata": {},
     "output_type": "execute_result"
    },
    {
     "data": {
      "image/png": "[encoded data removed]",
      "text/plain": [
       "<Figure size 432x288 with 1 Axes>"
      ]
     },
     "metadata": {
      "needs_background": "light"
     },
     "output_type": "display_data"
    }
   ],
   "source": [
    "ax = sns.scatterplot(data=babies_df, x=\"age\", y=\"gestation\", hue=\"smoke\", palette=\"deep\")\n",
    "ax.set(xlabel=\"Idade da mãe\", ylabel=\"Tempo de gestação(dias)\")"
   ]
  },
  {
   "cell_type": "code",
   "execution_count": 55,
   "id": "statutory-concentration",
   "metadata": {},
   "outputs": [],
   "source": [
    "from sklearn.cluster import KMeans"
   ]
  },
  {
   "cell_type": "code",
   "execution_count": 56,
   "id": "alleged-greene",
   "metadata": {},
   "outputs": [],
   "source": [
    "babies_df_group = babies_df[[\"age\", \"gestation\"]]"
   ]
  },
  {
   "cell_type": "code",
   "execution_count": 57,
   "id": "informal-popularity",
   "metadata": {},
   "outputs": [],
   "source": [
    "kmeans = KMeans(n_clusters=2)"
   ]
  },
  {
   "cell_type": "code",
   "execution_count": 58,
   "id": "looking-snapshot",
   "metadata": {},
   "outputs": [
    {
     "data": {
      "text/plain": [
       "KMeans(n_clusters=2)"
      ]
     },
     "execution_count": 58,
     "metadata": {},
     "output_type": "execute_result"
    }
   ],
   "source": [
    "kmeans.fit(babies_df_group)"
   ]
  },
  {
   "cell_type": "code",
   "execution_count": 59,
   "id": "honest-leonard",
   "metadata": {},
   "outputs": [
    {
     "data": {
      "text/plain": [
       "[Text(0.5, 0, 'Idade da mãe'), Text(0, 0.5, 'Tempo de gestação(dias)')]"
      ]
     },
     "execution_count": 59,
     "metadata": {},
     "output_type": "execute_result"
    },
    {
     "data": {
      "image/png": "[encoded data removed]",
      "text/plain": [
       "<Figure size 432x288 with 1 Axes>"
      ]
     },
     "metadata": {
      "needs_background": "light"
     },
     "output_type": "display_data"
    }
   ],
   "source": [
    "ax = sns.scatterplot(data=babies_df, x=\"age\", y=\"gestation\", hue=kmeans.labels_, palette=\"deep\")\n",
    "ax.set(xlabel=\"Idade da mãe\", ylabel=\"Tempo de gestação(dias)\")"
   ]
  },
  {
   "cell_type": "code",
   "execution_count": 60,
   "id": "sapphire-tomato",
   "metadata": {},
   "outputs": [
    {
     "data": {
      "text/html": [
       "<div>\n",
       "<style scoped>\n",
       "    .dataframe tbody tr th:only-of-type {\n",
       "        vertical-align: middle;\n",
       "    }\n",
       "\n",
       "    .dataframe tbody tr th {\n",
       "        vertical-align: top;\n",
       "    }\n",
       "\n",
       "    .dataframe thead th {\n",
       "        text-align: right;\n",
       "    }\n",
       "</style>\n",
       "<table border=\"1\" class=\"dataframe\">\n",
       "  <thead>\n",
       "    <tr style=\"text-align: right;\">\n",
       "      <th></th>\n",
       "      <th>case</th>\n",
       "      <th>bwt</th>\n",
       "      <th>gestation</th>\n",
       "      <th>parity</th>\n",
       "      <th>age</th>\n",
       "      <th>height</th>\n",
       "      <th>weight</th>\n",
       "      <th>smoke</th>\n",
       "    </tr>\n",
       "  </thead>\n",
       "  <tbody>\n",
       "    <tr>\n",
       "      <th>0</th>\n",
       "      <td>1</td>\n",
       "      <td>120</td>\n",
       "      <td>284.0</td>\n",
       "      <td>FirstPregnancy</td>\n",
       "      <td>27.0</td>\n",
       "      <td>62.0</td>\n",
       "      <td>100.0</td>\n",
       "      <td>nonsmoker</td>\n",
       "    </tr>\n",
       "    <tr>\n",
       "      <th>1</th>\n",
       "      <td>2</td>\n",
       "      <td>113</td>\n",
       "      <td>282.0</td>\n",
       "      <td>FirstPregnancy</td>\n",
       "      <td>33.0</td>\n",
       "      <td>64.0</td>\n",
       "      <td>135.0</td>\n",
       "      <td>nonsmoker</td>\n",
       "    </tr>\n",
       "    <tr>\n",
       "      <th>2</th>\n",
       "      <td>3</td>\n",
       "      <td>128</td>\n",
       "      <td>279.0</td>\n",
       "      <td>FirstPregnancy</td>\n",
       "      <td>28.0</td>\n",
       "      <td>64.0</td>\n",
       "      <td>115.0</td>\n",
       "      <td>smoker</td>\n",
       "    </tr>\n",
       "    <tr>\n",
       "      <th>3</th>\n",
       "      <td>4</td>\n",
       "      <td>123</td>\n",
       "      <td>280.0</td>\n",
       "      <td>FirstPregnancy</td>\n",
       "      <td>36.0</td>\n",
       "      <td>69.0</td>\n",
       "      <td>190.0</td>\n",
       "      <td>nonsmoker</td>\n",
       "    </tr>\n",
       "    <tr>\n",
       "      <th>4</th>\n",
       "      <td>5</td>\n",
       "      <td>108</td>\n",
       "      <td>282.0</td>\n",
       "      <td>FirstPregnancy</td>\n",
       "      <td>23.0</td>\n",
       "      <td>67.0</td>\n",
       "      <td>125.0</td>\n",
       "      <td>smoker</td>\n",
       "    </tr>\n",
       "    <tr>\n",
       "      <th>...</th>\n",
       "      <td>...</td>\n",
       "      <td>...</td>\n",
       "      <td>...</td>\n",
       "      <td>...</td>\n",
       "      <td>...</td>\n",
       "      <td>...</td>\n",
       "      <td>...</td>\n",
       "      <td>...</td>\n",
       "    </tr>\n",
       "    <tr>\n",
       "      <th>1227</th>\n",
       "      <td>1228</td>\n",
       "      <td>103</td>\n",
       "      <td>278.0</td>\n",
       "      <td>FirstPregnancy</td>\n",
       "      <td>30.0</td>\n",
       "      <td>60.0</td>\n",
       "      <td>87.0</td>\n",
       "      <td>smoker</td>\n",
       "    </tr>\n",
       "    <tr>\n",
       "      <th>1229</th>\n",
       "      <td>1230</td>\n",
       "      <td>127</td>\n",
       "      <td>290.0</td>\n",
       "      <td>FirstPregnancy</td>\n",
       "      <td>27.0</td>\n",
       "      <td>65.0</td>\n",
       "      <td>121.0</td>\n",
       "      <td>nonsmoker</td>\n",
       "    </tr>\n",
       "    <tr>\n",
       "      <th>1233</th>\n",
       "      <td>1234</td>\n",
       "      <td>130</td>\n",
       "      <td>291.0</td>\n",
       "      <td>FirstPregnancy</td>\n",
       "      <td>30.0</td>\n",
       "      <td>65.0</td>\n",
       "      <td>150.0</td>\n",
       "      <td>smoker</td>\n",
       "    </tr>\n",
       "    <tr>\n",
       "      <th>1234</th>\n",
       "      <td>1235</td>\n",
       "      <td>125</td>\n",
       "      <td>281.0</td>\n",
       "      <td>NotFirtsPregnancy</td>\n",
       "      <td>21.0</td>\n",
       "      <td>65.0</td>\n",
       "      <td>110.0</td>\n",
       "      <td>nonsmoker</td>\n",
       "    </tr>\n",
       "    <tr>\n",
       "      <th>1235</th>\n",
       "      <td>1236</td>\n",
       "      <td>117</td>\n",
       "      <td>297.0</td>\n",
       "      <td>FirstPregnancy</td>\n",
       "      <td>38.0</td>\n",
       "      <td>65.0</td>\n",
       "      <td>129.0</td>\n",
       "      <td>nonsmoker</td>\n",
       "    </tr>\n",
       "  </tbody>\n",
       "</table>\n",
       "<p>728 rows × 8 columns</p>\n",
       "</div>"
      ],
      "text/plain": [
       "      case  bwt  gestation             parity   age  height  weight      smoke\n",
       "0        1  120      284.0     FirstPregnancy  27.0    62.0   100.0  nonsmoker\n",
       "1        2  113      282.0     FirstPregnancy  33.0    64.0   135.0  nonsmoker\n",
       "2        3  128      279.0     FirstPregnancy  28.0    64.0   115.0     smoker\n",
       "3        4  123      280.0     FirstPregnancy  36.0    69.0   190.0  nonsmoker\n",
       "4        5  108      282.0     FirstPregnancy  23.0    67.0   125.0     smoker\n",
       "...    ...  ...        ...                ...   ...     ...     ...        ...\n",
       "1227  1228  103      278.0     FirstPregnancy  30.0    60.0    87.0     smoker\n",
       "1229  1230  127      290.0     FirstPregnancy  27.0    65.0   121.0  nonsmoker\n",
       "1233  1234  130      291.0     FirstPregnancy  30.0    65.0   150.0     smoker\n",
       "1234  1235  125      281.0  NotFirtsPregnancy  21.0    65.0   110.0  nonsmoker\n",
       "1235  1236  117      297.0     FirstPregnancy  38.0    65.0   129.0  nonsmoker\n",
       "\n",
       "[728 rows x 8 columns]"
      ]
     },
     "execution_count": 60,
     "metadata": {},
     "output_type": "execute_result"
    }
   ],
   "source": [
    "babies_df[kmeans.labels_ == 1]"
   ]
  },
  {
   "cell_type": "code",
   "execution_count": 61,
   "id": "boring-inventory",
   "metadata": {},
   "outputs": [
    {
     "data": {
      "text/html": [
       "<div>\n",
       "<style scoped>\n",
       "    .dataframe tbody tr th:only-of-type {\n",
       "        vertical-align: middle;\n",
       "    }\n",
       "\n",
       "    .dataframe tbody tr th {\n",
       "        vertical-align: top;\n",
       "    }\n",
       "\n",
       "    .dataframe thead th {\n",
       "        text-align: right;\n",
       "    }\n",
       "</style>\n",
       "<table border=\"1\" class=\"dataframe\">\n",
       "  <thead>\n",
       "    <tr style=\"text-align: right;\">\n",
       "      <th></th>\n",
       "      <th>fage</th>\n",
       "      <th>mage</th>\n",
       "      <th>mature</th>\n",
       "      <th>weeks</th>\n",
       "      <th>premie</th>\n",
       "      <th>visits</th>\n",
       "      <th>gained</th>\n",
       "      <th>weight</th>\n",
       "      <th>lowbirthweight</th>\n",
       "      <th>sex</th>\n",
       "      <th>habit</th>\n",
       "      <th>marital</th>\n",
       "      <th>whitemom</th>\n",
       "    </tr>\n",
       "  </thead>\n",
       "  <tbody>\n",
       "    <tr>\n",
       "      <th>0</th>\n",
       "      <td>34</td>\n",
       "      <td>34</td>\n",
       "      <td>younger mom</td>\n",
       "      <td>37</td>\n",
       "      <td>full term</td>\n",
       "      <td>14</td>\n",
       "      <td>28.0</td>\n",
       "      <td>6.96</td>\n",
       "      <td>not low</td>\n",
       "      <td>male</td>\n",
       "      <td>nonsmoker</td>\n",
       "      <td>married</td>\n",
       "      <td>white</td>\n",
       "    </tr>\n",
       "    <tr>\n",
       "      <th>1</th>\n",
       "      <td>36</td>\n",
       "      <td>31</td>\n",
       "      <td>younger mom</td>\n",
       "      <td>41</td>\n",
       "      <td>full term</td>\n",
       "      <td>12</td>\n",
       "      <td>41.0</td>\n",
       "      <td>8.86</td>\n",
       "      <td>not low</td>\n",
       "      <td>female</td>\n",
       "      <td>nonsmoker</td>\n",
       "      <td>married</td>\n",
       "      <td>white</td>\n",
       "    </tr>\n",
       "    <tr>\n",
       "      <th>2</th>\n",
       "      <td>37</td>\n",
       "      <td>36</td>\n",
       "      <td>mature mom</td>\n",
       "      <td>37</td>\n",
       "      <td>full term</td>\n",
       "      <td>10</td>\n",
       "      <td>28.0</td>\n",
       "      <td>7.51</td>\n",
       "      <td>not low</td>\n",
       "      <td>female</td>\n",
       "      <td>nonsmoker</td>\n",
       "      <td>married</td>\n",
       "      <td>not white</td>\n",
       "    </tr>\n",
       "    <tr>\n",
       "      <th>3</th>\n",
       "      <td>31</td>\n",
       "      <td>16</td>\n",
       "      <td>younger mom</td>\n",
       "      <td>38</td>\n",
       "      <td>full term</td>\n",
       "      <td>0</td>\n",
       "      <td>29.0</td>\n",
       "      <td>6.19</td>\n",
       "      <td>not low</td>\n",
       "      <td>male</td>\n",
       "      <td>nonsmoker</td>\n",
       "      <td>not married</td>\n",
       "      <td>white</td>\n",
       "    </tr>\n",
       "    <tr>\n",
       "      <th>4</th>\n",
       "      <td>32</td>\n",
       "      <td>31</td>\n",
       "      <td>younger mom</td>\n",
       "      <td>36</td>\n",
       "      <td>premie</td>\n",
       "      <td>12</td>\n",
       "      <td>48.0</td>\n",
       "      <td>6.75</td>\n",
       "      <td>not low</td>\n",
       "      <td>female</td>\n",
       "      <td>nonsmoker</td>\n",
       "      <td>married</td>\n",
       "      <td>white</td>\n",
       "    </tr>\n",
       "    <tr>\n",
       "      <th>5</th>\n",
       "      <td>32</td>\n",
       "      <td>26</td>\n",
       "      <td>younger mom</td>\n",
       "      <td>39</td>\n",
       "      <td>full term</td>\n",
       "      <td>14</td>\n",
       "      <td>45.0</td>\n",
       "      <td>6.69</td>\n",
       "      <td>not low</td>\n",
       "      <td>female</td>\n",
       "      <td>nonsmoker</td>\n",
       "      <td>married</td>\n",
       "      <td>white</td>\n",
       "    </tr>\n",
       "    <tr>\n",
       "      <th>6</th>\n",
       "      <td>37</td>\n",
       "      <td>36</td>\n",
       "      <td>mature mom</td>\n",
       "      <td>36</td>\n",
       "      <td>premie</td>\n",
       "      <td>10</td>\n",
       "      <td>20.0</td>\n",
       "      <td>6.13</td>\n",
       "      <td>not low</td>\n",
       "      <td>female</td>\n",
       "      <td>nonsmoker</td>\n",
       "      <td>married</td>\n",
       "      <td>white</td>\n",
       "    </tr>\n",
       "    <tr>\n",
       "      <th>7</th>\n",
       "      <td>29</td>\n",
       "      <td>24</td>\n",
       "      <td>younger mom</td>\n",
       "      <td>40</td>\n",
       "      <td>full term</td>\n",
       "      <td>13</td>\n",
       "      <td>65.0</td>\n",
       "      <td>6.74</td>\n",
       "      <td>not low</td>\n",
       "      <td>male</td>\n",
       "      <td>nonsmoker</td>\n",
       "      <td>not married</td>\n",
       "      <td>white</td>\n",
       "    </tr>\n",
       "    <tr>\n",
       "      <th>8</th>\n",
       "      <td>30</td>\n",
       "      <td>32</td>\n",
       "      <td>younger mom</td>\n",
       "      <td>39</td>\n",
       "      <td>full term</td>\n",
       "      <td>15</td>\n",
       "      <td>25.0</td>\n",
       "      <td>8.94</td>\n",
       "      <td>not low</td>\n",
       "      <td>female</td>\n",
       "      <td>nonsmoker</td>\n",
       "      <td>married</td>\n",
       "      <td>white</td>\n",
       "    </tr>\n",
       "    <tr>\n",
       "      <th>9</th>\n",
       "      <td>29</td>\n",
       "      <td>26</td>\n",
       "      <td>younger mom</td>\n",
       "      <td>39</td>\n",
       "      <td>full term</td>\n",
       "      <td>11</td>\n",
       "      <td>22.0</td>\n",
       "      <td>9.12</td>\n",
       "      <td>not low</td>\n",
       "      <td>male</td>\n",
       "      <td>nonsmoker</td>\n",
       "      <td>not married</td>\n",
       "      <td>not white</td>\n",
       "    </tr>\n",
       "  </tbody>\n",
       "</table>\n",
       "</div>"
      ],
      "text/plain": [
       "   fage  mage       mature  weeks     premie  visits  gained  weight  \\\n",
       "0    34    34  younger mom     37  full term      14    28.0    6.96   \n",
       "1    36    31  younger mom     41  full term      12    41.0    8.86   \n",
       "2    37    36   mature mom     37  full term      10    28.0    7.51   \n",
       "3    31    16  younger mom     38  full term       0    29.0    6.19   \n",
       "4    32    31  younger mom     36     premie      12    48.0    6.75   \n",
       "5    32    26  younger mom     39  full term      14    45.0    6.69   \n",
       "6    37    36   mature mom     36     premie      10    20.0    6.13   \n",
       "7    29    24  younger mom     40  full term      13    65.0    6.74   \n",
       "8    30    32  younger mom     39  full term      15    25.0    8.94   \n",
       "9    29    26  younger mom     39  full term      11    22.0    9.12   \n",
       "\n",
       "  lowbirthweight     sex      habit      marital   whitemom  \n",
       "0        not low    male  nonsmoker      married      white  \n",
       "1        not low  female  nonsmoker      married      white  \n",
       "2        not low  female  nonsmoker      married  not white  \n",
       "3        not low    male  nonsmoker  not married      white  \n",
       "4        not low  female  nonsmoker      married      white  \n",
       "5        not low  female  nonsmoker      married      white  \n",
       "6        not low  female  nonsmoker      married      white  \n",
       "7        not low    male  nonsmoker  not married      white  \n",
       "8        not low  female  nonsmoker      married      white  \n",
       "9        not low    male  nonsmoker  not married  not white  "
      ]
     },
     "execution_count": 61,
     "metadata": {},
     "output_type": "execute_result"
    }
   ],
   "source": [
    "births_df.head(10)"
   ]
  },
  {
   "cell_type": "code",
   "execution_count": 62,
   "id": "original-partnership",
   "metadata": {},
   "outputs": [],
   "source": [
    "births_df_group = births_df[[\"weeks\",\"weight\"]]"
   ]
  },
  {
   "cell_type": "code",
   "execution_count": 63,
   "id": "divided-medication",
   "metadata": {},
   "outputs": [],
   "source": [
    "kmeans = KMeans(n_clusters=2)"
   ]
  },
  {
   "cell_type": "code",
   "execution_count": 64,
   "id": "consistent-postcard",
   "metadata": {},
   "outputs": [
    {
     "data": {
      "text/plain": [
       "KMeans(n_clusters=2)"
      ]
     },
     "execution_count": 64,
     "metadata": {},
     "output_type": "execute_result"
    }
   ],
   "source": [
    "kmeans.fit(births_df_group)"
   ]
  },
  {
   "cell_type": "code",
   "execution_count": 65,
   "id": "everyday-telling",
   "metadata": {},
   "outputs": [
    {
     "data": {
      "text/plain": [
       "[Text(0.5, 0, 'Tempo de gravidez(semanas)'),\n",
       " Text(0, 0.5, 'peso do bêbe(pounds)')]"
      ]
     },
     "execution_count": 65,
     "metadata": {},
     "output_type": "execute_result"
    },
    {
     "data": {
      "image/png": "[encoded data removed]",
      "text/plain": [
       "<Figure size 432x288 with 1 Axes>"
      ]
     },
     "metadata": {
      "needs_background": "light"
     },
     "output_type": "display_data"
    }
   ],
   "source": [
    "ax = sns.scatterplot(data=births_df, x=\"weeks\", y=\"weight\", hue=kmeans.labels_, palette=\"deep\")\n",
    "ax.set(xlabel=\"Tempo de gravidez(semanas)\", ylabel=\"peso do bêbe(pounds)\")"
   ]
  },
  {
   "cell_type": "code",
   "execution_count": 66,
   "id": "related-medicare",
   "metadata": {},
   "outputs": [
    {
     "data": {
      "text/html": [
       "<div>\n",
       "<style scoped>\n",
       "    .dataframe tbody tr th:only-of-type {\n",
       "        vertical-align: middle;\n",
       "    }\n",
       "\n",
       "    .dataframe tbody tr th {\n",
       "        vertical-align: top;\n",
       "    }\n",
       "\n",
       "    .dataframe thead th {\n",
       "        text-align: right;\n",
       "    }\n",
       "</style>\n",
       "<table border=\"1\" class=\"dataframe\">\n",
       "  <thead>\n",
       "    <tr style=\"text-align: right;\">\n",
       "      <th></th>\n",
       "      <th>fage</th>\n",
       "      <th>mage</th>\n",
       "      <th>mature</th>\n",
       "      <th>weeks</th>\n",
       "      <th>premie</th>\n",
       "      <th>visits</th>\n",
       "      <th>gained</th>\n",
       "      <th>weight</th>\n",
       "      <th>lowbirthweight</th>\n",
       "      <th>sex</th>\n",
       "      <th>habit</th>\n",
       "      <th>marital</th>\n",
       "      <th>whitemom</th>\n",
       "    </tr>\n",
       "  </thead>\n",
       "  <tbody>\n",
       "    <tr>\n",
       "      <th>0</th>\n",
       "      <td>34</td>\n",
       "      <td>34</td>\n",
       "      <td>younger mom</td>\n",
       "      <td>37</td>\n",
       "      <td>full term</td>\n",
       "      <td>14</td>\n",
       "      <td>28.0</td>\n",
       "      <td>6.96</td>\n",
       "      <td>not low</td>\n",
       "      <td>male</td>\n",
       "      <td>nonsmoker</td>\n",
       "      <td>married</td>\n",
       "      <td>white</td>\n",
       "    </tr>\n",
       "    <tr>\n",
       "      <th>1</th>\n",
       "      <td>36</td>\n",
       "      <td>31</td>\n",
       "      <td>younger mom</td>\n",
       "      <td>41</td>\n",
       "      <td>full term</td>\n",
       "      <td>12</td>\n",
       "      <td>41.0</td>\n",
       "      <td>8.86</td>\n",
       "      <td>not low</td>\n",
       "      <td>female</td>\n",
       "      <td>nonsmoker</td>\n",
       "      <td>married</td>\n",
       "      <td>white</td>\n",
       "    </tr>\n",
       "    <tr>\n",
       "      <th>2</th>\n",
       "      <td>37</td>\n",
       "      <td>36</td>\n",
       "      <td>mature mom</td>\n",
       "      <td>37</td>\n",
       "      <td>full term</td>\n",
       "      <td>10</td>\n",
       "      <td>28.0</td>\n",
       "      <td>7.51</td>\n",
       "      <td>not low</td>\n",
       "      <td>female</td>\n",
       "      <td>nonsmoker</td>\n",
       "      <td>married</td>\n",
       "      <td>not white</td>\n",
       "    </tr>\n",
       "    <tr>\n",
       "      <th>3</th>\n",
       "      <td>31</td>\n",
       "      <td>16</td>\n",
       "      <td>younger mom</td>\n",
       "      <td>38</td>\n",
       "      <td>full term</td>\n",
       "      <td>0</td>\n",
       "      <td>29.0</td>\n",
       "      <td>6.19</td>\n",
       "      <td>not low</td>\n",
       "      <td>male</td>\n",
       "      <td>nonsmoker</td>\n",
       "      <td>not married</td>\n",
       "      <td>white</td>\n",
       "    </tr>\n",
       "    <tr>\n",
       "      <th>5</th>\n",
       "      <td>32</td>\n",
       "      <td>26</td>\n",
       "      <td>younger mom</td>\n",
       "      <td>39</td>\n",
       "      <td>full term</td>\n",
       "      <td>14</td>\n",
       "      <td>45.0</td>\n",
       "      <td>6.69</td>\n",
       "      <td>not low</td>\n",
       "      <td>female</td>\n",
       "      <td>nonsmoker</td>\n",
       "      <td>married</td>\n",
       "      <td>white</td>\n",
       "    </tr>\n",
       "    <tr>\n",
       "      <th>...</th>\n",
       "      <td>...</td>\n",
       "      <td>...</td>\n",
       "      <td>...</td>\n",
       "      <td>...</td>\n",
       "      <td>...</td>\n",
       "      <td>...</td>\n",
       "      <td>...</td>\n",
       "      <td>...</td>\n",
       "      <td>...</td>\n",
       "      <td>...</td>\n",
       "      <td>...</td>\n",
       "      <td>...</td>\n",
       "      <td>...</td>\n",
       "    </tr>\n",
       "    <tr>\n",
       "      <th>993</th>\n",
       "      <td>48</td>\n",
       "      <td>32</td>\n",
       "      <td>younger mom</td>\n",
       "      <td>40</td>\n",
       "      <td>full term</td>\n",
       "      <td>8</td>\n",
       "      <td>8.0</td>\n",
       "      <td>9.00</td>\n",
       "      <td>not low</td>\n",
       "      <td>female</td>\n",
       "      <td>nonsmoker</td>\n",
       "      <td>married</td>\n",
       "      <td>not white</td>\n",
       "    </tr>\n",
       "    <tr>\n",
       "      <th>995</th>\n",
       "      <td>28</td>\n",
       "      <td>24</td>\n",
       "      <td>younger mom</td>\n",
       "      <td>39</td>\n",
       "      <td>full term</td>\n",
       "      <td>0</td>\n",
       "      <td>20.0</td>\n",
       "      <td>6.49</td>\n",
       "      <td>not low</td>\n",
       "      <td>male</td>\n",
       "      <td>nonsmoker</td>\n",
       "      <td>not married</td>\n",
       "      <td>not white</td>\n",
       "    </tr>\n",
       "    <tr>\n",
       "      <th>996</th>\n",
       "      <td>37</td>\n",
       "      <td>31</td>\n",
       "      <td>younger mom</td>\n",
       "      <td>38</td>\n",
       "      <td>full term</td>\n",
       "      <td>8</td>\n",
       "      <td>33.0</td>\n",
       "      <td>5.80</td>\n",
       "      <td>not low</td>\n",
       "      <td>female</td>\n",
       "      <td>nonsmoker</td>\n",
       "      <td>married</td>\n",
       "      <td>white</td>\n",
       "    </tr>\n",
       "    <tr>\n",
       "      <th>998</th>\n",
       "      <td>31</td>\n",
       "      <td>33</td>\n",
       "      <td>younger mom</td>\n",
       "      <td>42</td>\n",
       "      <td>full term</td>\n",
       "      <td>0</td>\n",
       "      <td>13.0</td>\n",
       "      <td>7.44</td>\n",
       "      <td>not low</td>\n",
       "      <td>male</td>\n",
       "      <td>nonsmoker</td>\n",
       "      <td>not married</td>\n",
       "      <td>white</td>\n",
       "    </tr>\n",
       "    <tr>\n",
       "      <th>999</th>\n",
       "      <td>21</td>\n",
       "      <td>17</td>\n",
       "      <td>younger mom</td>\n",
       "      <td>41</td>\n",
       "      <td>full term</td>\n",
       "      <td>12</td>\n",
       "      <td>41.0</td>\n",
       "      <td>7.13</td>\n",
       "      <td>not low</td>\n",
       "      <td>female</td>\n",
       "      <td>nonsmoker</td>\n",
       "      <td>not married</td>\n",
       "      <td>white</td>\n",
       "    </tr>\n",
       "  </tbody>\n",
       "</table>\n",
       "<p>882 rows × 13 columns</p>\n",
       "</div>"
      ],
      "text/plain": [
       "     fage  mage       mature  weeks     premie  visits  gained  weight  \\\n",
       "0      34    34  younger mom     37  full term      14    28.0    6.96   \n",
       "1      36    31  younger mom     41  full term      12    41.0    8.86   \n",
       "2      37    36   mature mom     37  full term      10    28.0    7.51   \n",
       "3      31    16  younger mom     38  full term       0    29.0    6.19   \n",
       "5      32    26  younger mom     39  full term      14    45.0    6.69   \n",
       "..    ...   ...          ...    ...        ...     ...     ...     ...   \n",
       "993    48    32  younger mom     40  full term       8     8.0    9.00   \n",
       "995    28    24  younger mom     39  full term       0    20.0    6.49   \n",
       "996    37    31  younger mom     38  full term       8    33.0    5.80   \n",
       "998    31    33  younger mom     42  full term       0    13.0    7.44   \n",
       "999    21    17  younger mom     41  full term      12    41.0    7.13   \n",
       "\n",
       "    lowbirthweight     sex      habit      marital   whitemom  \n",
       "0          not low    male  nonsmoker      married      white  \n",
       "1          not low  female  nonsmoker      married      white  \n",
       "2          not low  female  nonsmoker      married  not white  \n",
       "3          not low    male  nonsmoker  not married      white  \n",
       "5          not low  female  nonsmoker      married      white  \n",
       "..             ...     ...        ...          ...        ...  \n",
       "993        not low  female  nonsmoker      married  not white  \n",
       "995        not low    male  nonsmoker  not married  not white  \n",
       "996        not low  female  nonsmoker      married      white  \n",
       "998        not low    male  nonsmoker  not married      white  \n",
       "999        not low  female  nonsmoker  not married      white  \n",
       "\n",
       "[882 rows x 13 columns]"
      ]
     },
     "execution_count": 66,
     "metadata": {},
     "output_type": "execute_result"
    }
   ],
   "source": [
    "births_df[kmeans.labels_ == 0]"
   ]
  },
  {
   "cell_type": "code",
   "execution_count": 67,
   "id": "binary-renaissance",
   "metadata": {},
   "outputs": [
    {
     "data": {
      "text/html": [
       "<div>\n",
       "<style scoped>\n",
       "    .dataframe tbody tr th:only-of-type {\n",
       "        vertical-align: middle;\n",
       "    }\n",
       "\n",
       "    .dataframe tbody tr th {\n",
       "        vertical-align: top;\n",
       "    }\n",
       "\n",
       "    .dataframe thead th {\n",
       "        text-align: right;\n",
       "    }\n",
       "</style>\n",
       "<table border=\"1\" class=\"dataframe\">\n",
       "  <thead>\n",
       "    <tr style=\"text-align: right;\">\n",
       "      <th></th>\n",
       "      <th>Reporting period</th>\n",
       "      <th>Period of coverage</th>\n",
       "      <th>Indicator value</th>\n",
       "      <th>CI lower</th>\n",
       "      <th>CI upper</th>\n",
       "      <th>Denominator</th>\n",
       "      <th>Numerator</th>\n",
       "    </tr>\n",
       "  </thead>\n",
       "  <tbody>\n",
       "    <tr>\n",
       "      <th>0</th>\n",
       "      <td>2017</td>\n",
       "      <td>01/01/2017 to 31/12/2017</td>\n",
       "      <td>2.8</td>\n",
       "      <td>2.8</td>\n",
       "      <td>2.9</td>\n",
       "      <td>586,452</td>\n",
       "      <td>16,534</td>\n",
       "    </tr>\n",
       "    <tr>\n",
       "      <th>1</th>\n",
       "      <td>2016</td>\n",
       "      <td>01/01/2016 to 31/12/2016</td>\n",
       "      <td>2.8</td>\n",
       "      <td>2.7</td>\n",
       "      <td>2.8</td>\n",
       "      <td>602,547</td>\n",
       "      <td>16,788</td>\n",
       "    </tr>\n",
       "    <tr>\n",
       "      <th>2</th>\n",
       "      <td>2015</td>\n",
       "      <td>01/01/2015 to 31/12/2015</td>\n",
       "      <td>2.8</td>\n",
       "      <td>2.7</td>\n",
       "      <td>2.8</td>\n",
       "      <td>603,646</td>\n",
       "      <td>16,748</td>\n",
       "    </tr>\n",
       "    <tr>\n",
       "      <th>3</th>\n",
       "      <td>2014</td>\n",
       "      <td>01/01/2014 to 31/12/2014</td>\n",
       "      <td>2.9</td>\n",
       "      <td>2.8</td>\n",
       "      <td>2.9</td>\n",
       "      <td>601,620</td>\n",
       "      <td>17,231</td>\n",
       "    </tr>\n",
       "    <tr>\n",
       "      <th>4</th>\n",
       "      <td>2013</td>\n",
       "      <td>01/01/2013 to 31/12/2013</td>\n",
       "      <td>2.8</td>\n",
       "      <td>2.8</td>\n",
       "      <td>2.9</td>\n",
       "      <td>608,579</td>\n",
       "      <td>17,175</td>\n",
       "    </tr>\n",
       "    <tr>\n",
       "      <th>5</th>\n",
       "      <td>2017</td>\n",
       "      <td>01/01/2017 to 31/12/2017</td>\n",
       "      <td>2.0</td>\n",
       "      <td>1.4</td>\n",
       "      <td>2.9</td>\n",
       "      <td>1,431</td>\n",
       "      <td>29</td>\n",
       "    </tr>\n",
       "    <tr>\n",
       "      <th>6</th>\n",
       "      <td>2017</td>\n",
       "      <td>01/01/2017 to 31/12/2017</td>\n",
       "      <td>2.4</td>\n",
       "      <td>1.7</td>\n",
       "      <td>3.3</td>\n",
       "      <td>1,392</td>\n",
       "      <td>33</td>\n",
       "    </tr>\n",
       "    <tr>\n",
       "      <th>7</th>\n",
       "      <td>2017</td>\n",
       "      <td>01/01/2017 to 31/12/2017</td>\n",
       "      <td>3.8</td>\n",
       "      <td>3.2</td>\n",
       "      <td>4.5</td>\n",
       "      <td>3,471</td>\n",
       "      <td>131</td>\n",
       "    </tr>\n",
       "    <tr>\n",
       "      <th>8</th>\n",
       "      <td>2017</td>\n",
       "      <td>01/01/2017 to 31/12/2017</td>\n",
       "      <td>2.6</td>\n",
       "      <td>2.2</td>\n",
       "      <td>3.1</td>\n",
       "      <td>4,821</td>\n",
       "      <td>127</td>\n",
       "    </tr>\n",
       "    <tr>\n",
       "      <th>9</th>\n",
       "      <td>2017</td>\n",
       "      <td>01/01/2017 to 31/12/2017</td>\n",
       "      <td>3.0</td>\n",
       "      <td>2.4</td>\n",
       "      <td>3.8</td>\n",
       "      <td>2,522</td>\n",
       "      <td>76</td>\n",
       "    </tr>\n",
       "  </tbody>\n",
       "</table>\n",
       "</div>"
      ],
      "text/plain": [
       "   Reporting period        Period of coverage  Indicator value  CI lower  \\\n",
       "0              2017  01/01/2017 to 31/12/2017              2.8       2.8   \n",
       "1              2016  01/01/2016 to 31/12/2016              2.8       2.7   \n",
       "2              2015  01/01/2015 to 31/12/2015              2.8       2.7   \n",
       "3              2014  01/01/2014 to 31/12/2014              2.9       2.8   \n",
       "4              2013  01/01/2013 to 31/12/2013              2.8       2.8   \n",
       "5              2017  01/01/2017 to 31/12/2017              2.0       1.4   \n",
       "6              2017  01/01/2017 to 31/12/2017              2.4       1.7   \n",
       "7              2017  01/01/2017 to 31/12/2017              3.8       3.2   \n",
       "8              2017  01/01/2017 to 31/12/2017              2.6       2.2   \n",
       "9              2017  01/01/2017 to 31/12/2017              3.0       2.4   \n",
       "\n",
       "   CI upper Denominator Numerator  \n",
       "0       2.9     586,452    16,534  \n",
       "1       2.8     602,547    16,788  \n",
       "2       2.8     603,646    16,748  \n",
       "3       2.9     601,620    17,231  \n",
       "4       2.9     608,579    17,175  \n",
       "5       2.9       1,431        29  \n",
       "6       3.3       1,392        33  \n",
       "7       4.5       3,471       131  \n",
       "8       3.1       4,821       127  \n",
       "9       3.8       2,522        76  "
      ]
     },
     "execution_count": 67,
     "metadata": {},
     "output_type": "execute_result"
    }
   ],
   "source": [
    "lowbirth_df.head(10)"
   ]
  },
  {
   "cell_type": "code",
   "execution_count": 68,
   "id": "popular-recipe",
   "metadata": {},
   "outputs": [],
   "source": [
    "lowbirth_df_group = lowbirth_df[[\"Reporting period\",\"Indicator value\"]]"
   ]
  },
  {
   "cell_type": "code",
   "execution_count": 69,
   "id": "mineral-restriction",
   "metadata": {},
   "outputs": [],
   "source": [
    "kmeans = KMeans(n_clusters=2)"
   ]
  },
  {
   "cell_type": "code",
   "execution_count": 70,
   "id": "editorial-configuration",
   "metadata": {},
   "outputs": [
    {
     "data": {
      "text/plain": [
       "KMeans(n_clusters=2)"
      ]
     },
     "execution_count": 70,
     "metadata": {},
     "output_type": "execute_result"
    }
   ],
   "source": [
    "kmeans.fit(lowbirth_df_group)"
   ]
  },
  {
   "cell_type": "code",
   "execution_count": 71,
   "id": "governing-property",
   "metadata": {
    "scrolled": true
   },
   "outputs": [
    {
     "data": {
      "text/plain": [
       "[Text(0.5, 0, 'Ano da gravidez'),\n",
       " Text(0, 0.5, 'Porcentagem de bêbes com baixo peso')]"
      ]
     },
     "execution_count": 71,
     "metadata": {},
     "output_type": "execute_result"
    },
    {
     "data": {
      "image/png": "[encoded data removed]",
      "text/plain": [
       "<Figure size 432x288 with 1 Axes>"
      ]
     },
     "metadata": {
      "needs_background": "light"
     },
     "output_type": "display_data"
    }
   ],
   "source": [
    "ax = sns.scatterplot(data=lowbirth_df, x=\"Reporting period\", y=\"Indicator value\", alpha=0.5, hue=kmeans.labels_)\n",
    "ax.set(xlabel=\"Ano da gravidez\", ylabel=\"Porcentagem de bêbes com baixo peso\")"
   ]
  },
  {
   "cell_type": "code",
   "execution_count": 72,
   "id": "backed-signature",
   "metadata": {
    "scrolled": true
   },
   "outputs": [
    {
     "data": {
      "text/html": [
       "<div>\n",
       "<style scoped>\n",
       "    .dataframe tbody tr th:only-of-type {\n",
       "        vertical-align: middle;\n",
       "    }\n",
       "\n",
       "    .dataframe tbody tr th {\n",
       "        vertical-align: top;\n",
       "    }\n",
       "\n",
       "    .dataframe thead th {\n",
       "        text-align: right;\n",
       "    }\n",
       "</style>\n",
       "<table border=\"1\" class=\"dataframe\">\n",
       "  <thead>\n",
       "    <tr style=\"text-align: right;\">\n",
       "      <th></th>\n",
       "      <th>Reporting period</th>\n",
       "      <th>Period of coverage</th>\n",
       "      <th>Indicator value</th>\n",
       "      <th>CI lower</th>\n",
       "      <th>CI upper</th>\n",
       "      <th>Denominator</th>\n",
       "      <th>Numerator</th>\n",
       "    </tr>\n",
       "  </thead>\n",
       "  <tbody>\n",
       "    <tr>\n",
       "      <th>3</th>\n",
       "      <td>2014</td>\n",
       "      <td>01/01/2014 to 31/12/2014</td>\n",
       "      <td>2.9</td>\n",
       "      <td>2.8</td>\n",
       "      <td>2.9</td>\n",
       "      <td>601,620</td>\n",
       "      <td>17,231</td>\n",
       "    </tr>\n",
       "    <tr>\n",
       "      <th>4</th>\n",
       "      <td>2013</td>\n",
       "      <td>01/01/2013 to 31/12/2013</td>\n",
       "      <td>2.8</td>\n",
       "      <td>2.8</td>\n",
       "      <td>2.9</td>\n",
       "      <td>608,579</td>\n",
       "      <td>17,175</td>\n",
       "    </tr>\n",
       "    <tr>\n",
       "      <th>616</th>\n",
       "      <td>2014</td>\n",
       "      <td>01/01/2014 to 31/12/2014</td>\n",
       "      <td>2.7</td>\n",
       "      <td>2.0</td>\n",
       "      <td>3.6</td>\n",
       "      <td>1,551</td>\n",
       "      <td>42</td>\n",
       "    </tr>\n",
       "    <tr>\n",
       "      <th>617</th>\n",
       "      <td>2014</td>\n",
       "      <td>01/01/2014 to 31/12/2014</td>\n",
       "      <td>1.3</td>\n",
       "      <td>0.8</td>\n",
       "      <td>2.1</td>\n",
       "      <td>1,346</td>\n",
       "      <td>18</td>\n",
       "    </tr>\n",
       "    <tr>\n",
       "      <th>618</th>\n",
       "      <td>2014</td>\n",
       "      <td>01/01/2014 to 31/12/2014</td>\n",
       "      <td>2.0</td>\n",
       "      <td>1.5</td>\n",
       "      <td>2.7</td>\n",
       "      <td>2,147</td>\n",
       "      <td>43</td>\n",
       "    </tr>\n",
       "    <tr>\n",
       "      <th>...</th>\n",
       "      <td>...</td>\n",
       "      <td>...</td>\n",
       "      <td>...</td>\n",
       "      <td>...</td>\n",
       "      <td>...</td>\n",
       "      <td>...</td>\n",
       "      <td>...</td>\n",
       "    </tr>\n",
       "    <tr>\n",
       "      <th>1029</th>\n",
       "      <td>2013</td>\n",
       "      <td>01/01/2013 to 31/12/2013</td>\n",
       "      <td>2.2</td>\n",
       "      <td>1.5</td>\n",
       "      <td>3.1</td>\n",
       "      <td>1,471</td>\n",
       "      <td>32</td>\n",
       "    </tr>\n",
       "    <tr>\n",
       "      <th>1030</th>\n",
       "      <td>2013</td>\n",
       "      <td>01/01/2013 to 31/12/2013</td>\n",
       "      <td>2.2</td>\n",
       "      <td>1.7</td>\n",
       "      <td>2.7</td>\n",
       "      <td>3,204</td>\n",
       "      <td>69</td>\n",
       "    </tr>\n",
       "    <tr>\n",
       "      <th>1031</th>\n",
       "      <td>2013</td>\n",
       "      <td>01/01/2013 to 31/12/2013</td>\n",
       "      <td>2.2</td>\n",
       "      <td>1.6</td>\n",
       "      <td>3.1</td>\n",
       "      <td>1,587</td>\n",
       "      <td>35</td>\n",
       "    </tr>\n",
       "    <tr>\n",
       "      <th>1032</th>\n",
       "      <td>2013</td>\n",
       "      <td>01/01/2013 to 31/12/2013</td>\n",
       "      <td>3.3</td>\n",
       "      <td>2.8</td>\n",
       "      <td>4.0</td>\n",
       "      <td>3,146</td>\n",
       "      <td>105</td>\n",
       "    </tr>\n",
       "    <tr>\n",
       "      <th>1033</th>\n",
       "      <td>2013</td>\n",
       "      <td>01/01/2013 to 31/12/2013</td>\n",
       "      <td>2.8</td>\n",
       "      <td>1.9</td>\n",
       "      <td>4.0</td>\n",
       "      <td>971</td>\n",
       "      <td>27</td>\n",
       "    </tr>\n",
       "  </tbody>\n",
       "</table>\n",
       "<p>420 rows × 7 columns</p>\n",
       "</div>"
      ],
      "text/plain": [
       "      Reporting period        Period of coverage  Indicator value  CI lower  \\\n",
       "3                 2014  01/01/2014 to 31/12/2014              2.9       2.8   \n",
       "4                 2013  01/01/2013 to 31/12/2013              2.8       2.8   \n",
       "616               2014  01/01/2014 to 31/12/2014              2.7       2.0   \n",
       "617               2014  01/01/2014 to 31/12/2014              1.3       0.8   \n",
       "618               2014  01/01/2014 to 31/12/2014              2.0       1.5   \n",
       "...                ...                       ...              ...       ...   \n",
       "1029              2013  01/01/2013 to 31/12/2013              2.2       1.5   \n",
       "1030              2013  01/01/2013 to 31/12/2013              2.2       1.7   \n",
       "1031              2013  01/01/2013 to 31/12/2013              2.2       1.6   \n",
       "1032              2013  01/01/2013 to 31/12/2013              3.3       2.8   \n",
       "1033              2013  01/01/2013 to 31/12/2013              2.8       1.9   \n",
       "\n",
       "      CI upper Denominator Numerator  \n",
       "3          2.9     601,620    17,231  \n",
       "4          2.9     608,579    17,175  \n",
       "616        3.6       1,551        42  \n",
       "617        2.1       1,346        18  \n",
       "618        2.7       2,147        43  \n",
       "...        ...         ...       ...  \n",
       "1029       3.1       1,471        32  \n",
       "1030       2.7       3,204        69  \n",
       "1031       3.1       1,587        35  \n",
       "1032       4.0       3,146       105  \n",
       "1033       4.0         971        27  \n",
       "\n",
       "[420 rows x 7 columns]"
      ]
     },
     "execution_count": 72,
     "metadata": {},
     "output_type": "execute_result"
    }
   ],
   "source": [
    "lowbirth_df[kmeans.labels_ == 1]"
   ]
  },
  {
   "cell_type": "markdown",
   "id": "designed-portugal",
   "metadata": {},
   "source": [
    "1) Algum padrão foi descoberto? Cite algumas descobertas que chamaram atenção."
   ]
  },
  {
   "cell_type": "markdown",
   "id": "studied-taxation",
   "metadata": {},
   "source": [
    "Sim, no primeiro dataset percebesse que por volta dos 300 e 250 dias de partos existe uma separação onde a maioria dos casos desse dataset fica mais de 250 em tralho de parto.\n",
    "No segundo dataset percebesse que apartir de 35 semanas de parto o peso do bebê tende a ser maior que 8 pounds.\n",
    "Já no terceito dataset e visivel que apartir do ano de 2014 existe uma queda na porcentagem de bebês com baixo peso."
   ]
  },
  {
   "cell_type": "markdown",
   "id": "pacific-citizen",
   "metadata": {},
   "source": [
    "2) Alguma nova pergunta foi descoberta ao analisar os diferentes agrupamentos? Se sim, cite quais foram as perguntas."
   ]
  },
  {
   "cell_type": "markdown",
   "id": "lesbian-beijing",
   "metadata": {},
   "source": [
    "Sim, por exemplo:\n",
    "- O tempo de gestação influência no peso do bebê?\n",
    "- É valido afirmar que vem diminuindo a quantidade de bebês prematuros conforme o passar dos anos?\n",
    "- Idade da mãe influência no peso do bebê?"
   ]
  },
  {
   "cell_type": "markdown",
   "id": "fitting-atlas",
   "metadata": {},
   "source": [
    "### Refinando perguntas"
   ]
  },
  {
   "cell_type": "markdown",
   "id": "polyphonic-updating",
   "metadata": {},
   "source": [
    "## Possíveis perguntas:\n",
    "    \n",
    "1) Qual a maior faixa étaria de mães casadas?\n",
    "\n",
    "2) É mais comum entre as mães mais jovem terem filho prematuro?\n",
    "\n",
    "3) Fumar influência no peso do bebe?\n",
    "\n",
    "4) O tempo de gestação influência no peso do bebê?\n",
    "\n",
    "5) É valido afirmar que vem diminuindo a quantidade de bebês prematuros conforme o passar dos anos?\n",
    "\n",
    "6) Idade da mãe influência no peso do bebê?\n",
    "\n",
    "7) Bebês prematuro podem nascer com peso acima de 6 pounds?\n",
    "\n",
    "8) Fumar influência no tempo de gestação?\n",
    "\n",
    "9) A partir de quantos pounds o peso do bebê e considerado baixo?\n",
    "\n",
    "10) Em que ano a porcentagem de bebês com peso baixo foi maior no dataset 3?"
   ]
  }
 ],
 "metadata": {
  "kernelspec": {
   "display_name": "Python 3",
   "language": "python",
   "name": "python3"
  },
  "language_info": {
   "codemirror_mode": {
    "name": "ipython",
    "version": 3
   },
   "file_extension": ".py",
   "mimetype": "text/x-python",
   "name": "python",
   "nbconvert_exporter": "python",
   "pygments_lexer": "ipython3",
   "version": "3.9.2"
  }
 },
 "nbformat": 4,
 "nbformat_minor": 5
}
