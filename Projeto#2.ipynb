{
 "cells": [
  {
   "cell_type": "markdown",
   "id": "exposed-auditor",
   "metadata": {},
   "source": [
    "# Projeto de Introdução à Ciência de Dados\n",
    "\n",
    "### Grupo: \n",
    "Roberto Fernando da Silva Souza; Joyce Moreno dos Santos"
   ]
  },
  {
   "cell_type": "markdown",
   "id": "assured-shooting",
   "metadata": {},
   "source": [
    "### Dados 1: Estudo da saúde e desenvolvimento infantil."
   ]
  },
  {
   "cell_type": "code",
   "execution_count": 6,
   "id": "divided-designation",
   "metadata": {},
   "outputs": [],
   "source": [
    "import pandas as pd"
   ]
  },
  {
   "cell_type": "code",
   "execution_count": 4,
   "id": "pursuant-installation",
   "metadata": {
    "scrolled": true
   },
   "outputs": [
    {
     "data": {
      "text/html": [
       "<div>\n",
       "<style scoped>\n",
       "    .dataframe tbody tr th:only-of-type {\n",
       "        vertical-align: middle;\n",
       "    }\n",
       "\n",
       "    .dataframe tbody tr th {\n",
       "        vertical-align: top;\n",
       "    }\n",
       "\n",
       "    .dataframe thead th {\n",
       "        text-align: right;\n",
       "    }\n",
       "</style>\n",
       "<table border=\"1\" class=\"dataframe\">\n",
       "  <thead>\n",
       "    <tr style=\"text-align: right;\">\n",
       "      <th></th>\n",
       "      <th>case</th>\n",
       "      <th>bwt</th>\n",
       "      <th>gestation</th>\n",
       "      <th>parity</th>\n",
       "      <th>age</th>\n",
       "      <th>height</th>\n",
       "      <th>weight</th>\n",
       "      <th>smoke</th>\n",
       "    </tr>\n",
       "  </thead>\n",
       "  <tbody>\n",
       "    <tr>\n",
       "      <th>0</th>\n",
       "      <td>1</td>\n",
       "      <td>120</td>\n",
       "      <td>284.0</td>\n",
       "      <td>0</td>\n",
       "      <td>27.0</td>\n",
       "      <td>62.0</td>\n",
       "      <td>100.0</td>\n",
       "      <td>0.0</td>\n",
       "    </tr>\n",
       "    <tr>\n",
       "      <th>1</th>\n",
       "      <td>2</td>\n",
       "      <td>113</td>\n",
       "      <td>282.0</td>\n",
       "      <td>0</td>\n",
       "      <td>33.0</td>\n",
       "      <td>64.0</td>\n",
       "      <td>135.0</td>\n",
       "      <td>0.0</td>\n",
       "    </tr>\n",
       "    <tr>\n",
       "      <th>2</th>\n",
       "      <td>3</td>\n",
       "      <td>128</td>\n",
       "      <td>279.0</td>\n",
       "      <td>0</td>\n",
       "      <td>28.0</td>\n",
       "      <td>64.0</td>\n",
       "      <td>115.0</td>\n",
       "      <td>1.0</td>\n",
       "    </tr>\n",
       "    <tr>\n",
       "      <th>3</th>\n",
       "      <td>4</td>\n",
       "      <td>123</td>\n",
       "      <td>NaN</td>\n",
       "      <td>0</td>\n",
       "      <td>36.0</td>\n",
       "      <td>69.0</td>\n",
       "      <td>190.0</td>\n",
       "      <td>0.0</td>\n",
       "    </tr>\n",
       "    <tr>\n",
       "      <th>4</th>\n",
       "      <td>5</td>\n",
       "      <td>108</td>\n",
       "      <td>282.0</td>\n",
       "      <td>0</td>\n",
       "      <td>23.0</td>\n",
       "      <td>67.0</td>\n",
       "      <td>125.0</td>\n",
       "      <td>1.0</td>\n",
       "    </tr>\n",
       "    <tr>\n",
       "      <th>...</th>\n",
       "      <td>...</td>\n",
       "      <td>...</td>\n",
       "      <td>...</td>\n",
       "      <td>...</td>\n",
       "      <td>...</td>\n",
       "      <td>...</td>\n",
       "      <td>...</td>\n",
       "      <td>...</td>\n",
       "    </tr>\n",
       "    <tr>\n",
       "      <th>1231</th>\n",
       "      <td>1232</td>\n",
       "      <td>113</td>\n",
       "      <td>275.0</td>\n",
       "      <td>1</td>\n",
       "      <td>27.0</td>\n",
       "      <td>60.0</td>\n",
       "      <td>100.0</td>\n",
       "      <td>0.0</td>\n",
       "    </tr>\n",
       "    <tr>\n",
       "      <th>1232</th>\n",
       "      <td>1233</td>\n",
       "      <td>128</td>\n",
       "      <td>265.0</td>\n",
       "      <td>0</td>\n",
       "      <td>24.0</td>\n",
       "      <td>67.0</td>\n",
       "      <td>120.0</td>\n",
       "      <td>0.0</td>\n",
       "    </tr>\n",
       "    <tr>\n",
       "      <th>1233</th>\n",
       "      <td>1234</td>\n",
       "      <td>130</td>\n",
       "      <td>291.0</td>\n",
       "      <td>0</td>\n",
       "      <td>30.0</td>\n",
       "      <td>65.0</td>\n",
       "      <td>150.0</td>\n",
       "      <td>1.0</td>\n",
       "    </tr>\n",
       "    <tr>\n",
       "      <th>1234</th>\n",
       "      <td>1235</td>\n",
       "      <td>125</td>\n",
       "      <td>281.0</td>\n",
       "      <td>1</td>\n",
       "      <td>21.0</td>\n",
       "      <td>65.0</td>\n",
       "      <td>110.0</td>\n",
       "      <td>0.0</td>\n",
       "    </tr>\n",
       "    <tr>\n",
       "      <th>1235</th>\n",
       "      <td>1236</td>\n",
       "      <td>117</td>\n",
       "      <td>297.0</td>\n",
       "      <td>0</td>\n",
       "      <td>38.0</td>\n",
       "      <td>65.0</td>\n",
       "      <td>129.0</td>\n",
       "      <td>0.0</td>\n",
       "    </tr>\n",
       "  </tbody>\n",
       "</table>\n",
       "<p>1236 rows × 8 columns</p>\n",
       "</div>"
      ],
      "text/plain": [
       "      case  bwt  gestation  parity   age  height  weight  smoke\n",
       "0        1  120      284.0       0  27.0    62.0   100.0    0.0\n",
       "1        2  113      282.0       0  33.0    64.0   135.0    0.0\n",
       "2        3  128      279.0       0  28.0    64.0   115.0    1.0\n",
       "3        4  123        NaN       0  36.0    69.0   190.0    0.0\n",
       "4        5  108      282.0       0  23.0    67.0   125.0    1.0\n",
       "...    ...  ...        ...     ...   ...     ...     ...    ...\n",
       "1231  1232  113      275.0       1  27.0    60.0   100.0    0.0\n",
       "1232  1233  128      265.0       0  24.0    67.0   120.0    0.0\n",
       "1233  1234  130      291.0       0  30.0    65.0   150.0    1.0\n",
       "1234  1235  125      281.0       1  21.0    65.0   110.0    0.0\n",
       "1235  1236  117      297.0       0  38.0    65.0   129.0    0.0\n",
       "\n",
       "[1236 rows x 8 columns]"
      ]
     },
     "execution_count": 4,
     "metadata": {},
     "output_type": "execute_result"
    }
   ],
   "source": [
    "babies_df = pd.read_csv(\"babies.csv\")\n",
    "babies_df"
   ]
  },
  {
   "cell_type": "markdown",
   "id": "decreased-roulette",
   "metadata": {},
   "source": [
    "### Idade das mães"
   ]
  },
  {
   "cell_type": "code",
   "execution_count": 19,
   "id": "acceptable-slovakia",
   "metadata": {},
   "outputs": [
    {
     "data": {
      "text/plain": [
       "27.255267423014587"
      ]
     },
     "execution_count": 19,
     "metadata": {},
     "output_type": "execute_result"
    }
   ],
   "source": [
    "babies_df[\"age\"].mean() #média"
   ]
  },
  {
   "cell_type": "code",
   "execution_count": 17,
   "id": "seeing-sandwich",
   "metadata": {},
   "outputs": [
    {
     "data": {
      "text/plain": [
       "5.781405349891055"
      ]
     },
     "execution_count": 17,
     "metadata": {},
     "output_type": "execute_result"
    }
   ],
   "source": [
    "babies_df[\"age\"].std() #desvio padrão"
   ]
  },
  {
   "cell_type": "code",
   "execution_count": 18,
   "id": "identical-clinic",
   "metadata": {
    "scrolled": true
   },
   "outputs": [
    {
     "data": {
      "text/plain": [
       "26.0"
      ]
     },
     "execution_count": 18,
     "metadata": {},
     "output_type": "execute_result"
    }
   ],
   "source": [
    "babies_df[\"age\"].median() #mediana"
   ]
  },
  {
   "cell_type": "markdown",
   "id": "mechanical-sleeping",
   "metadata": {},
   "source": [
    "### Dias de gestação"
   ]
  },
  {
   "cell_type": "code",
   "execution_count": 21,
   "id": "sealed-bundle",
   "metadata": {
    "scrolled": true
   },
   "outputs": [
    {
     "data": {
      "text/plain": [
       "279.3385118560916"
      ]
     },
     "execution_count": 21,
     "metadata": {},
     "output_type": "execute_result"
    }
   ],
   "source": [
    "babies_df[\"gestation\"].mean()"
   ]
  },
  {
   "cell_type": "code",
   "execution_count": 22,
   "id": "supposed-factor",
   "metadata": {},
   "outputs": [
    {
     "data": {
      "text/plain": [
       "16.027693302898147"
      ]
     },
     "execution_count": 22,
     "metadata": {},
     "output_type": "execute_result"
    }
   ],
   "source": [
    "babies_df[\"gestation\"].std()"
   ]
  },
  {
   "cell_type": "code",
   "execution_count": 28,
   "id": "postal-concern",
   "metadata": {
    "scrolled": false
   },
   "outputs": [
    {
     "data": {
      "text/plain": [
       "280.0"
      ]
     },
     "execution_count": 28,
     "metadata": {},
     "output_type": "execute_result"
    }
   ],
   "source": [
    "babies_df[\"gestation\"].median()"
   ]
  },
  {
   "cell_type": "markdown",
   "id": "hollow-justice",
   "metadata": {},
   "source": [
    "### Dados 2: Hábitos e práticas de gestantes e seus filhos."
   ]
  },
  {
   "cell_type": "code",
   "execution_count": 33,
   "id": "weighted-yorkshire",
   "metadata": {
    "scrolled": false
   },
   "outputs": [
    {
     "data": {
      "text/html": [
       "<div>\n",
       "<style scoped>\n",
       "    .dataframe tbody tr th:only-of-type {\n",
       "        vertical-align: middle;\n",
       "    }\n",
       "\n",
       "    .dataframe tbody tr th {\n",
       "        vertical-align: top;\n",
       "    }\n",
       "\n",
       "    .dataframe thead th {\n",
       "        text-align: right;\n",
       "    }\n",
       "</style>\n",
       "<table border=\"1\" class=\"dataframe\">\n",
       "  <thead>\n",
       "    <tr style=\"text-align: right;\">\n",
       "      <th></th>\n",
       "      <th>fage</th>\n",
       "      <th>mage</th>\n",
       "      <th>mature</th>\n",
       "      <th>weeks</th>\n",
       "      <th>premie</th>\n",
       "      <th>visits</th>\n",
       "      <th>gained</th>\n",
       "      <th>weight</th>\n",
       "      <th>lowbirthweight</th>\n",
       "      <th>sex</th>\n",
       "      <th>habit</th>\n",
       "      <th>marital</th>\n",
       "      <th>whitemom</th>\n",
       "    </tr>\n",
       "  </thead>\n",
       "  <tbody>\n",
       "    <tr>\n",
       "      <th>0</th>\n",
       "      <td>34.0</td>\n",
       "      <td>34</td>\n",
       "      <td>younger mom</td>\n",
       "      <td>37</td>\n",
       "      <td>full term</td>\n",
       "      <td>14.0</td>\n",
       "      <td>28.0</td>\n",
       "      <td>6.96</td>\n",
       "      <td>not low</td>\n",
       "      <td>male</td>\n",
       "      <td>nonsmoker</td>\n",
       "      <td>married</td>\n",
       "      <td>white</td>\n",
       "    </tr>\n",
       "    <tr>\n",
       "      <th>1</th>\n",
       "      <td>36.0</td>\n",
       "      <td>31</td>\n",
       "      <td>younger mom</td>\n",
       "      <td>41</td>\n",
       "      <td>full term</td>\n",
       "      <td>12.0</td>\n",
       "      <td>41.0</td>\n",
       "      <td>8.86</td>\n",
       "      <td>not low</td>\n",
       "      <td>female</td>\n",
       "      <td>nonsmoker</td>\n",
       "      <td>married</td>\n",
       "      <td>white</td>\n",
       "    </tr>\n",
       "    <tr>\n",
       "      <th>2</th>\n",
       "      <td>37.0</td>\n",
       "      <td>36</td>\n",
       "      <td>mature mom</td>\n",
       "      <td>37</td>\n",
       "      <td>full term</td>\n",
       "      <td>10.0</td>\n",
       "      <td>28.0</td>\n",
       "      <td>7.51</td>\n",
       "      <td>not low</td>\n",
       "      <td>female</td>\n",
       "      <td>nonsmoker</td>\n",
       "      <td>married</td>\n",
       "      <td>not white</td>\n",
       "    </tr>\n",
       "    <tr>\n",
       "      <th>3</th>\n",
       "      <td>NaN</td>\n",
       "      <td>16</td>\n",
       "      <td>younger mom</td>\n",
       "      <td>38</td>\n",
       "      <td>full term</td>\n",
       "      <td>NaN</td>\n",
       "      <td>29.0</td>\n",
       "      <td>6.19</td>\n",
       "      <td>not low</td>\n",
       "      <td>male</td>\n",
       "      <td>nonsmoker</td>\n",
       "      <td>not married</td>\n",
       "      <td>white</td>\n",
       "    </tr>\n",
       "    <tr>\n",
       "      <th>4</th>\n",
       "      <td>32.0</td>\n",
       "      <td>31</td>\n",
       "      <td>younger mom</td>\n",
       "      <td>36</td>\n",
       "      <td>premie</td>\n",
       "      <td>12.0</td>\n",
       "      <td>48.0</td>\n",
       "      <td>6.75</td>\n",
       "      <td>not low</td>\n",
       "      <td>female</td>\n",
       "      <td>nonsmoker</td>\n",
       "      <td>married</td>\n",
       "      <td>white</td>\n",
       "    </tr>\n",
       "    <tr>\n",
       "      <th>...</th>\n",
       "      <td>...</td>\n",
       "      <td>...</td>\n",
       "      <td>...</td>\n",
       "      <td>...</td>\n",
       "      <td>...</td>\n",
       "      <td>...</td>\n",
       "      <td>...</td>\n",
       "      <td>...</td>\n",
       "      <td>...</td>\n",
       "      <td>...</td>\n",
       "      <td>...</td>\n",
       "      <td>...</td>\n",
       "      <td>...</td>\n",
       "    </tr>\n",
       "    <tr>\n",
       "      <th>995</th>\n",
       "      <td>28.0</td>\n",
       "      <td>24</td>\n",
       "      <td>younger mom</td>\n",
       "      <td>39</td>\n",
       "      <td>full term</td>\n",
       "      <td>NaN</td>\n",
       "      <td>20.0</td>\n",
       "      <td>6.49</td>\n",
       "      <td>not low</td>\n",
       "      <td>male</td>\n",
       "      <td>NaN</td>\n",
       "      <td>not married</td>\n",
       "      <td>not white</td>\n",
       "    </tr>\n",
       "    <tr>\n",
       "      <th>996</th>\n",
       "      <td>37.0</td>\n",
       "      <td>31</td>\n",
       "      <td>younger mom</td>\n",
       "      <td>38</td>\n",
       "      <td>full term</td>\n",
       "      <td>8.0</td>\n",
       "      <td>33.0</td>\n",
       "      <td>5.80</td>\n",
       "      <td>not low</td>\n",
       "      <td>female</td>\n",
       "      <td>nonsmoker</td>\n",
       "      <td>married</td>\n",
       "      <td>white</td>\n",
       "    </tr>\n",
       "    <tr>\n",
       "      <th>997</th>\n",
       "      <td>27.0</td>\n",
       "      <td>27</td>\n",
       "      <td>younger mom</td>\n",
       "      <td>34</td>\n",
       "      <td>premie</td>\n",
       "      <td>7.0</td>\n",
       "      <td>25.0</td>\n",
       "      <td>6.75</td>\n",
       "      <td>not low</td>\n",
       "      <td>female</td>\n",
       "      <td>nonsmoker</td>\n",
       "      <td>married</td>\n",
       "      <td>white</td>\n",
       "    </tr>\n",
       "    <tr>\n",
       "      <th>998</th>\n",
       "      <td>NaN</td>\n",
       "      <td>33</td>\n",
       "      <td>younger mom</td>\n",
       "      <td>42</td>\n",
       "      <td>full term</td>\n",
       "      <td>0.0</td>\n",
       "      <td>13.0</td>\n",
       "      <td>7.44</td>\n",
       "      <td>not low</td>\n",
       "      <td>male</td>\n",
       "      <td>nonsmoker</td>\n",
       "      <td>not married</td>\n",
       "      <td>white</td>\n",
       "    </tr>\n",
       "    <tr>\n",
       "      <th>999</th>\n",
       "      <td>21.0</td>\n",
       "      <td>17</td>\n",
       "      <td>younger mom</td>\n",
       "      <td>41</td>\n",
       "      <td>full term</td>\n",
       "      <td>12.0</td>\n",
       "      <td>41.0</td>\n",
       "      <td>7.13</td>\n",
       "      <td>not low</td>\n",
       "      <td>female</td>\n",
       "      <td>nonsmoker</td>\n",
       "      <td>not married</td>\n",
       "      <td>white</td>\n",
       "    </tr>\n",
       "  </tbody>\n",
       "</table>\n",
       "<p>1000 rows × 13 columns</p>\n",
       "</div>"
      ],
      "text/plain": [
       "     fage  mage       mature  weeks     premie  visits  gained  weight  \\\n",
       "0    34.0    34  younger mom     37  full term    14.0    28.0    6.96   \n",
       "1    36.0    31  younger mom     41  full term    12.0    41.0    8.86   \n",
       "2    37.0    36   mature mom     37  full term    10.0    28.0    7.51   \n",
       "3     NaN    16  younger mom     38  full term     NaN    29.0    6.19   \n",
       "4    32.0    31  younger mom     36     premie    12.0    48.0    6.75   \n",
       "..    ...   ...          ...    ...        ...     ...     ...     ...   \n",
       "995  28.0    24  younger mom     39  full term     NaN    20.0    6.49   \n",
       "996  37.0    31  younger mom     38  full term     8.0    33.0    5.80   \n",
       "997  27.0    27  younger mom     34     premie     7.0    25.0    6.75   \n",
       "998   NaN    33  younger mom     42  full term     0.0    13.0    7.44   \n",
       "999  21.0    17  younger mom     41  full term    12.0    41.0    7.13   \n",
       "\n",
       "    lowbirthweight     sex      habit      marital   whitemom  \n",
       "0          not low    male  nonsmoker      married      white  \n",
       "1          not low  female  nonsmoker      married      white  \n",
       "2          not low  female  nonsmoker      married  not white  \n",
       "3          not low    male  nonsmoker  not married      white  \n",
       "4          not low  female  nonsmoker      married      white  \n",
       "..             ...     ...        ...          ...        ...  \n",
       "995        not low    male        NaN  not married  not white  \n",
       "996        not low  female  nonsmoker      married      white  \n",
       "997        not low  female  nonsmoker      married      white  \n",
       "998        not low    male  nonsmoker  not married      white  \n",
       "999        not low  female  nonsmoker  not married      white  \n",
       "\n",
       "[1000 rows x 13 columns]"
      ]
     },
     "execution_count": 33,
     "metadata": {},
     "output_type": "execute_result"
    }
   ],
   "source": [
    "births_df = pd.read_csv(\"births14.csv\")\n",
    "births_df"
   ]
  },
  {
   "cell_type": "markdown",
   "id": "prostate-sunday",
   "metadata": {},
   "source": [
    "### Idade do pai e da mãe"
   ]
  },
  {
   "cell_type": "code",
   "execution_count": 34,
   "id": "weekly-webmaster",
   "metadata": {},
   "outputs": [
    {
     "data": {
      "text/plain": [
       "31.13318284424379"
      ]
     },
     "execution_count": 34,
     "metadata": {},
     "output_type": "execute_result"
    }
   ],
   "source": [
    "births_df[\"fage\"].mean()"
   ]
  },
  {
   "cell_type": "code",
   "execution_count": 35,
   "id": "desirable-devices",
   "metadata": {},
   "outputs": [
    {
     "data": {
      "text/plain": [
       "7.05813506076653"
      ]
     },
     "execution_count": 35,
     "metadata": {},
     "output_type": "execute_result"
    }
   ],
   "source": [
    "births_df[\"fage\"].std()"
   ]
  },
  {
   "cell_type": "code",
   "execution_count": 37,
   "id": "contemporary-nutrition",
   "metadata": {},
   "outputs": [
    {
     "data": {
      "text/plain": [
       "31.0"
      ]
     },
     "execution_count": 37,
     "metadata": {},
     "output_type": "execute_result"
    }
   ],
   "source": [
    "births_df[\"fage\"].median()"
   ]
  },
  {
   "cell_type": "code",
   "execution_count": 40,
   "id": "afraid-essence",
   "metadata": {},
   "outputs": [
    {
     "data": {
      "text/plain": [
       "28.449"
      ]
     },
     "execution_count": 40,
     "metadata": {},
     "output_type": "execute_result"
    }
   ],
   "source": [
    "births_df[\"mage\"].mean()"
   ]
  },
  {
   "cell_type": "code",
   "execution_count": 39,
   "id": "confused-practice",
   "metadata": {},
   "outputs": [
    {
     "data": {
      "text/plain": [
       "5.7597372833813845"
      ]
     },
     "execution_count": 39,
     "metadata": {},
     "output_type": "execute_result"
    }
   ],
   "source": [
    "births_df[\"mage\"].std()"
   ]
  },
  {
   "cell_type": "code",
   "execution_count": 41,
   "id": "celtic-crossing",
   "metadata": {},
   "outputs": [
    {
     "data": {
      "text/plain": [
       "28.0"
      ]
     },
     "execution_count": 41,
     "metadata": {},
     "output_type": "execute_result"
    }
   ],
   "source": [
    "births_df[\"mage\"].median()"
   ]
  },
  {
   "cell_type": "markdown",
   "id": "inappropriate-interaction",
   "metadata": {},
   "source": [
    "### Semanas de gestação"
   ]
  },
  {
   "cell_type": "code",
   "execution_count": 42,
   "id": "dynamic-chess",
   "metadata": {},
   "outputs": [
    {
     "data": {
      "text/plain": [
       "38.666"
      ]
     },
     "execution_count": 42,
     "metadata": {},
     "output_type": "execute_result"
    }
   ],
   "source": [
    "births_df[\"weeks\"].mean()"
   ]
  },
  {
   "cell_type": "code",
   "execution_count": 43,
   "id": "deluxe-grammar",
   "metadata": {},
   "outputs": [
    {
     "data": {
      "text/plain": [
       "2.5649606279674204"
      ]
     },
     "execution_count": 43,
     "metadata": {},
     "output_type": "execute_result"
    }
   ],
   "source": [
    "births_df[\"weeks\"].std()"
   ]
  },
  {
   "cell_type": "code",
   "execution_count": 45,
   "id": "introductory-definition",
   "metadata": {},
   "outputs": [
    {
     "data": {
      "text/plain": [
       "39.0"
      ]
     },
     "execution_count": 45,
     "metadata": {},
     "output_type": "execute_result"
    }
   ],
   "source": [
    "births_df[\"weeks\"].median()"
   ]
  },
  {
   "cell_type": "markdown",
   "id": "special-princeton",
   "metadata": {},
   "source": [
    "### Dados 3: CCG data - Bebês nascidos com baixo peso."
   ]
  },
  {
   "cell_type": "code",
   "execution_count": 7,
   "id": "offensive-merit",
   "metadata": {},
   "outputs": [],
   "source": [
    "lowbirth_df = pd.read_csv(\"low_birth.csv\")"
   ]
  },
  {
   "cell_type": "code",
   "execution_count": 8,
   "id": "tamil-mention",
   "metadata": {},
   "outputs": [
    {
     "data": {
      "text/html": [
       "<div>\n",
       "<style scoped>\n",
       "    .dataframe tbody tr th:only-of-type {\n",
       "        vertical-align: middle;\n",
       "    }\n",
       "\n",
       "    .dataframe tbody tr th {\n",
       "        vertical-align: top;\n",
       "    }\n",
       "\n",
       "    .dataframe thead th {\n",
       "        text-align: right;\n",
       "    }\n",
       "</style>\n",
       "<table border=\"1\" class=\"dataframe\">\n",
       "  <thead>\n",
       "    <tr style=\"text-align: right;\">\n",
       "      <th></th>\n",
       "      <th>Reporting period</th>\n",
       "      <th>Period of coverage</th>\n",
       "      <th>Breakdown</th>\n",
       "      <th>ONS code</th>\n",
       "      <th>Level</th>\n",
       "      <th>Level description</th>\n",
       "      <th>Indicator value</th>\n",
       "      <th>CI lower</th>\n",
       "      <th>CI upper</th>\n",
       "      <th>Denominator</th>\n",
       "      <th>Numerator</th>\n",
       "    </tr>\n",
       "  </thead>\n",
       "  <tbody>\n",
       "    <tr>\n",
       "      <th>0</th>\n",
       "      <td>2017</td>\n",
       "      <td>01/01/2017 to 31/12/2017</td>\n",
       "      <td>National</td>\n",
       "      <td>E92000001</td>\n",
       "      <td>England</td>\n",
       "      <td>Resident in England</td>\n",
       "      <td>2.8</td>\n",
       "      <td>2.8</td>\n",
       "      <td>2.9</td>\n",
       "      <td>586,452</td>\n",
       "      <td>16,534</td>\n",
       "    </tr>\n",
       "    <tr>\n",
       "      <th>1</th>\n",
       "      <td>2016</td>\n",
       "      <td>01/01/2016 to 31/12/2016</td>\n",
       "      <td>National</td>\n",
       "      <td>E92000001</td>\n",
       "      <td>England</td>\n",
       "      <td>Resident in England</td>\n",
       "      <td>2.8</td>\n",
       "      <td>2.7</td>\n",
       "      <td>2.8</td>\n",
       "      <td>602,547</td>\n",
       "      <td>16,788</td>\n",
       "    </tr>\n",
       "    <tr>\n",
       "      <th>2</th>\n",
       "      <td>2015</td>\n",
       "      <td>01/01/2015 to 31/12/2015</td>\n",
       "      <td>National</td>\n",
       "      <td>E92000001</td>\n",
       "      <td>England</td>\n",
       "      <td>Resident in England</td>\n",
       "      <td>2.8</td>\n",
       "      <td>2.7</td>\n",
       "      <td>2.8</td>\n",
       "      <td>603,646</td>\n",
       "      <td>16,748</td>\n",
       "    </tr>\n",
       "    <tr>\n",
       "      <th>3</th>\n",
       "      <td>2014</td>\n",
       "      <td>01/01/2014 to 31/12/2014</td>\n",
       "      <td>National</td>\n",
       "      <td>E92000001</td>\n",
       "      <td>England</td>\n",
       "      <td>Resident in England</td>\n",
       "      <td>2.9</td>\n",
       "      <td>2.8</td>\n",
       "      <td>2.9</td>\n",
       "      <td>601,620</td>\n",
       "      <td>17,231</td>\n",
       "    </tr>\n",
       "    <tr>\n",
       "      <th>4</th>\n",
       "      <td>2013</td>\n",
       "      <td>01/01/2013 to 31/12/2013</td>\n",
       "      <td>National</td>\n",
       "      <td>E92000001</td>\n",
       "      <td>England</td>\n",
       "      <td>Resident in England</td>\n",
       "      <td>2.8</td>\n",
       "      <td>2.8</td>\n",
       "      <td>2.9</td>\n",
       "      <td>608,579</td>\n",
       "      <td>17,175</td>\n",
       "    </tr>\n",
       "    <tr>\n",
       "      <th>...</th>\n",
       "      <td>...</td>\n",
       "      <td>...</td>\n",
       "      <td>...</td>\n",
       "      <td>...</td>\n",
       "      <td>...</td>\n",
       "      <td>...</td>\n",
       "      <td>...</td>\n",
       "      <td>...</td>\n",
       "      <td>...</td>\n",
       "      <td>...</td>\n",
       "      <td>...</td>\n",
       "    </tr>\n",
       "    <tr>\n",
       "      <th>1029</th>\n",
       "      <td>2013</td>\n",
       "      <td>01/01/2013 to 31/12/2013</td>\n",
       "      <td>CCG</td>\n",
       "      <td>E38000207</td>\n",
       "      <td>11C</td>\n",
       "      <td>NHS Windsor, Ascot and Maidenhead CCG</td>\n",
       "      <td>2.2</td>\n",
       "      <td>1.5</td>\n",
       "      <td>3.1</td>\n",
       "      <td>1,471</td>\n",
       "      <td>32</td>\n",
       "    </tr>\n",
       "    <tr>\n",
       "      <th>1030</th>\n",
       "      <td>2013</td>\n",
       "      <td>01/01/2013 to 31/12/2013</td>\n",
       "      <td>CCG</td>\n",
       "      <td>E38000208</td>\n",
       "      <td>12F</td>\n",
       "      <td>NHS Wirral CCG</td>\n",
       "      <td>2.2</td>\n",
       "      <td>1.7</td>\n",
       "      <td>2.7</td>\n",
       "      <td>3,204</td>\n",
       "      <td>69</td>\n",
       "    </tr>\n",
       "    <tr>\n",
       "      <th>1031</th>\n",
       "      <td>2013</td>\n",
       "      <td>01/01/2013 to 31/12/2013</td>\n",
       "      <td>CCG</td>\n",
       "      <td>E38000209</td>\n",
       "      <td>11D</td>\n",
       "      <td>NHS Wokingham CCG</td>\n",
       "      <td>2.2</td>\n",
       "      <td>1.6</td>\n",
       "      <td>3.1</td>\n",
       "      <td>1,587</td>\n",
       "      <td>35</td>\n",
       "    </tr>\n",
       "    <tr>\n",
       "      <th>1032</th>\n",
       "      <td>2013</td>\n",
       "      <td>01/01/2013 to 31/12/2013</td>\n",
       "      <td>CCG</td>\n",
       "      <td>E38000210</td>\n",
       "      <td>06A</td>\n",
       "      <td>NHS Wolverhampton CCG</td>\n",
       "      <td>3.3</td>\n",
       "      <td>2.8</td>\n",
       "      <td>4.0</td>\n",
       "      <td>3,146</td>\n",
       "      <td>105</td>\n",
       "    </tr>\n",
       "    <tr>\n",
       "      <th>1033</th>\n",
       "      <td>2013</td>\n",
       "      <td>01/01/2013 to 31/12/2013</td>\n",
       "      <td>CCG</td>\n",
       "      <td>E38000211</td>\n",
       "      <td>06D</td>\n",
       "      <td>NHS Wyre Forest CCG</td>\n",
       "      <td>2.8</td>\n",
       "      <td>1.9</td>\n",
       "      <td>4.0</td>\n",
       "      <td>971</td>\n",
       "      <td>27</td>\n",
       "    </tr>\n",
       "  </tbody>\n",
       "</table>\n",
       "<p>1034 rows × 11 columns</p>\n",
       "</div>"
      ],
      "text/plain": [
       "      Reporting period        Period of coverage Breakdown   ONS code  \\\n",
       "0                 2017  01/01/2017 to 31/12/2017  National  E92000001   \n",
       "1                 2016  01/01/2016 to 31/12/2016  National  E92000001   \n",
       "2                 2015  01/01/2015 to 31/12/2015  National  E92000001   \n",
       "3                 2014  01/01/2014 to 31/12/2014  National  E92000001   \n",
       "4                 2013  01/01/2013 to 31/12/2013  National  E92000001   \n",
       "...                ...                       ...       ...        ...   \n",
       "1029              2013  01/01/2013 to 31/12/2013       CCG  E38000207   \n",
       "1030              2013  01/01/2013 to 31/12/2013       CCG  E38000208   \n",
       "1031              2013  01/01/2013 to 31/12/2013       CCG  E38000209   \n",
       "1032              2013  01/01/2013 to 31/12/2013       CCG  E38000210   \n",
       "1033              2013  01/01/2013 to 31/12/2013       CCG  E38000211   \n",
       "\n",
       "        Level                      Level description  Indicator value  \\\n",
       "0     England                    Resident in England              2.8   \n",
       "1     England                    Resident in England              2.8   \n",
       "2     England                    Resident in England              2.8   \n",
       "3     England                    Resident in England              2.9   \n",
       "4     England                    Resident in England              2.8   \n",
       "...       ...                                    ...              ...   \n",
       "1029      11C  NHS Windsor, Ascot and Maidenhead CCG              2.2   \n",
       "1030      12F                         NHS Wirral CCG              2.2   \n",
       "1031      11D                      NHS Wokingham CCG              2.2   \n",
       "1032      06A                  NHS Wolverhampton CCG              3.3   \n",
       "1033      06D                    NHS Wyre Forest CCG              2.8   \n",
       "\n",
       "      CI lower  CI upper Denominator Numerator  \n",
       "0          2.8       2.9     586,452    16,534  \n",
       "1          2.7       2.8     602,547    16,788  \n",
       "2          2.7       2.8     603,646    16,748  \n",
       "3          2.8       2.9     601,620    17,231  \n",
       "4          2.8       2.9     608,579    17,175  \n",
       "...        ...       ...         ...       ...  \n",
       "1029       1.5       3.1       1,471        32  \n",
       "1030       1.7       2.7       3,204        69  \n",
       "1031       1.6       3.1       1,587        35  \n",
       "1032       2.8       4.0       3,146       105  \n",
       "1033       1.9       4.0         971        27  \n",
       "\n",
       "[1034 rows x 11 columns]"
      ]
     },
     "execution_count": 8,
     "metadata": {},
     "output_type": "execute_result"
    }
   ],
   "source": [
    "lowbirth_df"
   ]
  },
  {
   "cell_type": "markdown",
   "id": "logical-carol",
   "metadata": {},
   "source": [
    "### Porcentagem de bêbes nascido com baixo peso"
   ]
  },
  {
   "cell_type": "code",
   "execution_count": 11,
   "id": "pressed-champion",
   "metadata": {},
   "outputs": [
    {
     "data": {
      "text/plain": [
       "2.7161508704061896"
      ]
     },
     "execution_count": 11,
     "metadata": {},
     "output_type": "execute_result"
    }
   ],
   "source": [
    "lowbirth_df[\"Indicator value\"].mean()"
   ]
  },
  {
   "cell_type": "code",
   "execution_count": 12,
   "id": "sharing-spell",
   "metadata": {},
   "outputs": [
    {
     "data": {
      "text/plain": [
       "0.6835080348836081"
      ]
     },
     "execution_count": 12,
     "metadata": {},
     "output_type": "execute_result"
    }
   ],
   "source": [
    "lowbirth_df[\"Indicator value\"].std()"
   ]
  },
  {
   "cell_type": "code",
   "execution_count": 13,
   "id": "asian-mexico",
   "metadata": {},
   "outputs": [
    {
     "data": {
      "text/plain": [
       "2.6"
      ]
     },
     "execution_count": 13,
     "metadata": {},
     "output_type": "execute_result"
    }
   ],
   "source": [
    "lowbirth_df[\"Indicator value\"].median()"
   ]
  },
  {
   "cell_type": "markdown",
   "id": "express-action",
   "metadata": {},
   "source": [
    "## Possíveis perguntas:\n",
    "    \n",
    "1) Qual a maior faixa étaria de mães casadas?\n",
    "\n",
    "2) É mais comum entre as mães mais jovem terem filho prematuro?\n",
    "\n",
    "3) Fumar influência no peso do bebe?\n",
    "    "
   ]
  }
 ],
 "metadata": {
  "kernelspec": {
   "display_name": "Python 3",
   "language": "python",
   "name": "python3"
  },
  "language_info": {
   "codemirror_mode": {
    "name": "ipython",
    "version": 3
   },
   "file_extension": ".py",
   "mimetype": "text/x-python",
   "name": "python",
   "nbconvert_exporter": "python",
   "pygments_lexer": "ipython3",
   "version": "3.9.2"
  }
 },
 "nbformat": 4,
 "nbformat_minor": 5
}
