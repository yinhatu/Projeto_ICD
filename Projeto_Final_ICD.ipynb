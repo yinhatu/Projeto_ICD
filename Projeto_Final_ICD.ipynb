{
 "cells": [
  {
   "cell_type": "markdown",
   "id": "hispanic-seeking",
   "metadata": {},
   "source": [
    "## <font color=red>BEBÊS PREMATUROS: ANÁLISE DE DADOS</font>"
   ]
  },
  {
   "cell_type": "markdown",
   "id": "homeless-forest",
   "metadata": {},
   "source": [
    "***"
   ]
  },
  {
   "cell_type": "markdown",
   "id": "nutritional-festival",
   "metadata": {},
   "source": [
    "#### Roberto Fernando da Silva Souza"
   ]
  },
  {
   "cell_type": "markdown",
   "id": "legal-hughes",
   "metadata": {},
   "source": [
    "#### Joyce Moreno dos Santos"
   ]
  },
  {
   "cell_type": "markdown",
   "id": "blank-singer",
   "metadata": {},
   "source": [
    "***"
   ]
  },
  {
   "cell_type": "markdown",
   "id": "appropriate-malaysia",
   "metadata": {},
   "source": [
    "<font color=red>__Introdução:__</font> O relatório vai demonstrar através da análise de dados, algumas possíveis respostas para frequentes dúvidas sobre a temática. O impacto do fumo durante a gravidez, a idade da gestante, o tempo de gestação, são alguns exemplos de causas para a prematuridade do recém-nascido. Logo, o principal objetivo deste relatório é responder dúvidas utilizando dados como respostas, dúvidas estas que ajudam a entender a causa da problemática."
   ]
  },
  {
   "cell_type": "markdown",
   "id": "filled-things",
   "metadata": {},
   "source": [
    "***"
   ]
  },
  {
   "cell_type": "markdown",
   "id": "inappropriate-venezuela",
   "metadata": {},
   "source": [
    "#### <font color=red>Dados utilizados:</font> "
   ]
  },
  {
   "cell_type": "markdown",
   "id": "italian-thursday",
   "metadata": {},
   "source": [
    "#### Dataset 1 - Estudo da saúde e desenvolvimento infantil"
   ]
  },
  {
   "cell_type": "code",
   "execution_count": 1,
   "id": "traditional-decade",
   "metadata": {},
   "outputs": [],
   "source": [
    "import pandas as pd"
   ]
  },
  {
   "cell_type": "code",
   "execution_count": 2,
   "id": "distant-consortium",
   "metadata": {},
   "outputs": [
    {
     "data": {
      "text/html": [
       "<div>\n",
       "<style scoped>\n",
       "    .dataframe tbody tr th:only-of-type {\n",
       "        vertical-align: middle;\n",
       "    }\n",
       "\n",
       "    .dataframe tbody tr th {\n",
       "        vertical-align: top;\n",
       "    }\n",
       "\n",
       "    .dataframe thead th {\n",
       "        text-align: right;\n",
       "    }\n",
       "</style>\n",
       "<table border=\"1\" class=\"dataframe\">\n",
       "  <thead>\n",
       "    <tr style=\"text-align: right;\">\n",
       "      <th></th>\n",
       "      <th>case</th>\n",
       "      <th>bwt</th>\n",
       "      <th>gestation</th>\n",
       "      <th>parity</th>\n",
       "      <th>age</th>\n",
       "      <th>height</th>\n",
       "      <th>weight</th>\n",
       "      <th>smoke</th>\n",
       "    </tr>\n",
       "  </thead>\n",
       "  <tbody>\n",
       "    <tr>\n",
       "      <th>0</th>\n",
       "      <td>1</td>\n",
       "      <td>120</td>\n",
       "      <td>284.0</td>\n",
       "      <td>0</td>\n",
       "      <td>27.0</td>\n",
       "      <td>62.0</td>\n",
       "      <td>100.0</td>\n",
       "      <td>0.0</td>\n",
       "    </tr>\n",
       "    <tr>\n",
       "      <th>1</th>\n",
       "      <td>2</td>\n",
       "      <td>113</td>\n",
       "      <td>282.0</td>\n",
       "      <td>0</td>\n",
       "      <td>33.0</td>\n",
       "      <td>64.0</td>\n",
       "      <td>135.0</td>\n",
       "      <td>0.0</td>\n",
       "    </tr>\n",
       "    <tr>\n",
       "      <th>2</th>\n",
       "      <td>3</td>\n",
       "      <td>128</td>\n",
       "      <td>279.0</td>\n",
       "      <td>0</td>\n",
       "      <td>28.0</td>\n",
       "      <td>64.0</td>\n",
       "      <td>115.0</td>\n",
       "      <td>1.0</td>\n",
       "    </tr>\n",
       "    <tr>\n",
       "      <th>3</th>\n",
       "      <td>4</td>\n",
       "      <td>123</td>\n",
       "      <td>NaN</td>\n",
       "      <td>0</td>\n",
       "      <td>36.0</td>\n",
       "      <td>69.0</td>\n",
       "      <td>190.0</td>\n",
       "      <td>0.0</td>\n",
       "    </tr>\n",
       "    <tr>\n",
       "      <th>4</th>\n",
       "      <td>5</td>\n",
       "      <td>108</td>\n",
       "      <td>282.0</td>\n",
       "      <td>0</td>\n",
       "      <td>23.0</td>\n",
       "      <td>67.0</td>\n",
       "      <td>125.0</td>\n",
       "      <td>1.0</td>\n",
       "    </tr>\n",
       "    <tr>\n",
       "      <th>5</th>\n",
       "      <td>6</td>\n",
       "      <td>136</td>\n",
       "      <td>286.0</td>\n",
       "      <td>0</td>\n",
       "      <td>25.0</td>\n",
       "      <td>62.0</td>\n",
       "      <td>93.0</td>\n",
       "      <td>0.0</td>\n",
       "    </tr>\n",
       "    <tr>\n",
       "      <th>6</th>\n",
       "      <td>7</td>\n",
       "      <td>138</td>\n",
       "      <td>244.0</td>\n",
       "      <td>0</td>\n",
       "      <td>33.0</td>\n",
       "      <td>62.0</td>\n",
       "      <td>178.0</td>\n",
       "      <td>0.0</td>\n",
       "    </tr>\n",
       "    <tr>\n",
       "      <th>7</th>\n",
       "      <td>8</td>\n",
       "      <td>132</td>\n",
       "      <td>245.0</td>\n",
       "      <td>0</td>\n",
       "      <td>23.0</td>\n",
       "      <td>65.0</td>\n",
       "      <td>140.0</td>\n",
       "      <td>0.0</td>\n",
       "    </tr>\n",
       "    <tr>\n",
       "      <th>8</th>\n",
       "      <td>9</td>\n",
       "      <td>120</td>\n",
       "      <td>289.0</td>\n",
       "      <td>0</td>\n",
       "      <td>25.0</td>\n",
       "      <td>62.0</td>\n",
       "      <td>125.0</td>\n",
       "      <td>0.0</td>\n",
       "    </tr>\n",
       "    <tr>\n",
       "      <th>9</th>\n",
       "      <td>10</td>\n",
       "      <td>143</td>\n",
       "      <td>299.0</td>\n",
       "      <td>0</td>\n",
       "      <td>30.0</td>\n",
       "      <td>66.0</td>\n",
       "      <td>136.0</td>\n",
       "      <td>1.0</td>\n",
       "    </tr>\n",
       "  </tbody>\n",
       "</table>\n",
       "</div>"
      ],
      "text/plain": [
       "   case  bwt  gestation  parity   age  height  weight  smoke\n",
       "0     1  120      284.0       0  27.0    62.0   100.0    0.0\n",
       "1     2  113      282.0       0  33.0    64.0   135.0    0.0\n",
       "2     3  128      279.0       0  28.0    64.0   115.0    1.0\n",
       "3     4  123        NaN       0  36.0    69.0   190.0    0.0\n",
       "4     5  108      282.0       0  23.0    67.0   125.0    1.0\n",
       "5     6  136      286.0       0  25.0    62.0    93.0    0.0\n",
       "6     7  138      244.0       0  33.0    62.0   178.0    0.0\n",
       "7     8  132      245.0       0  23.0    65.0   140.0    0.0\n",
       "8     9  120      289.0       0  25.0    62.0   125.0    0.0\n",
       "9    10  143      299.0       0  30.0    66.0   136.0    1.0"
      ]
     },
     "execution_count": 2,
     "metadata": {},
     "output_type": "execute_result"
    }
   ],
   "source": [
    "babies_df = pd.read_csv(\"babies.csv\")\n",
    "babies_df.head(10)"
   ]
  },
  {
   "cell_type": "markdown",
   "id": "future-overall",
   "metadata": {},
   "source": [
    "O objetivo do dataset 1 é modelar o peso dos bebês (bwt, em onças) usando variáveis que incluem tempo de gravidez (gestation, em dias), idade da mãe (age, em anos), altura da mãe (height, em polegadas), se a criança foi a primeira nascido (parity), peso da gravidez da mãe (weight, em libras) e se a mãe era fumante (smoke). "
   ]
  },
  {
   "cell_type": "markdown",
   "id": "pharmaceutical-frame",
   "metadata": {},
   "source": [
    "***"
   ]
  },
  {
   "cell_type": "markdown",
   "id": "endless-jerusalem",
   "metadata": {},
   "source": [
    "#### Dataset 2 - Hábitos e práticas de gestantes e seus filhos"
   ]
  },
  {
   "cell_type": "code",
   "execution_count": 3,
   "id": "partial-steal",
   "metadata": {},
   "outputs": [
    {
     "data": {
      "text/html": [
       "<div>\n",
       "<style scoped>\n",
       "    .dataframe tbody tr th:only-of-type {\n",
       "        vertical-align: middle;\n",
       "    }\n",
       "\n",
       "    .dataframe tbody tr th {\n",
       "        vertical-align: top;\n",
       "    }\n",
       "\n",
       "    .dataframe thead th {\n",
       "        text-align: right;\n",
       "    }\n",
       "</style>\n",
       "<table border=\"1\" class=\"dataframe\">\n",
       "  <thead>\n",
       "    <tr style=\"text-align: right;\">\n",
       "      <th></th>\n",
       "      <th>fage</th>\n",
       "      <th>mage</th>\n",
       "      <th>mature</th>\n",
       "      <th>weeks</th>\n",
       "      <th>premie</th>\n",
       "      <th>visits</th>\n",
       "      <th>gained</th>\n",
       "      <th>weight</th>\n",
       "      <th>lowbirthweight</th>\n",
       "      <th>sex</th>\n",
       "      <th>habit</th>\n",
       "      <th>marital</th>\n",
       "      <th>whitemom</th>\n",
       "    </tr>\n",
       "  </thead>\n",
       "  <tbody>\n",
       "    <tr>\n",
       "      <th>0</th>\n",
       "      <td>34.0</td>\n",
       "      <td>34</td>\n",
       "      <td>younger mom</td>\n",
       "      <td>37</td>\n",
       "      <td>full term</td>\n",
       "      <td>14.0</td>\n",
       "      <td>28.0</td>\n",
       "      <td>6.96</td>\n",
       "      <td>not low</td>\n",
       "      <td>male</td>\n",
       "      <td>nonsmoker</td>\n",
       "      <td>married</td>\n",
       "      <td>white</td>\n",
       "    </tr>\n",
       "    <tr>\n",
       "      <th>1</th>\n",
       "      <td>36.0</td>\n",
       "      <td>31</td>\n",
       "      <td>younger mom</td>\n",
       "      <td>41</td>\n",
       "      <td>full term</td>\n",
       "      <td>12.0</td>\n",
       "      <td>41.0</td>\n",
       "      <td>8.86</td>\n",
       "      <td>not low</td>\n",
       "      <td>female</td>\n",
       "      <td>nonsmoker</td>\n",
       "      <td>married</td>\n",
       "      <td>white</td>\n",
       "    </tr>\n",
       "    <tr>\n",
       "      <th>2</th>\n",
       "      <td>37.0</td>\n",
       "      <td>36</td>\n",
       "      <td>mature mom</td>\n",
       "      <td>37</td>\n",
       "      <td>full term</td>\n",
       "      <td>10.0</td>\n",
       "      <td>28.0</td>\n",
       "      <td>7.51</td>\n",
       "      <td>not low</td>\n",
       "      <td>female</td>\n",
       "      <td>nonsmoker</td>\n",
       "      <td>married</td>\n",
       "      <td>not white</td>\n",
       "    </tr>\n",
       "    <tr>\n",
       "      <th>3</th>\n",
       "      <td>NaN</td>\n",
       "      <td>16</td>\n",
       "      <td>younger mom</td>\n",
       "      <td>38</td>\n",
       "      <td>full term</td>\n",
       "      <td>NaN</td>\n",
       "      <td>29.0</td>\n",
       "      <td>6.19</td>\n",
       "      <td>not low</td>\n",
       "      <td>male</td>\n",
       "      <td>nonsmoker</td>\n",
       "      <td>not married</td>\n",
       "      <td>white</td>\n",
       "    </tr>\n",
       "    <tr>\n",
       "      <th>4</th>\n",
       "      <td>32.0</td>\n",
       "      <td>31</td>\n",
       "      <td>younger mom</td>\n",
       "      <td>36</td>\n",
       "      <td>premie</td>\n",
       "      <td>12.0</td>\n",
       "      <td>48.0</td>\n",
       "      <td>6.75</td>\n",
       "      <td>not low</td>\n",
       "      <td>female</td>\n",
       "      <td>nonsmoker</td>\n",
       "      <td>married</td>\n",
       "      <td>white</td>\n",
       "    </tr>\n",
       "    <tr>\n",
       "      <th>5</th>\n",
       "      <td>32.0</td>\n",
       "      <td>26</td>\n",
       "      <td>younger mom</td>\n",
       "      <td>39</td>\n",
       "      <td>full term</td>\n",
       "      <td>14.0</td>\n",
       "      <td>45.0</td>\n",
       "      <td>6.69</td>\n",
       "      <td>not low</td>\n",
       "      <td>female</td>\n",
       "      <td>nonsmoker</td>\n",
       "      <td>married</td>\n",
       "      <td>white</td>\n",
       "    </tr>\n",
       "    <tr>\n",
       "      <th>6</th>\n",
       "      <td>37.0</td>\n",
       "      <td>36</td>\n",
       "      <td>mature mom</td>\n",
       "      <td>36</td>\n",
       "      <td>premie</td>\n",
       "      <td>10.0</td>\n",
       "      <td>20.0</td>\n",
       "      <td>6.13</td>\n",
       "      <td>not low</td>\n",
       "      <td>female</td>\n",
       "      <td>nonsmoker</td>\n",
       "      <td>married</td>\n",
       "      <td>white</td>\n",
       "    </tr>\n",
       "    <tr>\n",
       "      <th>7</th>\n",
       "      <td>29.0</td>\n",
       "      <td>24</td>\n",
       "      <td>younger mom</td>\n",
       "      <td>40</td>\n",
       "      <td>full term</td>\n",
       "      <td>13.0</td>\n",
       "      <td>65.0</td>\n",
       "      <td>6.74</td>\n",
       "      <td>not low</td>\n",
       "      <td>male</td>\n",
       "      <td>nonsmoker</td>\n",
       "      <td>not married</td>\n",
       "      <td>white</td>\n",
       "    </tr>\n",
       "    <tr>\n",
       "      <th>8</th>\n",
       "      <td>30.0</td>\n",
       "      <td>32</td>\n",
       "      <td>younger mom</td>\n",
       "      <td>39</td>\n",
       "      <td>full term</td>\n",
       "      <td>15.0</td>\n",
       "      <td>25.0</td>\n",
       "      <td>8.94</td>\n",
       "      <td>not low</td>\n",
       "      <td>female</td>\n",
       "      <td>nonsmoker</td>\n",
       "      <td>married</td>\n",
       "      <td>white</td>\n",
       "    </tr>\n",
       "    <tr>\n",
       "      <th>9</th>\n",
       "      <td>29.0</td>\n",
       "      <td>26</td>\n",
       "      <td>younger mom</td>\n",
       "      <td>39</td>\n",
       "      <td>full term</td>\n",
       "      <td>11.0</td>\n",
       "      <td>22.0</td>\n",
       "      <td>9.12</td>\n",
       "      <td>not low</td>\n",
       "      <td>male</td>\n",
       "      <td>nonsmoker</td>\n",
       "      <td>not married</td>\n",
       "      <td>not white</td>\n",
       "    </tr>\n",
       "  </tbody>\n",
       "</table>\n",
       "</div>"
      ],
      "text/plain": [
       "   fage  mage       mature  weeks     premie  visits  gained  weight  \\\n",
       "0  34.0    34  younger mom     37  full term    14.0    28.0    6.96   \n",
       "1  36.0    31  younger mom     41  full term    12.0    41.0    8.86   \n",
       "2  37.0    36   mature mom     37  full term    10.0    28.0    7.51   \n",
       "3   NaN    16  younger mom     38  full term     NaN    29.0    6.19   \n",
       "4  32.0    31  younger mom     36     premie    12.0    48.0    6.75   \n",
       "5  32.0    26  younger mom     39  full term    14.0    45.0    6.69   \n",
       "6  37.0    36   mature mom     36     premie    10.0    20.0    6.13   \n",
       "7  29.0    24  younger mom     40  full term    13.0    65.0    6.74   \n",
       "8  30.0    32  younger mom     39  full term    15.0    25.0    8.94   \n",
       "9  29.0    26  younger mom     39  full term    11.0    22.0    9.12   \n",
       "\n",
       "  lowbirthweight     sex      habit      marital   whitemom  \n",
       "0        not low    male  nonsmoker      married      white  \n",
       "1        not low  female  nonsmoker      married      white  \n",
       "2        not low  female  nonsmoker      married  not white  \n",
       "3        not low    male  nonsmoker  not married      white  \n",
       "4        not low  female  nonsmoker      married      white  \n",
       "5        not low  female  nonsmoker      married      white  \n",
       "6        not low  female  nonsmoker      married      white  \n",
       "7        not low    male  nonsmoker  not married      white  \n",
       "8        not low  female  nonsmoker      married      white  \n",
       "9        not low    male  nonsmoker  not married  not white  "
      ]
     },
     "execution_count": 3,
     "metadata": {},
     "output_type": "execute_result"
    }
   ],
   "source": [
    "births_df = pd.read_csv(\"births14.csv\")\n",
    "births_df.head(10)"
   ]
  },
  {
   "cell_type": "markdown",
   "id": "digital-macedonia",
   "metadata": {},
   "source": [
    "Todos os anos, os EUA divulgam ao público um grande conjunto de dados contendo informações sobre os nascimentos registrados no país. O dataset 2 é utilizado por médicos que estudam a relação entre hábitos e práticas de mulheres grávidas e o nascimento de seus filhos. Esta é uma amostra aleatória de 1.000 casos do conjunto de dados divulgado em 2014."
   ]
  },
  {
   "cell_type": "markdown",
   "id": "statutory-finder",
   "metadata": {},
   "source": [
    "***"
   ]
  },
  {
   "cell_type": "markdown",
   "id": "choice-greeting",
   "metadata": {},
   "source": [
    "#### Dataset 3 - CCG data: Bebês nascidos com baixo peso"
   ]
  },
  {
   "cell_type": "code",
   "execution_count": 4,
   "id": "straight-huntington",
   "metadata": {},
   "outputs": [
    {
     "data": {
      "text/html": [
       "<div>\n",
       "<style scoped>\n",
       "    .dataframe tbody tr th:only-of-type {\n",
       "        vertical-align: middle;\n",
       "    }\n",
       "\n",
       "    .dataframe tbody tr th {\n",
       "        vertical-align: top;\n",
       "    }\n",
       "\n",
       "    .dataframe thead th {\n",
       "        text-align: right;\n",
       "    }\n",
       "</style>\n",
       "<table border=\"1\" class=\"dataframe\">\n",
       "  <thead>\n",
       "    <tr style=\"text-align: right;\">\n",
       "      <th></th>\n",
       "      <th>Reporting period</th>\n",
       "      <th>Period of coverage</th>\n",
       "      <th>Breakdown</th>\n",
       "      <th>ONS code</th>\n",
       "      <th>Level</th>\n",
       "      <th>Level description</th>\n",
       "      <th>Indicator value</th>\n",
       "      <th>CI lower</th>\n",
       "      <th>CI upper</th>\n",
       "      <th>Denominator</th>\n",
       "      <th>Numerator</th>\n",
       "    </tr>\n",
       "  </thead>\n",
       "  <tbody>\n",
       "    <tr>\n",
       "      <th>0</th>\n",
       "      <td>2017</td>\n",
       "      <td>01/01/2017 to 31/12/2017</td>\n",
       "      <td>National</td>\n",
       "      <td>E92000001</td>\n",
       "      <td>England</td>\n",
       "      <td>Resident in England</td>\n",
       "      <td>2.8</td>\n",
       "      <td>2.8</td>\n",
       "      <td>2.9</td>\n",
       "      <td>586,452</td>\n",
       "      <td>16,534</td>\n",
       "    </tr>\n",
       "    <tr>\n",
       "      <th>1</th>\n",
       "      <td>2016</td>\n",
       "      <td>01/01/2016 to 31/12/2016</td>\n",
       "      <td>National</td>\n",
       "      <td>E92000001</td>\n",
       "      <td>England</td>\n",
       "      <td>Resident in England</td>\n",
       "      <td>2.8</td>\n",
       "      <td>2.7</td>\n",
       "      <td>2.8</td>\n",
       "      <td>602,547</td>\n",
       "      <td>16,788</td>\n",
       "    </tr>\n",
       "    <tr>\n",
       "      <th>2</th>\n",
       "      <td>2015</td>\n",
       "      <td>01/01/2015 to 31/12/2015</td>\n",
       "      <td>National</td>\n",
       "      <td>E92000001</td>\n",
       "      <td>England</td>\n",
       "      <td>Resident in England</td>\n",
       "      <td>2.8</td>\n",
       "      <td>2.7</td>\n",
       "      <td>2.8</td>\n",
       "      <td>603,646</td>\n",
       "      <td>16,748</td>\n",
       "    </tr>\n",
       "    <tr>\n",
       "      <th>3</th>\n",
       "      <td>2014</td>\n",
       "      <td>01/01/2014 to 31/12/2014</td>\n",
       "      <td>National</td>\n",
       "      <td>E92000001</td>\n",
       "      <td>England</td>\n",
       "      <td>Resident in England</td>\n",
       "      <td>2.9</td>\n",
       "      <td>2.8</td>\n",
       "      <td>2.9</td>\n",
       "      <td>601,620</td>\n",
       "      <td>17,231</td>\n",
       "    </tr>\n",
       "    <tr>\n",
       "      <th>4</th>\n",
       "      <td>2013</td>\n",
       "      <td>01/01/2013 to 31/12/2013</td>\n",
       "      <td>National</td>\n",
       "      <td>E92000001</td>\n",
       "      <td>England</td>\n",
       "      <td>Resident in England</td>\n",
       "      <td>2.8</td>\n",
       "      <td>2.8</td>\n",
       "      <td>2.9</td>\n",
       "      <td>608,579</td>\n",
       "      <td>17,175</td>\n",
       "    </tr>\n",
       "    <tr>\n",
       "      <th>5</th>\n",
       "      <td>2017</td>\n",
       "      <td>01/01/2017 to 31/12/2017</td>\n",
       "      <td>CCG</td>\n",
       "      <td>E38000001</td>\n",
       "      <td>02N</td>\n",
       "      <td>NHS Airedale, Wharfedale and Craven CCG</td>\n",
       "      <td>2.0</td>\n",
       "      <td>1.4</td>\n",
       "      <td>2.9</td>\n",
       "      <td>1,431</td>\n",
       "      <td>29</td>\n",
       "    </tr>\n",
       "    <tr>\n",
       "      <th>6</th>\n",
       "      <td>2017</td>\n",
       "      <td>01/01/2017 to 31/12/2017</td>\n",
       "      <td>CCG</td>\n",
       "      <td>E38000002</td>\n",
       "      <td>09C</td>\n",
       "      <td>NHS Ashford CCG</td>\n",
       "      <td>2.4</td>\n",
       "      <td>1.7</td>\n",
       "      <td>3.3</td>\n",
       "      <td>1,392</td>\n",
       "      <td>33</td>\n",
       "    </tr>\n",
       "    <tr>\n",
       "      <th>7</th>\n",
       "      <td>2017</td>\n",
       "      <td>01/01/2017 to 31/12/2017</td>\n",
       "      <td>CCG</td>\n",
       "      <td>E38000004</td>\n",
       "      <td>07L</td>\n",
       "      <td>NHS Barking and Dagenham CCG</td>\n",
       "      <td>3.8</td>\n",
       "      <td>3.2</td>\n",
       "      <td>4.5</td>\n",
       "      <td>3,471</td>\n",
       "      <td>131</td>\n",
       "    </tr>\n",
       "    <tr>\n",
       "      <th>8</th>\n",
       "      <td>2017</td>\n",
       "      <td>01/01/2017 to 31/12/2017</td>\n",
       "      <td>CCG</td>\n",
       "      <td>E38000005</td>\n",
       "      <td>07M</td>\n",
       "      <td>NHS Barnet CCG</td>\n",
       "      <td>2.6</td>\n",
       "      <td>2.2</td>\n",
       "      <td>3.1</td>\n",
       "      <td>4,821</td>\n",
       "      <td>127</td>\n",
       "    </tr>\n",
       "    <tr>\n",
       "      <th>9</th>\n",
       "      <td>2017</td>\n",
       "      <td>01/01/2017 to 31/12/2017</td>\n",
       "      <td>CCG</td>\n",
       "      <td>E38000006</td>\n",
       "      <td>02P</td>\n",
       "      <td>NHS Barnsley CCG</td>\n",
       "      <td>3.0</td>\n",
       "      <td>2.4</td>\n",
       "      <td>3.8</td>\n",
       "      <td>2,522</td>\n",
       "      <td>76</td>\n",
       "    </tr>\n",
       "  </tbody>\n",
       "</table>\n",
       "</div>"
      ],
      "text/plain": [
       "   Reporting period        Period of coverage Breakdown   ONS code    Level  \\\n",
       "0              2017  01/01/2017 to 31/12/2017  National  E92000001  England   \n",
       "1              2016  01/01/2016 to 31/12/2016  National  E92000001  England   \n",
       "2              2015  01/01/2015 to 31/12/2015  National  E92000001  England   \n",
       "3              2014  01/01/2014 to 31/12/2014  National  E92000001  England   \n",
       "4              2013  01/01/2013 to 31/12/2013  National  E92000001  England   \n",
       "5              2017  01/01/2017 to 31/12/2017       CCG  E38000001      02N   \n",
       "6              2017  01/01/2017 to 31/12/2017       CCG  E38000002      09C   \n",
       "7              2017  01/01/2017 to 31/12/2017       CCG  E38000004      07L   \n",
       "8              2017  01/01/2017 to 31/12/2017       CCG  E38000005      07M   \n",
       "9              2017  01/01/2017 to 31/12/2017       CCG  E38000006      02P   \n",
       "\n",
       "                         Level description  Indicator value  CI lower  \\\n",
       "0                      Resident in England              2.8       2.8   \n",
       "1                      Resident in England              2.8       2.7   \n",
       "2                      Resident in England              2.8       2.7   \n",
       "3                      Resident in England              2.9       2.8   \n",
       "4                      Resident in England              2.8       2.8   \n",
       "5  NHS Airedale, Wharfedale and Craven CCG              2.0       1.4   \n",
       "6                          NHS Ashford CCG              2.4       1.7   \n",
       "7             NHS Barking and Dagenham CCG              3.8       3.2   \n",
       "8                           NHS Barnet CCG              2.6       2.2   \n",
       "9                         NHS Barnsley CCG              3.0       2.4   \n",
       "\n",
       "   CI upper Denominator Numerator  \n",
       "0       2.9     586,452    16,534  \n",
       "1       2.8     602,547    16,788  \n",
       "2       2.8     603,646    16,748  \n",
       "3       2.9     601,620    17,231  \n",
       "4       2.9     608,579    17,175  \n",
       "5       2.9       1,431        29  \n",
       "6       3.3       1,392        33  \n",
       "7       4.5       3,471       131  \n",
       "8       3.1       4,821       127  \n",
       "9       3.8       2,522        76  "
      ]
     },
     "execution_count": 4,
     "metadata": {},
     "output_type": "execute_result"
    }
   ],
   "source": [
    "lowbirth_df = pd.read_csv(\"low_birth.csv\")\n",
    "lowbirth_df.head(10)"
   ]
  },
  {
   "cell_type": "markdown",
   "id": "organized-administration",
   "metadata": {},
   "source": [
    "Reporting period (ano do relatório), Period of coverage (datas de início e término para o período do relatório), Breakdown (Nacional - todos residentes na Inglaterra, CCG), ONS code (Código de geografia do ONS), Level (divisão regional - codigo de divisão), Level description (Descrição mais detalhada / divisão), Indicator value (Porcentagem de bebês nascidos a termo com baixo peso), CI lower (intervalo inferior com 95% de confiança), CI upper (intervalo superior com 95% de confiança), Denominator (O número de bebês nascidos), Numerator (O número de bebês nascidos com baixo peso)."
   ]
  },
  {
   "cell_type": "markdown",
   "id": "animal-geology",
   "metadata": {},
   "source": [
    "***"
   ]
  },
  {
   "cell_type": "markdown",
   "id": "vital-volunteer",
   "metadata": {},
   "source": [
    "#### <font color=red>Pré-processamento:</font> "
   ]
  },
  {
   "cell_type": "markdown",
   "id": "artificial-motion",
   "metadata": {},
   "source": [
    "#### Dataset 1"
   ]
  },
  {
   "cell_type": "code",
   "execution_count": 5,
   "id": "accessory-dynamics",
   "metadata": {},
   "outputs": [],
   "source": [
    "import numpy as np"
   ]
  },
  {
   "cell_type": "code",
   "execution_count": 6,
   "id": "continued-speed",
   "metadata": {},
   "outputs": [
    {
     "data": {
      "text/plain": [
       "case         0.000000\n",
       "bwt          0.000000\n",
       "gestation    1.051780\n",
       "parity       0.000000\n",
       "age          0.161812\n",
       "height       1.779935\n",
       "weight       2.912621\n",
       "smoke        0.809061\n",
       "dtype: float64"
      ]
     },
     "execution_count": 6,
     "metadata": {},
     "output_type": "execute_result"
    }
   ],
   "source": [
    "missing_percentage = (babies_df.isnull().sum() / len(babies_df[\"case\"]))*100 #linha para saber porcentagem de dados nulos\n",
    "missing_percentage"
   ]
  },
  {
   "cell_type": "code",
   "execution_count": 7,
   "id": "breeding-smooth",
   "metadata": {},
   "outputs": [],
   "source": [
    "babies_df[\"gestation\"].fillna(babies_df[\"gestation\"].median(), inplace = True) #preenchendo os valores nulos com a mediana"
   ]
  },
  {
   "cell_type": "code",
   "execution_count": 8,
   "id": "armed-thesis",
   "metadata": {},
   "outputs": [],
   "source": [
    "babies_df[\"height\"].fillna(babies_df[\"height\"].mean(), inplace = True) #preenchendo valores nulos com a média"
   ]
  },
  {
   "cell_type": "code",
   "execution_count": 9,
   "id": "assured-liabilities",
   "metadata": {},
   "outputs": [],
   "source": [
    "babies_df[\"weight\"].fillna(babies_df[\"weight\"].mean(), inplace = True) #preenchendo valores nulos com a média"
   ]
  },
  {
   "cell_type": "code",
   "execution_count": 10,
   "id": "remarkable-profit",
   "metadata": {},
   "outputs": [],
   "source": [
    "babies_df[\"age\"].fillna(babies_df[\"age\"].mean(), inplace = True) #preenchendo valores nulos com a média"
   ]
  },
  {
   "cell_type": "code",
   "execution_count": 11,
   "id": "occasional-concentration",
   "metadata": {},
   "outputs": [],
   "source": [
    "#mudando alguns valores do dataset para ficar com uma melhor compreensão\n",
    "babies_df[\"smoke\"] = babies_df[\"smoke\"].replace(0,\"nonsmoker\")\n",
    "babies_df[\"smoke\"] = babies_df[\"smoke\"].replace(1,\"smoker\")\n",
    "babies_df[\"parity\"] = babies_df[\"parity\"].replace(0,\"FirstPregnancy\")\n",
    "babies_df[\"parity\"] = babies_df[\"parity\"].replace(1,\"NotFirtsPregnancy\")"
   ]
  },
  {
   "cell_type": "code",
   "execution_count": 12,
   "id": "spiritual-archive",
   "metadata": {},
   "outputs": [
    {
     "data": {
      "text/html": [
       "<div>\n",
       "<style scoped>\n",
       "    .dataframe tbody tr th:only-of-type {\n",
       "        vertical-align: middle;\n",
       "    }\n",
       "\n",
       "    .dataframe tbody tr th {\n",
       "        vertical-align: top;\n",
       "    }\n",
       "\n",
       "    .dataframe thead th {\n",
       "        text-align: right;\n",
       "    }\n",
       "</style>\n",
       "<table border=\"1\" class=\"dataframe\">\n",
       "  <thead>\n",
       "    <tr style=\"text-align: right;\">\n",
       "      <th></th>\n",
       "      <th>case</th>\n",
       "      <th>bwt</th>\n",
       "      <th>gestation</th>\n",
       "      <th>parity</th>\n",
       "      <th>age</th>\n",
       "      <th>height</th>\n",
       "      <th>weight</th>\n",
       "      <th>smoke</th>\n",
       "    </tr>\n",
       "  </thead>\n",
       "  <tbody>\n",
       "    <tr>\n",
       "      <th>0</th>\n",
       "      <td>1</td>\n",
       "      <td>120</td>\n",
       "      <td>284.0</td>\n",
       "      <td>FirstPregnancy</td>\n",
       "      <td>27.0</td>\n",
       "      <td>62.0</td>\n",
       "      <td>100.0</td>\n",
       "      <td>nonsmoker</td>\n",
       "    </tr>\n",
       "    <tr>\n",
       "      <th>1</th>\n",
       "      <td>2</td>\n",
       "      <td>113</td>\n",
       "      <td>282.0</td>\n",
       "      <td>FirstPregnancy</td>\n",
       "      <td>33.0</td>\n",
       "      <td>64.0</td>\n",
       "      <td>135.0</td>\n",
       "      <td>nonsmoker</td>\n",
       "    </tr>\n",
       "    <tr>\n",
       "      <th>2</th>\n",
       "      <td>3</td>\n",
       "      <td>128</td>\n",
       "      <td>279.0</td>\n",
       "      <td>FirstPregnancy</td>\n",
       "      <td>28.0</td>\n",
       "      <td>64.0</td>\n",
       "      <td>115.0</td>\n",
       "      <td>smoker</td>\n",
       "    </tr>\n",
       "    <tr>\n",
       "      <th>3</th>\n",
       "      <td>4</td>\n",
       "      <td>123</td>\n",
       "      <td>280.0</td>\n",
       "      <td>FirstPregnancy</td>\n",
       "      <td>36.0</td>\n",
       "      <td>69.0</td>\n",
       "      <td>190.0</td>\n",
       "      <td>nonsmoker</td>\n",
       "    </tr>\n",
       "    <tr>\n",
       "      <th>4</th>\n",
       "      <td>5</td>\n",
       "      <td>108</td>\n",
       "      <td>282.0</td>\n",
       "      <td>FirstPregnancy</td>\n",
       "      <td>23.0</td>\n",
       "      <td>67.0</td>\n",
       "      <td>125.0</td>\n",
       "      <td>smoker</td>\n",
       "    </tr>\n",
       "    <tr>\n",
       "      <th>5</th>\n",
       "      <td>6</td>\n",
       "      <td>136</td>\n",
       "      <td>286.0</td>\n",
       "      <td>FirstPregnancy</td>\n",
       "      <td>25.0</td>\n",
       "      <td>62.0</td>\n",
       "      <td>93.0</td>\n",
       "      <td>nonsmoker</td>\n",
       "    </tr>\n",
       "    <tr>\n",
       "      <th>6</th>\n",
       "      <td>7</td>\n",
       "      <td>138</td>\n",
       "      <td>244.0</td>\n",
       "      <td>FirstPregnancy</td>\n",
       "      <td>33.0</td>\n",
       "      <td>62.0</td>\n",
       "      <td>178.0</td>\n",
       "      <td>nonsmoker</td>\n",
       "    </tr>\n",
       "    <tr>\n",
       "      <th>7</th>\n",
       "      <td>8</td>\n",
       "      <td>132</td>\n",
       "      <td>245.0</td>\n",
       "      <td>FirstPregnancy</td>\n",
       "      <td>23.0</td>\n",
       "      <td>65.0</td>\n",
       "      <td>140.0</td>\n",
       "      <td>nonsmoker</td>\n",
       "    </tr>\n",
       "    <tr>\n",
       "      <th>8</th>\n",
       "      <td>9</td>\n",
       "      <td>120</td>\n",
       "      <td>289.0</td>\n",
       "      <td>FirstPregnancy</td>\n",
       "      <td>25.0</td>\n",
       "      <td>62.0</td>\n",
       "      <td>125.0</td>\n",
       "      <td>nonsmoker</td>\n",
       "    </tr>\n",
       "    <tr>\n",
       "      <th>9</th>\n",
       "      <td>10</td>\n",
       "      <td>143</td>\n",
       "      <td>299.0</td>\n",
       "      <td>FirstPregnancy</td>\n",
       "      <td>30.0</td>\n",
       "      <td>66.0</td>\n",
       "      <td>136.0</td>\n",
       "      <td>smoker</td>\n",
       "    </tr>\n",
       "  </tbody>\n",
       "</table>\n",
       "</div>"
      ],
      "text/plain": [
       "   case  bwt  gestation          parity   age  height  weight      smoke\n",
       "0     1  120      284.0  FirstPregnancy  27.0    62.0   100.0  nonsmoker\n",
       "1     2  113      282.0  FirstPregnancy  33.0    64.0   135.0  nonsmoker\n",
       "2     3  128      279.0  FirstPregnancy  28.0    64.0   115.0     smoker\n",
       "3     4  123      280.0  FirstPregnancy  36.0    69.0   190.0  nonsmoker\n",
       "4     5  108      282.0  FirstPregnancy  23.0    67.0   125.0     smoker\n",
       "5     6  136      286.0  FirstPregnancy  25.0    62.0    93.0  nonsmoker\n",
       "6     7  138      244.0  FirstPregnancy  33.0    62.0   178.0  nonsmoker\n",
       "7     8  132      245.0  FirstPregnancy  23.0    65.0   140.0  nonsmoker\n",
       "8     9  120      289.0  FirstPregnancy  25.0    62.0   125.0  nonsmoker\n",
       "9    10  143      299.0  FirstPregnancy  30.0    66.0   136.0     smoker"
      ]
     },
     "execution_count": 12,
     "metadata": {},
     "output_type": "execute_result"
    }
   ],
   "source": [
    "babies_df.head(10) #após as mudanças o dataset fica mais compreensível e sem valores nulos"
   ]
  },
  {
   "cell_type": "markdown",
   "id": "random-compromise",
   "metadata": {},
   "source": [
    "***"
   ]
  },
  {
   "cell_type": "markdown",
   "id": "emerging-biology",
   "metadata": {},
   "source": [
    "#### Dataset 2"
   ]
  },
  {
   "cell_type": "code",
   "execution_count": 13,
   "id": "martial-baseline",
   "metadata": {
    "scrolled": true
   },
   "outputs": [
    {
     "data": {
      "text/plain": [
       "fage              11.4\n",
       "mage               0.0\n",
       "mature             0.0\n",
       "weeks              0.0\n",
       "premie             0.0\n",
       "visits             5.6\n",
       "gained             4.2\n",
       "weight             0.0\n",
       "lowbirthweight     0.0\n",
       "sex                0.0\n",
       "habit              1.9\n",
       "marital            0.0\n",
       "whitemom           0.0\n",
       "dtype: float64"
      ]
     },
     "execution_count": 13,
     "metadata": {},
     "output_type": "execute_result"
    }
   ],
   "source": [
    "missing_percentage = (births_df.isnull().sum() / len(births_df[\"mage\"]))*100\n",
    "missing_percentage"
   ]
  },
  {
   "cell_type": "code",
   "execution_count": 14,
   "id": "representative-compound",
   "metadata": {},
   "outputs": [],
   "source": [
    "births_df[\"fage\"].fillna(births_df[\"fage\"].mean(), inplace = True)"
   ]
  },
  {
   "cell_type": "code",
   "execution_count": 15,
   "id": "aquatic-victim",
   "metadata": {},
   "outputs": [],
   "source": [
    "births_df[\"visits\"].fillna(0, inplace = True)"
   ]
  },
  {
   "cell_type": "code",
   "execution_count": 16,
   "id": "international-placement",
   "metadata": {},
   "outputs": [],
   "source": [
    "births_df[\"gained\"].fillna(births_df[\"gained\"].mean(), inplace = True)"
   ]
  },
  {
   "cell_type": "code",
   "execution_count": 17,
   "id": "fundamental-creator",
   "metadata": {},
   "outputs": [],
   "source": [
    "births_df[\"habit\"].fillna(\"nonsmoker\", inplace = True)"
   ]
  },
  {
   "cell_type": "code",
   "execution_count": 18,
   "id": "agreed-aging",
   "metadata": {},
   "outputs": [
    {
     "data": {
      "text/html": [
       "<div>\n",
       "<style scoped>\n",
       "    .dataframe tbody tr th:only-of-type {\n",
       "        vertical-align: middle;\n",
       "    }\n",
       "\n",
       "    .dataframe tbody tr th {\n",
       "        vertical-align: top;\n",
       "    }\n",
       "\n",
       "    .dataframe thead th {\n",
       "        text-align: right;\n",
       "    }\n",
       "</style>\n",
       "<table border=\"1\" class=\"dataframe\">\n",
       "  <thead>\n",
       "    <tr style=\"text-align: right;\">\n",
       "      <th></th>\n",
       "      <th>fage</th>\n",
       "      <th>mage</th>\n",
       "      <th>mature</th>\n",
       "      <th>weeks</th>\n",
       "      <th>premie</th>\n",
       "      <th>visits</th>\n",
       "      <th>gained</th>\n",
       "      <th>weight</th>\n",
       "      <th>lowbirthweight</th>\n",
       "      <th>sex</th>\n",
       "      <th>habit</th>\n",
       "      <th>marital</th>\n",
       "      <th>whitemom</th>\n",
       "    </tr>\n",
       "  </thead>\n",
       "  <tbody>\n",
       "    <tr>\n",
       "      <th>0</th>\n",
       "      <td>34.000000</td>\n",
       "      <td>34</td>\n",
       "      <td>younger mom</td>\n",
       "      <td>37</td>\n",
       "      <td>full term</td>\n",
       "      <td>14.0</td>\n",
       "      <td>28.0</td>\n",
       "      <td>6.96</td>\n",
       "      <td>not low</td>\n",
       "      <td>male</td>\n",
       "      <td>nonsmoker</td>\n",
       "      <td>married</td>\n",
       "      <td>white</td>\n",
       "    </tr>\n",
       "    <tr>\n",
       "      <th>1</th>\n",
       "      <td>36.000000</td>\n",
       "      <td>31</td>\n",
       "      <td>younger mom</td>\n",
       "      <td>41</td>\n",
       "      <td>full term</td>\n",
       "      <td>12.0</td>\n",
       "      <td>41.0</td>\n",
       "      <td>8.86</td>\n",
       "      <td>not low</td>\n",
       "      <td>female</td>\n",
       "      <td>nonsmoker</td>\n",
       "      <td>married</td>\n",
       "      <td>white</td>\n",
       "    </tr>\n",
       "    <tr>\n",
       "      <th>2</th>\n",
       "      <td>37.000000</td>\n",
       "      <td>36</td>\n",
       "      <td>mature mom</td>\n",
       "      <td>37</td>\n",
       "      <td>full term</td>\n",
       "      <td>10.0</td>\n",
       "      <td>28.0</td>\n",
       "      <td>7.51</td>\n",
       "      <td>not low</td>\n",
       "      <td>female</td>\n",
       "      <td>nonsmoker</td>\n",
       "      <td>married</td>\n",
       "      <td>not white</td>\n",
       "    </tr>\n",
       "    <tr>\n",
       "      <th>3</th>\n",
       "      <td>31.133183</td>\n",
       "      <td>16</td>\n",
       "      <td>younger mom</td>\n",
       "      <td>38</td>\n",
       "      <td>full term</td>\n",
       "      <td>0.0</td>\n",
       "      <td>29.0</td>\n",
       "      <td>6.19</td>\n",
       "      <td>not low</td>\n",
       "      <td>male</td>\n",
       "      <td>nonsmoker</td>\n",
       "      <td>not married</td>\n",
       "      <td>white</td>\n",
       "    </tr>\n",
       "    <tr>\n",
       "      <th>4</th>\n",
       "      <td>32.000000</td>\n",
       "      <td>31</td>\n",
       "      <td>younger mom</td>\n",
       "      <td>36</td>\n",
       "      <td>premie</td>\n",
       "      <td>12.0</td>\n",
       "      <td>48.0</td>\n",
       "      <td>6.75</td>\n",
       "      <td>not low</td>\n",
       "      <td>female</td>\n",
       "      <td>nonsmoker</td>\n",
       "      <td>married</td>\n",
       "      <td>white</td>\n",
       "    </tr>\n",
       "    <tr>\n",
       "      <th>5</th>\n",
       "      <td>32.000000</td>\n",
       "      <td>26</td>\n",
       "      <td>younger mom</td>\n",
       "      <td>39</td>\n",
       "      <td>full term</td>\n",
       "      <td>14.0</td>\n",
       "      <td>45.0</td>\n",
       "      <td>6.69</td>\n",
       "      <td>not low</td>\n",
       "      <td>female</td>\n",
       "      <td>nonsmoker</td>\n",
       "      <td>married</td>\n",
       "      <td>white</td>\n",
       "    </tr>\n",
       "    <tr>\n",
       "      <th>6</th>\n",
       "      <td>37.000000</td>\n",
       "      <td>36</td>\n",
       "      <td>mature mom</td>\n",
       "      <td>36</td>\n",
       "      <td>premie</td>\n",
       "      <td>10.0</td>\n",
       "      <td>20.0</td>\n",
       "      <td>6.13</td>\n",
       "      <td>not low</td>\n",
       "      <td>female</td>\n",
       "      <td>nonsmoker</td>\n",
       "      <td>married</td>\n",
       "      <td>white</td>\n",
       "    </tr>\n",
       "    <tr>\n",
       "      <th>7</th>\n",
       "      <td>29.000000</td>\n",
       "      <td>24</td>\n",
       "      <td>younger mom</td>\n",
       "      <td>40</td>\n",
       "      <td>full term</td>\n",
       "      <td>13.0</td>\n",
       "      <td>65.0</td>\n",
       "      <td>6.74</td>\n",
       "      <td>not low</td>\n",
       "      <td>male</td>\n",
       "      <td>nonsmoker</td>\n",
       "      <td>not married</td>\n",
       "      <td>white</td>\n",
       "    </tr>\n",
       "    <tr>\n",
       "      <th>8</th>\n",
       "      <td>30.000000</td>\n",
       "      <td>32</td>\n",
       "      <td>younger mom</td>\n",
       "      <td>39</td>\n",
       "      <td>full term</td>\n",
       "      <td>15.0</td>\n",
       "      <td>25.0</td>\n",
       "      <td>8.94</td>\n",
       "      <td>not low</td>\n",
       "      <td>female</td>\n",
       "      <td>nonsmoker</td>\n",
       "      <td>married</td>\n",
       "      <td>white</td>\n",
       "    </tr>\n",
       "    <tr>\n",
       "      <th>9</th>\n",
       "      <td>29.000000</td>\n",
       "      <td>26</td>\n",
       "      <td>younger mom</td>\n",
       "      <td>39</td>\n",
       "      <td>full term</td>\n",
       "      <td>11.0</td>\n",
       "      <td>22.0</td>\n",
       "      <td>9.12</td>\n",
       "      <td>not low</td>\n",
       "      <td>male</td>\n",
       "      <td>nonsmoker</td>\n",
       "      <td>not married</td>\n",
       "      <td>not white</td>\n",
       "    </tr>\n",
       "  </tbody>\n",
       "</table>\n",
       "</div>"
      ],
      "text/plain": [
       "        fage  mage       mature  weeks     premie  visits  gained  weight  \\\n",
       "0  34.000000    34  younger mom     37  full term    14.0    28.0    6.96   \n",
       "1  36.000000    31  younger mom     41  full term    12.0    41.0    8.86   \n",
       "2  37.000000    36   mature mom     37  full term    10.0    28.0    7.51   \n",
       "3  31.133183    16  younger mom     38  full term     0.0    29.0    6.19   \n",
       "4  32.000000    31  younger mom     36     premie    12.0    48.0    6.75   \n",
       "5  32.000000    26  younger mom     39  full term    14.0    45.0    6.69   \n",
       "6  37.000000    36   mature mom     36     premie    10.0    20.0    6.13   \n",
       "7  29.000000    24  younger mom     40  full term    13.0    65.0    6.74   \n",
       "8  30.000000    32  younger mom     39  full term    15.0    25.0    8.94   \n",
       "9  29.000000    26  younger mom     39  full term    11.0    22.0    9.12   \n",
       "\n",
       "  lowbirthweight     sex      habit      marital   whitemom  \n",
       "0        not low    male  nonsmoker      married      white  \n",
       "1        not low  female  nonsmoker      married      white  \n",
       "2        not low  female  nonsmoker      married  not white  \n",
       "3        not low    male  nonsmoker  not married      white  \n",
       "4        not low  female  nonsmoker      married      white  \n",
       "5        not low  female  nonsmoker      married      white  \n",
       "6        not low  female  nonsmoker      married      white  \n",
       "7        not low    male  nonsmoker  not married      white  \n",
       "8        not low  female  nonsmoker      married      white  \n",
       "9        not low    male  nonsmoker  not married  not white  "
      ]
     },
     "execution_count": 18,
     "metadata": {},
     "output_type": "execute_result"
    }
   ],
   "source": [
    "births_df.head(10)"
   ]
  },
  {
   "cell_type": "markdown",
   "id": "atmospheric-proceeding",
   "metadata": {},
   "source": [
    "***"
   ]
  },
  {
   "cell_type": "markdown",
   "id": "appreciated-horror",
   "metadata": {},
   "source": [
    "#### Dataset 3"
   ]
  },
  {
   "cell_type": "code",
   "execution_count": 19,
   "id": "sunset-serum",
   "metadata": {},
   "outputs": [
    {
     "data": {
      "text/plain": [
       "Reporting period      0.0\n",
       "Period of coverage    0.0\n",
       "Breakdown             0.0\n",
       "ONS code              0.0\n",
       "Level                 0.0\n",
       "Level description     0.0\n",
       "Indicator value       0.0\n",
       "CI lower              0.0\n",
       "CI upper              0.0\n",
       "Denominator           0.0\n",
       "Numerator             0.0\n",
       "dtype: float64"
      ]
     },
     "execution_count": 19,
     "metadata": {},
     "output_type": "execute_result"
    }
   ],
   "source": [
    "missing_percentage = (lowbirth_df.isnull().sum() / len(lowbirth_df[\"Reporting period\"]))*100\n",
    "missing_percentage"
   ]
  },
  {
   "cell_type": "code",
   "execution_count": 20,
   "id": "purple-dealing",
   "metadata": {},
   "outputs": [
    {
     "data": {
      "text/html": [
       "<div>\n",
       "<style scoped>\n",
       "    .dataframe tbody tr th:only-of-type {\n",
       "        vertical-align: middle;\n",
       "    }\n",
       "\n",
       "    .dataframe tbody tr th {\n",
       "        vertical-align: top;\n",
       "    }\n",
       "\n",
       "    .dataframe thead th {\n",
       "        text-align: right;\n",
       "    }\n",
       "</style>\n",
       "<table border=\"1\" class=\"dataframe\">\n",
       "  <thead>\n",
       "    <tr style=\"text-align: right;\">\n",
       "      <th></th>\n",
       "      <th>Reporting period</th>\n",
       "      <th>Period of coverage</th>\n",
       "      <th>Indicator value</th>\n",
       "      <th>CI lower</th>\n",
       "      <th>CI upper</th>\n",
       "      <th>Denominator</th>\n",
       "      <th>Numerator</th>\n",
       "    </tr>\n",
       "  </thead>\n",
       "  <tbody>\n",
       "    <tr>\n",
       "      <th>0</th>\n",
       "      <td>2017</td>\n",
       "      <td>01/01/2017 to 31/12/2017</td>\n",
       "      <td>2.8</td>\n",
       "      <td>2.8</td>\n",
       "      <td>2.9</td>\n",
       "      <td>586,452</td>\n",
       "      <td>16,534</td>\n",
       "    </tr>\n",
       "    <tr>\n",
       "      <th>1</th>\n",
       "      <td>2016</td>\n",
       "      <td>01/01/2016 to 31/12/2016</td>\n",
       "      <td>2.8</td>\n",
       "      <td>2.7</td>\n",
       "      <td>2.8</td>\n",
       "      <td>602,547</td>\n",
       "      <td>16,788</td>\n",
       "    </tr>\n",
       "    <tr>\n",
       "      <th>2</th>\n",
       "      <td>2015</td>\n",
       "      <td>01/01/2015 to 31/12/2015</td>\n",
       "      <td>2.8</td>\n",
       "      <td>2.7</td>\n",
       "      <td>2.8</td>\n",
       "      <td>603,646</td>\n",
       "      <td>16,748</td>\n",
       "    </tr>\n",
       "    <tr>\n",
       "      <th>3</th>\n",
       "      <td>2014</td>\n",
       "      <td>01/01/2014 to 31/12/2014</td>\n",
       "      <td>2.9</td>\n",
       "      <td>2.8</td>\n",
       "      <td>2.9</td>\n",
       "      <td>601,620</td>\n",
       "      <td>17,231</td>\n",
       "    </tr>\n",
       "    <tr>\n",
       "      <th>4</th>\n",
       "      <td>2013</td>\n",
       "      <td>01/01/2013 to 31/12/2013</td>\n",
       "      <td>2.8</td>\n",
       "      <td>2.8</td>\n",
       "      <td>2.9</td>\n",
       "      <td>608,579</td>\n",
       "      <td>17,175</td>\n",
       "    </tr>\n",
       "    <tr>\n",
       "      <th>5</th>\n",
       "      <td>2017</td>\n",
       "      <td>01/01/2017 to 31/12/2017</td>\n",
       "      <td>2.0</td>\n",
       "      <td>1.4</td>\n",
       "      <td>2.9</td>\n",
       "      <td>1,431</td>\n",
       "      <td>29</td>\n",
       "    </tr>\n",
       "    <tr>\n",
       "      <th>6</th>\n",
       "      <td>2017</td>\n",
       "      <td>01/01/2017 to 31/12/2017</td>\n",
       "      <td>2.4</td>\n",
       "      <td>1.7</td>\n",
       "      <td>3.3</td>\n",
       "      <td>1,392</td>\n",
       "      <td>33</td>\n",
       "    </tr>\n",
       "    <tr>\n",
       "      <th>7</th>\n",
       "      <td>2017</td>\n",
       "      <td>01/01/2017 to 31/12/2017</td>\n",
       "      <td>3.8</td>\n",
       "      <td>3.2</td>\n",
       "      <td>4.5</td>\n",
       "      <td>3,471</td>\n",
       "      <td>131</td>\n",
       "    </tr>\n",
       "    <tr>\n",
       "      <th>8</th>\n",
       "      <td>2017</td>\n",
       "      <td>01/01/2017 to 31/12/2017</td>\n",
       "      <td>2.6</td>\n",
       "      <td>2.2</td>\n",
       "      <td>3.1</td>\n",
       "      <td>4,821</td>\n",
       "      <td>127</td>\n",
       "    </tr>\n",
       "    <tr>\n",
       "      <th>9</th>\n",
       "      <td>2017</td>\n",
       "      <td>01/01/2017 to 31/12/2017</td>\n",
       "      <td>3.0</td>\n",
       "      <td>2.4</td>\n",
       "      <td>3.8</td>\n",
       "      <td>2,522</td>\n",
       "      <td>76</td>\n",
       "    </tr>\n",
       "  </tbody>\n",
       "</table>\n",
       "</div>"
      ],
      "text/plain": [
       "   Reporting period        Period of coverage  Indicator value  CI lower  \\\n",
       "0              2017  01/01/2017 to 31/12/2017              2.8       2.8   \n",
       "1              2016  01/01/2016 to 31/12/2016              2.8       2.7   \n",
       "2              2015  01/01/2015 to 31/12/2015              2.8       2.7   \n",
       "3              2014  01/01/2014 to 31/12/2014              2.9       2.8   \n",
       "4              2013  01/01/2013 to 31/12/2013              2.8       2.8   \n",
       "5              2017  01/01/2017 to 31/12/2017              2.0       1.4   \n",
       "6              2017  01/01/2017 to 31/12/2017              2.4       1.7   \n",
       "7              2017  01/01/2017 to 31/12/2017              3.8       3.2   \n",
       "8              2017  01/01/2017 to 31/12/2017              2.6       2.2   \n",
       "9              2017  01/01/2017 to 31/12/2017              3.0       2.4   \n",
       "\n",
       "   CI upper Denominator Numerator  \n",
       "0       2.9     586,452    16,534  \n",
       "1       2.8     602,547    16,788  \n",
       "2       2.8     603,646    16,748  \n",
       "3       2.9     601,620    17,231  \n",
       "4       2.9     608,579    17,175  \n",
       "5       2.9       1,431        29  \n",
       "6       3.3       1,392        33  \n",
       "7       4.5       3,471       131  \n",
       "8       3.1       4,821       127  \n",
       "9       3.8       2,522        76  "
      ]
     },
     "execution_count": 20,
     "metadata": {},
     "output_type": "execute_result"
    }
   ],
   "source": [
    "# removendo algumas colunas não tão uteis para a analise dos dados\n",
    "lowbirth_df = lowbirth_df.drop(columns=[\"Breakdown\"])\n",
    "lowbirth_df = lowbirth_df.drop(columns=[\"ONS code\"])\n",
    "lowbirth_df = lowbirth_df.drop(columns=[\"Level\"])\n",
    "lowbirth_df = lowbirth_df.drop(columns=[\"Level description\"])\n",
    "lowbirth_df.head(10)"
   ]
  },
  {
   "cell_type": "markdown",
   "id": "curious-guitar",
   "metadata": {},
   "source": [
    "***"
   ]
  },
  {
   "cell_type": "markdown",
   "id": "exclusive-marker",
   "metadata": {},
   "source": [
    "#### <font color=red>Perguntas:</font> "
   ]
  },
  {
   "cell_type": "markdown",
   "id": "informative-perth",
   "metadata": {},
   "source": [
    "#### 1) Fumar influência no peso do bebe?"
   ]
  },
  {
   "cell_type": "markdown",
   "id": "secondary-slovenia",
   "metadata": {},
   "source": [
    "Para responder essa pergunta vamos analisar alguns gráficos dos datasets 1 e 2:"
   ]
  },
  {
   "cell_type": "code",
   "execution_count": 22,
   "id": "fallen-learning",
   "metadata": {},
   "outputs": [],
   "source": [
    "import seaborn as sns"
   ]
  },
  {
   "cell_type": "code",
   "execution_count": 23,
   "id": "fitting-knitting",
   "metadata": {},
   "outputs": [],
   "source": [
    "sns.set_palette(\"deep\")"
   ]
  },
  {
   "cell_type": "code",
   "execution_count": 44,
   "id": "included-apache",
   "metadata": {},
   "outputs": [
    {
     "data": {
      "text/plain": [
       "[Text(0.5, 0, 'Peso do bebê(onças)'), Text(0, 0.5, 'Tempo de gestação(dias)')]"
      ]
     },
     "execution_count": 44,
     "metadata": {},
     "output_type": "execute_result"
    },
    {
     "data": {
      "image/png": "[encoded data removed]",
      "text/plain": [
       "<Figure size 432x288 with 1 Axes>"
      ]
     },
     "metadata": {
      "needs_background": "light"
     },
     "output_type": "display_data"
    }
   ],
   "source": [
    "ax = sns.scatterplot(data=babies_df, x=\"bwt\", y=\"gestation\", hue=\"smoke\", alpha=0.7)\n",
    "ax.set(xlabel=\"Peso do bebê(onças)\", ylabel=\"Tempo de gestação(dias)\")"
   ]
  },
  {
   "cell_type": "code",
   "execution_count": 45,
   "id": "regular-hearts",
   "metadata": {},
   "outputs": [
    {
     "data": {
      "text/plain": [
       "[Text(0.5, 0, 'Tempo de gravidez(semanas)'),\n",
       " Text(0, 0.5, 'peso do bêbe(pounds)')]"
      ]
     },
     "execution_count": 45,
     "metadata": {},
     "output_type": "execute_result"
    },
    {
     "data": {
      "image/png": "[encoded data removed]",
      "text/plain": [
       "<Figure size 432x288 with 1 Axes>"
      ]
     },
     "metadata": {
      "needs_background": "light"
     },
     "output_type": "display_data"
    }
   ],
   "source": [
    "ax = sns.scatterplot(data=births_df, x=\"weeks\", y=\"weight\", hue=\"habit\", palette=\"deep\")\n",
    "ax.set(xlabel=\"Tempo de gravidez(semanas)\", ylabel=\"peso do bêbe(pounds)\")"
   ]
  },
  {
   "cell_type": "markdown",
   "id": "opening-insight",
   "metadata": {},
   "source": [
    "Analisando os dois gráficos é evidente que o fumo influência no peso do bebê pois a maioria dos casos de bebês com pouco peso são de gestantes fumantes."
   ]
  },
  {
   "cell_type": "markdown",
   "id": "textile-syria",
   "metadata": {},
   "source": [
    "#### 2) Bebês prematuro podem nascer com peso acima de 6 pounds?"
   ]
  },
  {
   "cell_type": "code",
   "execution_count": 48,
   "id": "suffering-virginia",
   "metadata": {},
   "outputs": [
    {
     "data": {
      "text/plain": [
       "[Text(0.5, 0, 'Tempo de gravidez(semanas)'),\n",
       " Text(0, 0.5, 'peso do bêbe(pounds)')]"
      ]
     },
     "execution_count": 48,
     "metadata": {},
     "output_type": "execute_result"
    },
    {
     "data": {
      "image/png": "[encoded data removed]",
      "text/plain": [
       "<Figure size 432x288 with 1 Axes>"
      ]
     },
     "metadata": {
      "needs_background": "light"
     },
     "output_type": "display_data"
    }
   ],
   "source": [
    "ax = sns.scatterplot(data=births_df, x=\"weeks\", y=\"weight\", hue=\"premie\")\n",
    "ax.set(xlabel=\"Tempo de gravidez(semanas)\", ylabel=\"peso do bêbe(pounds)\")"
   ]
  },
  {
   "cell_type": "code",
   "execution_count": 49,
   "id": "refined-salvation",
   "metadata": {},
   "outputs": [
    {
     "data": {
      "text/plain": [
       "[Text(0.5, 0, 'Tempo de gravidez(semanas)'),\n",
       " Text(0, 0.5, 'peso do bêbe(pounds)')]"
      ]
     },
     "execution_count": 49,
     "metadata": {},
     "output_type": "execute_result"
    },
    {
     "data": {
      "image/png": "[encoded data removed]",
      "text/plain": [
       "<Figure size 432x288 with 1 Axes>"
      ]
     },
     "metadata": {
      "needs_background": "light"
     },
     "output_type": "display_data"
    }
   ],
   "source": [
    "ax = sns.scatterplot(data=births_df, x=\"weeks\", y=\"weight\", hue=\"lowbirthweight\", alpha=0.5)\n",
    "ax.set(xlabel=\"Tempo de gravidez(semanas)\", ylabel=\"peso do bêbe(pounds)\")"
   ]
  },
  {
   "cell_type": "markdown",
   "id": "neither-terror",
   "metadata": {},
   "source": [
    "Ainda analisando os gráficos anteriores e possível perceber que sim, um bebê pode nascer acima de 6 pounds e ser prematuro."
   ]
  },
  {
   "cell_type": "markdown",
   "id": "aquatic-council",
   "metadata": {},
   "source": [
    "#### 3) Segundo o dataset 3 qual o ano que conteve a maior quantidades com casos de bebês prematuros?"
   ]
  },
  {
   "cell_type": "code",
   "execution_count": 52,
   "id": "falling-mattress",
   "metadata": {},
   "outputs": [
    {
     "data": {
      "text/plain": [
       "[Text(0.5, 0, 'Ano da gravidez'),\n",
       " Text(0, 0.5, 'Porcentagem de bêbes com baixo peso')]"
      ]
     },
     "execution_count": 52,
     "metadata": {},
     "output_type": "execute_result"
    },
    {
     "data": {
      "image/png": "[encoded data removed]",
      "text/plain": [
       "<Figure size 432x288 with 1 Axes>"
      ]
     },
     "metadata": {
      "needs_background": "light"
     },
     "output_type": "display_data"
    }
   ],
   "source": [
    "ax = sns.scatterplot(data=lowbirth_df, x=\"Reporting period\", y=\"Indicator value\", alpha=0.5)\n",
    "ax.set(xlabel=\"Ano da gravidez\", ylabel=\"Porcentagem de bêbes com baixo peso\")"
   ]
  },
  {
   "cell_type": "code",
   "execution_count": 71,
   "id": "dangerous-induction",
   "metadata": {
    "scrolled": true
   },
   "outputs": [
    {
     "data": {
      "text/plain": [
       "Reporting period      210\n",
       "Period of coverage    210\n",
       "Indicator value       210\n",
       "CI lower              210\n",
       "CI upper              210\n",
       "Denominator           210\n",
       "Numerator             210\n",
       "dtype: int64"
      ]
     },
     "execution_count": 71,
     "metadata": {},
     "output_type": "execute_result"
    }
   ],
   "source": [
    "lowbirth_df[lowbirth_df['Reporting period'] == 2015].count()"
   ]
  },
  {
   "cell_type": "markdown",
   "id": "institutional-earthquake",
   "metadata": {},
   "source": [
    "A quantidade de casos prematuros em 2013, 2014, 2015 são iguais, em 2016 e 2017 ouve uma queda nessa porcentagem."
   ]
  },
  {
   "cell_type": "markdown",
   "id": "thirty-separation",
   "metadata": {},
   "source": [
    "#### 4) É mais comum entre as mães mais jovem terem filho prematuro?"
   ]
  },
  {
   "cell_type": "code",
   "execution_count": 73,
   "id": "human-railway",
   "metadata": {},
   "outputs": [
    {
     "data": {
      "text/plain": [
       "<seaborn.axisgrid.FacetGrid at 0x17f51eab0d0>"
      ]
     },
     "execution_count": 73,
     "metadata": {},
     "output_type": "execute_result"
    },
    {
     "data": {
      "image/png": "[encoded data removed]",
      "text/plain": [
       "<Figure size 360x360 with 1 Axes>"
      ]
     },
     "metadata": {
      "needs_background": "light"
     },
     "output_type": "display_data"
    }
   ],
   "source": [
    "sns.displot(births_df, x=\"mage\", binwidth=1)"
   ]
  },
  {
   "cell_type": "code",
   "execution_count": 75,
   "id": "alternative-money",
   "metadata": {},
   "outputs": [
    {
     "data": {
      "text/plain": [
       "<seaborn.axisgrid.FacetGrid at 0x17f53426460>"
      ]
     },
     "execution_count": 75,
     "metadata": {},
     "output_type": "execute_result"
    },
    {
     "data": {
      "image/png": "[encoded data removed]",
      "text/plain": [
       "<Figure size 360x360 with 1 Axes>"
      ]
     },
     "metadata": {
      "needs_background": "light"
     },
     "output_type": "display_data"
    }
   ],
   "source": [
    "sns.displot(babies_df, x=\"age\", binwidth=1)"
   ]
  },
  {
   "cell_type": "markdown",
   "id": "spare-australia",
   "metadata": {},
   "source": [
    "Ou seja, não é. Pois a maior quantidade de mães esta entre 20 a 35 anos de idade."
   ]
  },
  {
   "cell_type": "markdown",
   "id": "motivated-somewhere",
   "metadata": {},
   "source": [
    "#### 5) A primeira gravidez tem relação a prematuridade?"
   ]
  },
  {
   "cell_type": "code",
   "execution_count": 79,
   "id": "local-essay",
   "metadata": {},
   "outputs": [
    {
     "data": {
      "text/plain": [
       "[Text(0.5, 0, 'Peso do bebê(onças)'), Text(0, 0.5, 'Tempo de gestação(dias)')]"
      ]
     },
     "execution_count": 79,
     "metadata": {},
     "output_type": "execute_result"
    },
    {
     "data": {
      "image/png": "[encoded data removed]",
      "text/plain": [
       "<Figure size 432x288 with 1 Axes>"
      ]
     },
     "metadata": {
      "needs_background": "light"
     },
     "output_type": "display_data"
    }
   ],
   "source": [
    "ax = sns.scatterplot(data=babies_df, x=\"bwt\", y=\"gestation\", hue=\"parity\", alpha=0.7)\n",
    "ax.set(xlabel=\"Peso do bebê(onças)\", ylabel=\"Tempo de gestação(dias)\")"
   ]
  },
  {
   "cell_type": "markdown",
   "id": "exceptional-eleven",
   "metadata": {},
   "source": [
    "Aparentemente não existe nenhuma relação entre peso e primeira gravidez da gestante."
   ]
  },
  {
   "cell_type": "markdown",
   "id": "close-vienna",
   "metadata": {},
   "source": [
    " <font color=red>__Conclusão:__</font> Logo concluimos que, existem diversos fatores que podem ou não influência a prematuridade. Em certos casos, é algo bem visivel como por exemplo o fumo durante a gravidez, mas em outros casos nem tanto, como por exemplo na questão de idade da gestante, nem sempre mães mais jovens ou de certa idade teram mais chance de terem filhos prematuros. Por fim, é valido resaltar que este tipo de estudo ajuda muito em diversas areas, estudo este que pode acabar salvando vidas, ou apenas dando certo tipo de orientação para uma comunidade."
   ]
  }
 ],
 "metadata": {
  "kernelspec": {
   "display_name": "Python 3",
   "language": "python",
   "name": "python3"
  },
  "language_info": {
   "codemirror_mode": {
    "name": "ipython",
    "version": 3
   },
   "file_extension": ".py",
   "mimetype": "text/x-python",
   "name": "python",
   "nbconvert_exporter": "python",
   "pygments_lexer": "ipython3",
   "version": "3.9.2"
  }
 },
 "nbformat": 4,
 "nbformat_minor": 5
}
